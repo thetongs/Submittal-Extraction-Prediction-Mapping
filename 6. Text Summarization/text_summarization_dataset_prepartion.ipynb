{
 "cells": [
  {
   "cell_type": "code",
   "execution_count": 81,
   "metadata": {},
   "outputs": [],
   "source": [
    "# Load Libraries\n",
    "import pandas as pd\n",
    "import matplotlib.pyplot as plt\n",
    "import pickle\n",
    "from sklearn import metrics\n",
    "import seaborn as sns\n",
    "import matplotlib.pyplot as plt\n",
    "import warnings\n",
    "warnings.filterwarnings('ignore')"
   ]
  },
  {
   "cell_type": "code",
   "execution_count": 82,
   "metadata": {},
   "outputs": [],
   "source": [
    "# Load Both Dataset\n",
    "dataset_pype = pd.read_excel('Dataset/Catalent BWI.xlsx', dtype = object, engine = 'openpyxl')\n",
    "dataset_production = pd.read_excel('Dataset/Catalent BWI - Submittal Log.xlsx', dtype = object, engine = 'openpyxl')"
   ]
  },
  {
   "cell_type": "code",
   "execution_count": 84,
   "metadata": {},
   "outputs": [
    {
     "data": {
      "text/html": [
       "<div>\n",
       "<style scoped>\n",
       "    .dataframe tbody tr th:only-of-type {\n",
       "        vertical-align: middle;\n",
       "    }\n",
       "\n",
       "    .dataframe tbody tr th {\n",
       "        vertical-align: top;\n",
       "    }\n",
       "\n",
       "    .dataframe thead th {\n",
       "        text-align: right;\n",
       "    }\n",
       "</style>\n",
       "<table border=\"1\" class=\"dataframe\">\n",
       "  <thead>\n",
       "    <tr style=\"text-align: right;\">\n",
       "      <th></th>\n",
       "      <th>S. No.</th>\n",
       "      <th>Spec #</th>\n",
       "      <th>Spec Name</th>\n",
       "      <th>Para</th>\n",
       "      <th>Sub Section Heading</th>\n",
       "      <th>Submittal Type</th>\n",
       "      <th>Submittal Description</th>\n",
       "      <th>Target Date</th>\n",
       "      <th>Subcontractor</th>\n",
       "    </tr>\n",
       "  </thead>\n",
       "  <tbody>\n",
       "    <tr>\n",
       "      <th>0</th>\n",
       "      <td>44</td>\n",
       "      <td>024119</td>\n",
       "      <td>SELECTIVE DEMOLITION</td>\n",
       "      <td>1.10-A</td>\n",
       "      <td>WARRANTY</td>\n",
       "      <td>Warranty</td>\n",
       "      <td>Existing Warranties : Remove, replace, patch, ...</td>\n",
       "      <td>NaN</td>\n",
       "      <td>NaN</td>\n",
       "    </tr>\n",
       "    <tr>\n",
       "      <th>1</th>\n",
       "      <td>45</td>\n",
       "      <td>024119</td>\n",
       "      <td>SELECTIVE DEMOLITION</td>\n",
       "      <td>1.10-B</td>\n",
       "      <td>WARRANTY</td>\n",
       "      <td>Warranty</td>\n",
       "      <td>Notify warrantor on completion of selective de...</td>\n",
       "      <td>NaN</td>\n",
       "      <td>NaN</td>\n",
       "    </tr>\n",
       "    <tr>\n",
       "      <th>2</th>\n",
       "      <td>36</td>\n",
       "      <td>024119</td>\n",
       "      <td>SELECTIVE DEMOLITION</td>\n",
       "      <td>1.5-A</td>\n",
       "      <td>PREINSTALLATION MEETINGS</td>\n",
       "      <td>Meetings</td>\n",
       "      <td>Predemolition Conference : Conduct conference ...</td>\n",
       "      <td>NaN</td>\n",
       "      <td>NaN</td>\n",
       "    </tr>\n",
       "    <tr>\n",
       "      <th>3</th>\n",
       "      <td>37</td>\n",
       "      <td>024119</td>\n",
       "      <td>SELECTIVE DEMOLITION</td>\n",
       "      <td>1.6-A</td>\n",
       "      <td>INFORMATIONAL SUBMITTALS</td>\n",
       "      <td>Measurements</td>\n",
       "      <td>Proposed Protection Measures : Submit report, ...</td>\n",
       "      <td>NaN</td>\n",
       "      <td>NaN</td>\n",
       "    </tr>\n",
       "    <tr>\n",
       "      <th>4</th>\n",
       "      <td>38</td>\n",
       "      <td>024119</td>\n",
       "      <td>SELECTIVE DEMOLITION</td>\n",
       "      <td>1.6-B</td>\n",
       "      <td>INFORMATIONAL SUBMITTALS</td>\n",
       "      <td>Schedules</td>\n",
       "      <td>Schedule of Selective Demolition Activities : ...</td>\n",
       "      <td>NaN</td>\n",
       "      <td>NaN</td>\n",
       "    </tr>\n",
       "  </tbody>\n",
       "</table>\n",
       "</div>"
      ],
      "text/plain": [
       "  S. No.  Spec #             Spec Name    Para       Sub Section Heading  \\\n",
       "0     44  024119  SELECTIVE DEMOLITION  1.10-A                  WARRANTY   \n",
       "1     45  024119  SELECTIVE DEMOLITION  1.10-B                  WARRANTY   \n",
       "2     36  024119  SELECTIVE DEMOLITION   1.5-A  PREINSTALLATION MEETINGS   \n",
       "3     37  024119  SELECTIVE DEMOLITION   1.6-A  INFORMATIONAL SUBMITTALS   \n",
       "4     38  024119  SELECTIVE DEMOLITION   1.6-B  INFORMATIONAL SUBMITTALS   \n",
       "\n",
       "  Submittal Type                              Submittal Description  \\\n",
       "0       Warranty  Existing Warranties : Remove, replace, patch, ...   \n",
       "1       Warranty  Notify warrantor on completion of selective de...   \n",
       "2       Meetings  Predemolition Conference : Conduct conference ...   \n",
       "3   Measurements  Proposed Protection Measures : Submit report, ...   \n",
       "4      Schedules  Schedule of Selective Demolition Activities : ...   \n",
       "\n",
       "  Target Date Subcontractor  \n",
       "0         NaN           NaN  \n",
       "1         NaN           NaN  \n",
       "2         NaN           NaN  \n",
       "3         NaN           NaN  \n",
       "4         NaN           NaN  "
      ]
     },
     "execution_count": 84,
     "metadata": {},
     "output_type": "execute_result"
    }
   ],
   "source": [
    "# Pype Dataset\n",
    "dataset_pype.head()"
   ]
  },
  {
   "cell_type": "code",
   "execution_count": 85,
   "metadata": {},
   "outputs": [
    {
     "data": {
      "text/html": [
       "<div>\n",
       "<style scoped>\n",
       "    .dataframe tbody tr th:only-of-type {\n",
       "        vertical-align: middle;\n",
       "    }\n",
       "\n",
       "    .dataframe tbody tr th {\n",
       "        vertical-align: top;\n",
       "    }\n",
       "\n",
       "    .dataframe thead th {\n",
       "        text-align: right;\n",
       "    }\n",
       "</style>\n",
       "<table border=\"1\" class=\"dataframe\">\n",
       "  <thead>\n",
       "    <tr style=\"text-align: right;\">\n",
       "      <th></th>\n",
       "      <th>Spec #</th>\n",
       "      <th>Para</th>\n",
       "      <th>Submittal Type</th>\n",
       "      <th>Submittal Description</th>\n",
       "    </tr>\n",
       "  </thead>\n",
       "  <tbody>\n",
       "    <tr>\n",
       "      <th>0</th>\n",
       "      <td>024119</td>\n",
       "      <td>1.10-A</td>\n",
       "      <td>Warranty</td>\n",
       "      <td>Existing Warranties : Remove, replace, patch, ...</td>\n",
       "    </tr>\n",
       "    <tr>\n",
       "      <th>1</th>\n",
       "      <td>024119</td>\n",
       "      <td>1.10-B</td>\n",
       "      <td>Warranty</td>\n",
       "      <td>Notify warrantor on completion of selective de...</td>\n",
       "    </tr>\n",
       "    <tr>\n",
       "      <th>2</th>\n",
       "      <td>024119</td>\n",
       "      <td>1.5-A</td>\n",
       "      <td>Meetings</td>\n",
       "      <td>Predemolition Conference : Conduct conference ...</td>\n",
       "    </tr>\n",
       "    <tr>\n",
       "      <th>3</th>\n",
       "      <td>024119</td>\n",
       "      <td>1.6-A</td>\n",
       "      <td>Measurements</td>\n",
       "      <td>Proposed Protection Measures : Submit report, ...</td>\n",
       "    </tr>\n",
       "    <tr>\n",
       "      <th>4</th>\n",
       "      <td>024119</td>\n",
       "      <td>1.6-B</td>\n",
       "      <td>Schedules</td>\n",
       "      <td>Schedule of Selective Demolition Activities : ...</td>\n",
       "    </tr>\n",
       "  </tbody>\n",
       "</table>\n",
       "</div>"
      ],
      "text/plain": [
       "   Spec #    Para Submittal Type  \\\n",
       "0  024119  1.10-A       Warranty   \n",
       "1  024119  1.10-B       Warranty   \n",
       "2  024119   1.5-A       Meetings   \n",
       "3  024119   1.6-A   Measurements   \n",
       "4  024119   1.6-B      Schedules   \n",
       "\n",
       "                               Submittal Description  \n",
       "0  Existing Warranties : Remove, replace, patch, ...  \n",
       "1  Notify warrantor on completion of selective de...  \n",
       "2  Predemolition Conference : Conduct conference ...  \n",
       "3  Proposed Protection Measures : Submit report, ...  \n",
       "4  Schedule of Selective Demolition Activities : ...  "
      ]
     },
     "execution_count": 85,
     "metadata": {},
     "output_type": "execute_result"
    }
   ],
   "source": [
    "# Remove Unwanted Features\n",
    "dataset_pype = dataset_pype.drop(columns = dataset_pype.columns[[0, 2, 4, 7, 8]])\n",
    "dataset_pype.head()"
   ]
  },
  {
   "cell_type": "code",
   "execution_count": 86,
   "metadata": {},
   "outputs": [
    {
     "data": {
      "text/html": [
       "<div>\n",
       "<style scoped>\n",
       "    .dataframe tbody tr th:only-of-type {\n",
       "        vertical-align: middle;\n",
       "    }\n",
       "\n",
       "    .dataframe tbody tr th {\n",
       "        vertical-align: top;\n",
       "    }\n",
       "\n",
       "    .dataframe thead th {\n",
       "        text-align: right;\n",
       "    }\n",
       "</style>\n",
       "<table border=\"1\" class=\"dataframe\">\n",
       "  <thead>\n",
       "    <tr style=\"text-align: right;\">\n",
       "      <th></th>\n",
       "      <th>Spec Section Number</th>\n",
       "      <th>Spec Sub Section</th>\n",
       "      <th>Submittal Type</th>\n",
       "      <th>Submittal Description</th>\n",
       "    </tr>\n",
       "  </thead>\n",
       "  <tbody>\n",
       "    <tr>\n",
       "      <th>0</th>\n",
       "      <td>024119</td>\n",
       "      <td>1.10-A</td>\n",
       "      <td>Warranty</td>\n",
       "      <td>Existing Warranties : Remove, replace, patch, ...</td>\n",
       "    </tr>\n",
       "    <tr>\n",
       "      <th>1</th>\n",
       "      <td>024119</td>\n",
       "      <td>1.10-B</td>\n",
       "      <td>Warranty</td>\n",
       "      <td>Notify warrantor on completion of selective de...</td>\n",
       "    </tr>\n",
       "    <tr>\n",
       "      <th>2</th>\n",
       "      <td>024119</td>\n",
       "      <td>1.5-A</td>\n",
       "      <td>Meetings</td>\n",
       "      <td>Predemolition Conference : Conduct conference ...</td>\n",
       "    </tr>\n",
       "    <tr>\n",
       "      <th>3</th>\n",
       "      <td>024119</td>\n",
       "      <td>1.6-A</td>\n",
       "      <td>Measurements</td>\n",
       "      <td>Proposed Protection Measures : Submit report, ...</td>\n",
       "    </tr>\n",
       "    <tr>\n",
       "      <th>4</th>\n",
       "      <td>024119</td>\n",
       "      <td>1.6-B</td>\n",
       "      <td>Schedules</td>\n",
       "      <td>Schedule of Selective Demolition Activities : ...</td>\n",
       "    </tr>\n",
       "  </tbody>\n",
       "</table>\n",
       "</div>"
      ],
      "text/plain": [
       "  Spec Section Number Spec Sub Section Submittal Type  \\\n",
       "0              024119           1.10-A       Warranty   \n",
       "1              024119           1.10-B       Warranty   \n",
       "2              024119            1.5-A       Meetings   \n",
       "3              024119            1.6-A   Measurements   \n",
       "4              024119            1.6-B      Schedules   \n",
       "\n",
       "                               Submittal Description  \n",
       "0  Existing Warranties : Remove, replace, patch, ...  \n",
       "1  Notify warrantor on completion of selective de...  \n",
       "2  Predemolition Conference : Conduct conference ...  \n",
       "3  Proposed Protection Measures : Submit report, ...  \n",
       "4  Schedule of Selective Demolition Activities : ...  "
      ]
     },
     "execution_count": 86,
     "metadata": {},
     "output_type": "execute_result"
    }
   ],
   "source": [
    "# Change Column Names\n",
    "dataset_pype.columns = ['Spec Section Number', 'Spec Sub Section', 'Submittal Type', 'Submittal Description']\n",
    "dataset_pype.head()"
   ]
  },
  {
   "cell_type": "code",
   "execution_count": 87,
   "metadata": {},
   "outputs": [],
   "source": [
    "# Remove Unwanted Records\n",
    "dataset_pype.drop(dataset_pype.index[641:654], inplace = True)\n",
    "dataset_pype.reset_index(inplace = True, drop = True)\n",
    "dataset_pype.drop(dataset_pype.index[691:693], inplace = True)\n",
    "dataset_pype.reset_index(inplace = True, drop = True)\n",
    "dataset_pype.drop(dataset_pype.index[662:663], inplace = True)\n",
    "dataset_pype.reset_index(inplace = True, drop = True)"
   ]
  },
  {
   "cell_type": "code",
   "execution_count": 88,
   "metadata": {},
   "outputs": [
    {
     "name": "stdout",
     "output_type": "stream",
     "text": [
      "['As-Builts', 'Attic Stock', 'Certificates', 'Certifications', 'Cold-Weather And Hot-Weather Procedures', 'Construction Joint Layout', 'Coordination Drawings', 'Delegated-Design Submittal', 'Drawings', 'Fabrication', 'General', 'Inventory', 'Keying Schedule', 'Landfill Records', 'Maintenance Data', 'Maintenance Service', 'Manufacturers Instructions', 'Manufacturers Warranty', 'Measurements', 'Meeting Minutes', 'Meetings', 'Mix Design', 'Mockups', 'O&M Manuals', 'O&M Training And Demonstration', 'Performance Data', 'Photos', 'Product Data', 'Product Schedule', 'Qualification Data', 'Quality-Control Program', 'Reports', 'Sample Warranty', 'Samples', 'Schedules', 'Shop Drawings', 'Special Warranty', 'Statement Of Refrigerant Recovery', 'Temporary Roofing Submittal', 'Test Reports', 'Warranty', 'Wind Uplift Resistance Submittal', 'Wiring Diagram']\n"
     ]
    }
   ],
   "source": [
    "# Check All Submittal Types\n",
    "unique_submittal_types = dataset_pype['Submittal Type'].unique().tolist()\n",
    "unique_submittal_types.sort()\n",
    "print(unique_submittal_types)"
   ]
  },
  {
   "cell_type": "code",
   "execution_count": 89,
   "metadata": {},
   "outputs": [],
   "source": [
    "# Change Wronged Submittal Type\n",
    "\n",
    "def data_correct(row):\n",
    "    sub_tupe = row[2]\n",
    "    if(sub_tupe == 'Certifications'):\n",
    "        return 'Certificates'\n",
    "    else:\n",
    "        return sub_tupe\n",
    "        \n",
    "dataset_pype['Submittal Type'] = dataset_pype.apply(func = data_correct, axis = 1, result_type=\"expand\")"
   ]
  },
  {
   "cell_type": "code",
   "execution_count": 90,
   "metadata": {},
   "outputs": [],
   "source": [
    "# Filter PyPe Dataset\n",
    "options = ['Qualification Data', 'Schedules', 'Meetings', 'Product Data', 'Shop Drawings', 'Samples', 'Reports', \\\n",
    "    'Mockups', 'Certificates', 'Test Reports', 'Mix Design', 'General', 'As-Builts', 'O&M Training And Demonstration', \\\n",
    "    'Coordination Drawings', 'Calculations']\n",
    "\n",
    "dataset_pype = dataset_pype[dataset_pype['Submittal Type'].isin(options)]"
   ]
  },
  {
   "cell_type": "code",
   "execution_count": 91,
   "metadata": {},
   "outputs": [
    {
     "name": "stdout",
     "output_type": "stream",
     "text": [
      "['As-Builts', 'Certificates', 'Coordination Drawings', 'General', 'Meetings', 'Mix Design', 'Mockups', 'O&M Training And Demonstration', 'Product Data', 'Qualification Data', 'Reports', 'Samples', 'Schedules', 'Shop Drawings', 'Test Reports']\n"
     ]
    }
   ],
   "source": [
    "unique_submittal_types = dataset_pype['Submittal Type'].unique().tolist()\n",
    "unique_submittal_types.sort()\n",
    "print(unique_submittal_types)"
   ]
  },
  {
   "cell_type": "code",
   "execution_count": 92,
   "metadata": {},
   "outputs": [
    {
     "data": {
      "image/png": "[encoded data removed]",
      "text/plain": [
       "<Figure size 720x504 with 1 Axes>"
      ]
     },
     "metadata": {
      "needs_background": "light"
     },
     "output_type": "display_data"
    }
   ],
   "source": [
    "# Count Plot\n",
    "plt.figure(figsize = (10,7))\n",
    "sns.countplot(data = dataset_pype,\n",
    "                x = 'Submittal Type',\n",
    "                order = dataset_pype['Submittal Type'].value_counts().index)\n",
    "\n",
    "plt.xticks(rotation = 90)\n",
    "plt.show()"
   ]
  },
  {
   "cell_type": "code",
   "execution_count": 93,
   "metadata": {},
   "outputs": [],
   "source": [
    "# dataset_pype.to_excel('PYPE_Filtered_dataset.xlsx')"
   ]
  },
  {
   "cell_type": "code",
   "execution_count": 94,
   "metadata": {},
   "outputs": [
    {
     "data": {
      "text/html": [
       "<div>\n",
       "<style scoped>\n",
       "    .dataframe tbody tr th:only-of-type {\n",
       "        vertical-align: middle;\n",
       "    }\n",
       "\n",
       "    .dataframe tbody tr th {\n",
       "        vertical-align: top;\n",
       "    }\n",
       "\n",
       "    .dataframe thead th {\n",
       "        text-align: right;\n",
       "    }\n",
       "</style>\n",
       "<table border=\"1\" class=\"dataframe\">\n",
       "  <thead>\n",
       "    <tr style=\"text-align: right;\">\n",
       "      <th></th>\n",
       "      <th>Submittal Name</th>\n",
       "      <th>Unnamed: 1</th>\n",
       "      <th>Spec Section Number</th>\n",
       "      <th>Spec Sub Section</th>\n",
       "      <th>No. of Copies</th>\n",
       "      <th>Type Code</th>\n",
       "      <th>Preparation By Company Code</th>\n",
       "      <th>Preparation By Contact Code</th>\n",
       "      <th>Approved by Company Code</th>\n",
       "      <th>Approved by Contact Code</th>\n",
       "      <th>...</th>\n",
       "      <th>Forwarded to Company Code</th>\n",
       "      <th>Forward to Contact code</th>\n",
       "      <th>Activity Start Date</th>\n",
       "      <th>Delivery Lead Time</th>\n",
       "      <th>Fabrication Lead Time</th>\n",
       "      <th>Float Lead Time</th>\n",
       "      <th>Approval Lead Time</th>\n",
       "      <th>Review Lead Time</th>\n",
       "      <th>Preparation Lead Time</th>\n",
       "      <th>Procurement Flag</th>\n",
       "    </tr>\n",
       "  </thead>\n",
       "  <tbody>\n",
       "    <tr>\n",
       "      <th>0</th>\n",
       "      <td>Polished Concrete Finishing_Polishing</td>\n",
       "      <td>yes</td>\n",
       "      <td>033543</td>\n",
       "      <td>1.4-B</td>\n",
       "      <td>Polishing Schedule : Submit plan showing polis...</td>\n",
       "      <td>Schedule</td>\n",
       "      <td>Schedule</td>\n",
       "      <td>NaN</td>\n",
       "      <td>NaN</td>\n",
       "      <td>NaN</td>\n",
       "      <td>...</td>\n",
       "      <td>NaN</td>\n",
       "      <td>NaN</td>\n",
       "      <td>NaN</td>\n",
       "      <td>NaN</td>\n",
       "      <td>NaN</td>\n",
       "      <td>NaN</td>\n",
       "      <td>NaN</td>\n",
       "      <td>NaN</td>\n",
       "      <td>NaN</td>\n",
       "      <td>NaN</td>\n",
       "    </tr>\n",
       "    <tr>\n",
       "      <th>1</th>\n",
       "      <td>Polished Concrete Finishing_Product Requiring ...</td>\n",
       "      <td>yes</td>\n",
       "      <td>033543</td>\n",
       "      <td>1.4-C</td>\n",
       "      <td>NaN</td>\n",
       "      <td>Sample</td>\n",
       "      <td>NaN</td>\n",
       "      <td>NaN</td>\n",
       "      <td>NaN</td>\n",
       "      <td>NaN</td>\n",
       "      <td>...</td>\n",
       "      <td>NaN</td>\n",
       "      <td>NaN</td>\n",
       "      <td>NaN</td>\n",
       "      <td>NaN</td>\n",
       "      <td>NaN</td>\n",
       "      <td>NaN</td>\n",
       "      <td>NaN</td>\n",
       "      <td>NaN</td>\n",
       "      <td>NaN</td>\n",
       "      <td>NaN</td>\n",
       "    </tr>\n",
       "    <tr>\n",
       "      <th>2</th>\n",
       "      <td>Polished Concrete Finishing_Installer_Informat...</td>\n",
       "      <td>yes</td>\n",
       "      <td>033543</td>\n",
       "      <td>1.5-A</td>\n",
       "      <td>NaN</td>\n",
       "      <td>Qualifications</td>\n",
       "      <td>NaN</td>\n",
       "      <td>NaN</td>\n",
       "      <td>NaN</td>\n",
       "      <td>NaN</td>\n",
       "      <td>...</td>\n",
       "      <td>NaN</td>\n",
       "      <td>NaN</td>\n",
       "      <td>NaN</td>\n",
       "      <td>NaN</td>\n",
       "      <td>NaN</td>\n",
       "      <td>NaN</td>\n",
       "      <td>NaN</td>\n",
       "      <td>NaN</td>\n",
       "      <td>NaN</td>\n",
       "      <td>NaN</td>\n",
       "    </tr>\n",
       "    <tr>\n",
       "      <th>3</th>\n",
       "      <td>Polished Concrete Finishing_Repair Materials_I...</td>\n",
       "      <td>yes</td>\n",
       "      <td>033543</td>\n",
       "      <td>1.5-B-1</td>\n",
       "      <td>NaN</td>\n",
       "      <td>Certificate</td>\n",
       "      <td>NaN</td>\n",
       "      <td>NaN</td>\n",
       "      <td>NaN</td>\n",
       "      <td>NaN</td>\n",
       "      <td>...</td>\n",
       "      <td>NaN</td>\n",
       "      <td>NaN</td>\n",
       "      <td>NaN</td>\n",
       "      <td>NaN</td>\n",
       "      <td>NaN</td>\n",
       "      <td>NaN</td>\n",
       "      <td>NaN</td>\n",
       "      <td>NaN</td>\n",
       "      <td>NaN</td>\n",
       "      <td>NaN</td>\n",
       "    </tr>\n",
       "    <tr>\n",
       "      <th>4</th>\n",
       "      <td>Polished Concrete Finishing_Stain Materials_In...</td>\n",
       "      <td>yes</td>\n",
       "      <td>033543</td>\n",
       "      <td>1.5-B-2</td>\n",
       "      <td>NaN</td>\n",
       "      <td>Certificate</td>\n",
       "      <td>NaN</td>\n",
       "      <td>NaN</td>\n",
       "      <td>NaN</td>\n",
       "      <td>NaN</td>\n",
       "      <td>...</td>\n",
       "      <td>NaN</td>\n",
       "      <td>NaN</td>\n",
       "      <td>NaN</td>\n",
       "      <td>NaN</td>\n",
       "      <td>NaN</td>\n",
       "      <td>NaN</td>\n",
       "      <td>NaN</td>\n",
       "      <td>NaN</td>\n",
       "      <td>NaN</td>\n",
       "      <td>NaN</td>\n",
       "    </tr>\n",
       "  </tbody>\n",
       "</table>\n",
       "<p>5 rows × 22 columns</p>\n",
       "</div>"
      ],
      "text/plain": [
       "                                      Submittal Name Unnamed: 1  \\\n",
       "0              Polished Concrete Finishing_Polishing        yes   \n",
       "1  Polished Concrete Finishing_Product Requiring ...        yes   \n",
       "2  Polished Concrete Finishing_Installer_Informat...        yes   \n",
       "3  Polished Concrete Finishing_Repair Materials_I...        yes   \n",
       "4  Polished Concrete Finishing_Stain Materials_In...        yes   \n",
       "\n",
       "  Spec Section Number Spec Sub Section  \\\n",
       "0              033543            1.4-B   \n",
       "1              033543            1.4-C   \n",
       "2              033543            1.5-A   \n",
       "3              033543          1.5-B-1   \n",
       "4              033543          1.5-B-2   \n",
       "\n",
       "                                       No. of Copies       Type Code  \\\n",
       "0  Polishing Schedule : Submit plan showing polis...        Schedule   \n",
       "1                                                NaN          Sample   \n",
       "2                                                NaN  Qualifications   \n",
       "3                                                NaN     Certificate   \n",
       "4                                                NaN     Certificate   \n",
       "\n",
       "  Preparation By Company Code Preparation By Contact Code  \\\n",
       "0                    Schedule                         NaN   \n",
       "1                         NaN                         NaN   \n",
       "2                         NaN                         NaN   \n",
       "3                         NaN                         NaN   \n",
       "4                         NaN                         NaN   \n",
       "\n",
       "  Approved by Company Code Approved by Contact Code  ...  \\\n",
       "0                      NaN                      NaN  ...   \n",
       "1                      NaN                      NaN  ...   \n",
       "2                      NaN                      NaN  ...   \n",
       "3                      NaN                      NaN  ...   \n",
       "4                      NaN                      NaN  ...   \n",
       "\n",
       "  Forwarded to Company Code Forward to Contact code Activity Start Date  \\\n",
       "0                       NaN                     NaN                 NaN   \n",
       "1                       NaN                     NaN                 NaN   \n",
       "2                       NaN                     NaN                 NaN   \n",
       "3                       NaN                     NaN                 NaN   \n",
       "4                       NaN                     NaN                 NaN   \n",
       "\n",
       "  Delivery Lead Time Fabrication Lead Time Float Lead Time Approval Lead Time  \\\n",
       "0                NaN                   NaN             NaN                NaN   \n",
       "1                NaN                   NaN             NaN                NaN   \n",
       "2                NaN                   NaN             NaN                NaN   \n",
       "3                NaN                   NaN             NaN                NaN   \n",
       "4                NaN                   NaN             NaN                NaN   \n",
       "\n",
       "  Review Lead Time Preparation Lead Time Procurement Flag  \n",
       "0              NaN                   NaN              NaN  \n",
       "1              NaN                   NaN              NaN  \n",
       "2              NaN                   NaN              NaN  \n",
       "3              NaN                   NaN              NaN  \n",
       "4              NaN                   NaN              NaN  \n",
       "\n",
       "[5 rows x 22 columns]"
      ]
     },
     "execution_count": 94,
     "metadata": {},
     "output_type": "execute_result"
    }
   ],
   "source": [
    "# Production Dataset\n",
    "dataset_production.head()"
   ]
  },
  {
   "cell_type": "code",
   "execution_count": 95,
   "metadata": {},
   "outputs": [],
   "source": [
    "# Remove Unwanted Features\n",
    "dataset_production = dataset_production[dataset_production.columns[[0, 2, 3, 5]]]"
   ]
  },
  {
   "cell_type": "code",
   "execution_count": 96,
   "metadata": {},
   "outputs": [
    {
     "data": {
      "text/html": [
       "<div>\n",
       "<style scoped>\n",
       "    .dataframe tbody tr th:only-of-type {\n",
       "        vertical-align: middle;\n",
       "    }\n",
       "\n",
       "    .dataframe tbody tr th {\n",
       "        vertical-align: top;\n",
       "    }\n",
       "\n",
       "    .dataframe thead th {\n",
       "        text-align: right;\n",
       "    }\n",
       "</style>\n",
       "<table border=\"1\" class=\"dataframe\">\n",
       "  <thead>\n",
       "    <tr style=\"text-align: right;\">\n",
       "      <th></th>\n",
       "      <th>Submittal Name</th>\n",
       "      <th>Spec Section Number</th>\n",
       "      <th>Spec Sub Section</th>\n",
       "      <th>Submittal Type</th>\n",
       "    </tr>\n",
       "  </thead>\n",
       "  <tbody>\n",
       "    <tr>\n",
       "      <th>0</th>\n",
       "      <td>Polished Concrete Finishing_Polishing</td>\n",
       "      <td>033543</td>\n",
       "      <td>1.4-B</td>\n",
       "      <td>Schedule</td>\n",
       "    </tr>\n",
       "    <tr>\n",
       "      <th>1</th>\n",
       "      <td>Polished Concrete Finishing_Product Requiring ...</td>\n",
       "      <td>033543</td>\n",
       "      <td>1.4-C</td>\n",
       "      <td>Sample</td>\n",
       "    </tr>\n",
       "    <tr>\n",
       "      <th>2</th>\n",
       "      <td>Polished Concrete Finishing_Installer_Informat...</td>\n",
       "      <td>033543</td>\n",
       "      <td>1.5-A</td>\n",
       "      <td>Qualifications</td>\n",
       "    </tr>\n",
       "    <tr>\n",
       "      <th>3</th>\n",
       "      <td>Polished Concrete Finishing_Repair Materials_I...</td>\n",
       "      <td>033543</td>\n",
       "      <td>1.5-B-1</td>\n",
       "      <td>Certificate</td>\n",
       "    </tr>\n",
       "    <tr>\n",
       "      <th>4</th>\n",
       "      <td>Polished Concrete Finishing_Stain Materials_In...</td>\n",
       "      <td>033543</td>\n",
       "      <td>1.5-B-2</td>\n",
       "      <td>Certificate</td>\n",
       "    </tr>\n",
       "  </tbody>\n",
       "</table>\n",
       "</div>"
      ],
      "text/plain": [
       "                                      Submittal Name Spec Section Number  \\\n",
       "0              Polished Concrete Finishing_Polishing              033543   \n",
       "1  Polished Concrete Finishing_Product Requiring ...              033543   \n",
       "2  Polished Concrete Finishing_Installer_Informat...              033543   \n",
       "3  Polished Concrete Finishing_Repair Materials_I...              033543   \n",
       "4  Polished Concrete Finishing_Stain Materials_In...              033543   \n",
       "\n",
       "  Spec Sub Section  Submittal Type  \n",
       "0            1.4-B        Schedule  \n",
       "1            1.4-C          Sample  \n",
       "2            1.5-A  Qualifications  \n",
       "3          1.5-B-1     Certificate  \n",
       "4          1.5-B-2     Certificate  "
      ]
     },
     "execution_count": 96,
     "metadata": {},
     "output_type": "execute_result"
    }
   ],
   "source": [
    "# Change Feature Names\n",
    "dataset_production.columns = ['Submittal Name', 'Spec Section Number', 'Spec Sub Section', 'Submittal Type']\n",
    "dataset_production.head()"
   ]
  },
  {
   "cell_type": "code",
   "execution_count": 97,
   "metadata": {},
   "outputs": [
    {
     "name": "stdout",
     "output_type": "stream",
     "text": [
      "['Attic Stock', 'Calculations', 'Certificate', 'Leed Requirements', 'MSDS', 'Maintenance Data', 'Mix Design', 'Procedures', 'Product Data', 'Qualifications', 'Record Drawing', 'Report', 'Sample', 'Schedule', 'Shop Drawings', 'Test Data', 'Warranty', 'product Data', 'report']\n"
     ]
    }
   ],
   "source": [
    "# Check Production Submittal Type\n",
    "unique_submittal_types = dataset_production['Submittal Type'].unique().tolist()\n",
    "unique_submittal_types.sort()\n",
    "print(unique_submittal_types)"
   ]
  },
  {
   "cell_type": "code",
   "execution_count": 98,
   "metadata": {},
   "outputs": [],
   "source": [
    "# Correct Wronged Submittal Types\n",
    "def data_correct(row):\n",
    "    sub_tupe = row[3]\n",
    "    if(sub_tupe == 'Certificate'):\n",
    "        return 'Certificates'\n",
    "    elif(sub_tupe == 'Report'):\n",
    "        return 'Reports'\n",
    "    elif(sub_tupe == 'report'):\n",
    "        return 'Reports'\n",
    "    elif(sub_tupe == 'product Data'):\n",
    "        return 'Product Data'\n",
    "    elif(sub_tupe == 'Schedule'):\n",
    "        return 'Schedules'\n",
    "    elif(sub_tupe == 'Samples'):\n",
    "        return 'Sample'\n",
    "    elif(sub_tupe == 'Qualifications'):\n",
    "        return 'Qualification Data'\n",
    "    else:\n",
    "        return sub_tupe\n",
    "        \n",
    "dataset_production['Submittal Type'] = dataset_production.apply(func = data_correct, axis = 1, result_type=\"expand\")"
   ]
  },
  {
   "cell_type": "code",
   "execution_count": 100,
   "metadata": {},
   "outputs": [],
   "source": [
    "# Filter Production Dataset\n",
    "options = ['Qualification Data', 'Schedules', 'Meetings', 'Product Data', 'Shop Drawings', 'Samples', 'Reports', \\\n",
    "    'Mockups', 'Certificates', 'Test Reports', 'Mix Design', 'General', 'As-Builts', 'O&M Training And Demonstration', \\\n",
    "    'Coordination Drawings', 'Calculations']\n",
    "\n",
    "dataset_production = dataset_production[dataset_production['Submittal Type'].isin(options)]"
   ]
  },
  {
   "cell_type": "code",
   "execution_count": 101,
   "metadata": {},
   "outputs": [
    {
     "name": "stdout",
     "output_type": "stream",
     "text": [
      "['Calculations', 'Certificates', 'Mix Design', 'Product Data', 'Qualification Data', 'Reports', 'Schedules', 'Shop Drawings']\n"
     ]
    }
   ],
   "source": [
    "# Unique Production Submittal Types\n",
    "unique_submittal_types = dataset_production['Submittal Type'].unique().tolist()\n",
    "unique_submittal_types.sort()\n",
    "print(unique_submittal_types)"
   ]
  },
  {
   "cell_type": "code",
   "execution_count": 102,
   "metadata": {},
   "outputs": [
    {
     "data": {
      "image/png": "[encoded data removed]",
      "text/plain": [
       "<Figure size 720x504 with 1 Axes>"
      ]
     },
     "metadata": {
      "needs_background": "light"
     },
     "output_type": "display_data"
    }
   ],
   "source": [
    "# Count Plot\n",
    "plt.figure(figsize = (10,7))\n",
    "sns.countplot(data = dataset_production,\n",
    "                x = 'Submittal Type',\n",
    "                order = dataset_production['Submittal Type'].value_counts().index)\n",
    "\n",
    "plt.xticks(rotation = 90)\n",
    "plt.show()"
   ]
  },
  {
   "cell_type": "code",
   "execution_count": 48,
   "metadata": {},
   "outputs": [
    {
     "data": {
      "text/html": [
       "<div>\n",
       "<style scoped>\n",
       "    .dataframe tbody tr th:only-of-type {\n",
       "        vertical-align: middle;\n",
       "    }\n",
       "\n",
       "    .dataframe tbody tr th {\n",
       "        vertical-align: top;\n",
       "    }\n",
       "\n",
       "    .dataframe thead th {\n",
       "        text-align: right;\n",
       "    }\n",
       "</style>\n",
       "<table border=\"1\" class=\"dataframe\">\n",
       "  <thead>\n",
       "    <tr style=\"text-align: right;\">\n",
       "      <th></th>\n",
       "    </tr>\n",
       "  </thead>\n",
       "  <tbody>\n",
       "  </tbody>\n",
       "</table>\n",
       "</div>"
      ],
      "text/plain": [
       "Empty DataFrame\n",
       "Columns: []\n",
       "Index: []"
      ]
     },
     "execution_count": 48,
     "metadata": {},
     "output_type": "execute_result"
    }
   ],
   "source": [
    "# Empty DataFrame\n",
    "dataset_production_filtered = pd.DataFrame()\n",
    "dataset_production_filtered.head()"
   ]
  },
  {
   "cell_type": "code",
   "execution_count": 49,
   "metadata": {},
   "outputs": [],
   "source": [
    "# Filter and Create New Dataframe In Proper Format \n",
    "def data_filter(row):\n",
    "    spec_section_number = row[3]\n",
    "    spec_subsection = row[4]\n",
    "    submittal_type = row[6]\n",
    "    \n",
    "    previous = \"\"\n",
    "    now = '-'.join(str(spec_subsection).split('-')[0:2])\n",
    "\n",
    "    if(previous == now):\n",
    "        pass\n",
    "    else:\n",
    "        previous = now\n",
    "        return spec_section_number, previous, submittal_type\n",
    "        \n",
    "dataset_production_filtered[['Spec Section Number', 'Spec Sub Section', 'Submittal Type']] = dataset_production.apply(func = data_filter, axis = 1, result_type=\"expand\")\n"
   ]
  },
  {
   "cell_type": "code",
   "execution_count": 50,
   "metadata": {},
   "outputs": [
    {
     "data": {
      "text/html": [
       "<div>\n",
       "<style scoped>\n",
       "    .dataframe tbody tr th:only-of-type {\n",
       "        vertical-align: middle;\n",
       "    }\n",
       "\n",
       "    .dataframe tbody tr th {\n",
       "        vertical-align: top;\n",
       "    }\n",
       "\n",
       "    .dataframe thead th {\n",
       "        text-align: right;\n",
       "    }\n",
       "</style>\n",
       "<table border=\"1\" class=\"dataframe\">\n",
       "  <thead>\n",
       "    <tr style=\"text-align: right;\">\n",
       "      <th></th>\n",
       "      <th>Spec Section Number</th>\n",
       "      <th>Spec Sub Section</th>\n",
       "      <th>Submittal Type</th>\n",
       "    </tr>\n",
       "  </thead>\n",
       "  <tbody>\n",
       "    <tr>\n",
       "      <th>0</th>\n",
       "      <td>1.4-B</td>\n",
       "      <td>Polishing Schedule : Submit plan showing polis...</td>\n",
       "      <td>Schedule</td>\n",
       "    </tr>\n",
       "    <tr>\n",
       "      <th>1</th>\n",
       "      <td>1.4-C</td>\n",
       "      <td>nan</td>\n",
       "      <td>NaN</td>\n",
       "    </tr>\n",
       "    <tr>\n",
       "      <th>2</th>\n",
       "      <td>1.5-A</td>\n",
       "      <td>nan</td>\n",
       "      <td>NaN</td>\n",
       "    </tr>\n",
       "    <tr>\n",
       "      <th>3</th>\n",
       "      <td>1.5-B-1</td>\n",
       "      <td>nan</td>\n",
       "      <td>NaN</td>\n",
       "    </tr>\n",
       "    <tr>\n",
       "      <th>4</th>\n",
       "      <td>1.5-B-2</td>\n",
       "      <td>nan</td>\n",
       "      <td>NaN</td>\n",
       "    </tr>\n",
       "  </tbody>\n",
       "</table>\n",
       "</div>"
      ],
      "text/plain": [
       "  Spec Section Number                                   Spec Sub Section  \\\n",
       "0               1.4-B  Polishing Schedule : Submit plan showing polis...   \n",
       "1               1.4-C                                                nan   \n",
       "2               1.5-A                                                nan   \n",
       "3             1.5-B-1                                                nan   \n",
       "4             1.5-B-2                                                nan   \n",
       "\n",
       "  Submittal Type  \n",
       "0       Schedule  \n",
       "1            NaN  \n",
       "2            NaN  \n",
       "3            NaN  \n",
       "4            NaN  "
      ]
     },
     "execution_count": 50,
     "metadata": {},
     "output_type": "execute_result"
    }
   ],
   "source": [
    "dataset_production_filtered.head()"
   ]
  },
  {
   "cell_type": "code",
   "execution_count": 43,
   "metadata": {},
   "outputs": [],
   "source": [
    "## Filter and Create New Dataframe In Proper Format\n",
    "# \n",
    "def data_filter(row):\n",
    "    spec_section_number = row[0]\n",
    "    if(str(spec_section_number).endswith('.00')):\n",
    "        return int(str(spec_section_number)[0:-3])\n",
    "    else:\n",
    "        return spec_section_number\n",
    "        \n",
    "dataset_production_filtered['Spec Section Number'] = dataset_production_filtered.apply(func = data_filter, axis = 1, result_type=\"expand\")\n"
   ]
  },
  {
   "cell_type": "markdown",
   "metadata": {},
   "source": [
    "### - Change Datatype Of Features"
   ]
  },
  {
   "cell_type": "code",
   "execution_count": 44,
   "metadata": {},
   "outputs": [],
   "source": [
    "## Change DataType Of Feature\n",
    "#\n",
    "dataset_production_filtered['Spec Section Number'] = dataset_production_filtered['Spec Section Number'].astype('float')"
   ]
  },
  {
   "cell_type": "markdown",
   "metadata": {},
   "source": [
    "### - Compare Submittal Type Spellings and Correct Some"
   ]
  },
  {
   "cell_type": "code",
   "execution_count": 45,
   "metadata": {},
   "outputs": [
    {
     "data": {
      "text/plain": [
       "array(['Schedule', 'Sample', 'Qualifications', 'Certificate',\n",
       "       'Product Data', 'Shop Drawings', 'Mix Design', 'Report',\n",
       "       'Procedures', 'Record Drawing', 'Test Data', 'Warranty',\n",
       "       'Leed Requirements', 'Calculations', 'MSDS', 'Maintenance Data',\n",
       "       'report', 'product Data', 'Attic Stock'], dtype=object)"
      ]
     },
     "execution_count": 45,
     "metadata": {},
     "output_type": "execute_result"
    }
   ],
   "source": [
    "dataset_production_filtered['Submittal Type'].unique()"
   ]
  },
  {
   "cell_type": "code",
   "execution_count": 46,
   "metadata": {},
   "outputs": [
    {
     "data": {
      "text/plain": [
       "array(['Warranty', 'Meetings', 'Measurements', 'Schedules', 'Photos',\n",
       "       'Statement Of Refrigerant Recovery', 'Inventory', 'Product Data',\n",
       "       'General', 'Performance Data', 'Drawings', 'Reports',\n",
       "       'Maintenance Data', 'Certifications', 'Delegated-Design Submittal',\n",
       "       'Shop Drawings', 'Construction Joint Layout', 'Qualification Data',\n",
       "       'Certificates', 'Mix Design', 'Test Reports', 'Meeting Minutes',\n",
       "       'Samples', 'Mockups', 'Cold-Weather And Hot-Weather Procedures',\n",
       "       'Manufacturers Warranty', 'Temporary Roofing Submittal',\n",
       "       'Landfill Records', 'Special Warranty',\n",
       "       'Wind Uplift Resistance Submittal', 'Sample Warranty',\n",
       "       'Coordination Drawings', 'O&M Manuals', 'Product Schedule',\n",
       "       'Fabrication', 'As-Builts', 'O&M Training And Demonstration',\n",
       "       'Quality-Control Program', 'Keying Schedule', 'Attic Stock',\n",
       "       'Maintenance Service', 'Wiring Diagram',\n",
       "       'Manufacturers Instructions'], dtype=object)"
      ]
     },
     "execution_count": 46,
     "metadata": {},
     "output_type": "execute_result"
    }
   ],
   "source": [
    "dataset_pype['Submittal Type'].unique()"
   ]
  },
  {
   "cell_type": "code",
   "execution_count": 47,
   "metadata": {},
   "outputs": [],
   "source": [
    "## Data Correct\n",
    "#\n",
    "def data_correct(row):\n",
    "    sub_tupe = row[2]\n",
    "    if(sub_tupe == 'Certificate'):\n",
    "        return 'Certificates'\n",
    "    elif(sub_tupe == 'Report'):\n",
    "        return 'Reports'\n",
    "    elif(sub_tupe == 'report'):\n",
    "        return 'Reports'\n",
    "    elif(sub_tupe == 'product Data'):\n",
    "        return 'Product Data'\n",
    "    elif(sub_tupe == 'Schedule'):\n",
    "        return 'Schedules'\n",
    "    elif(sub_tupe == 'Samples'):\n",
    "        return 'Sample'\n",
    "    else:\n",
    "        return sub_tupe\n",
    "        \n",
    "dataset_production_filtered['Submittal Type'] = dataset_production_filtered.apply(func = data_correct, axis = 1, result_type=\"expand\")"
   ]
  },
  {
   "cell_type": "markdown",
   "metadata": {},
   "source": [
    "### - Visualize Production Submittal Type Counts\n"
   ]
  },
  {
   "cell_type": "code",
   "execution_count": 48,
   "metadata": {},
   "outputs": [
    {
     "data": {
      "image/png": "[encoded data removed]",
      "text/plain": [
       "<Figure size 432x288 with 1 Axes>"
      ]
     },
     "metadata": {
      "needs_background": "light"
     },
     "output_type": "display_data"
    }
   ],
   "source": [
    "## Visualize count\n",
    "#\n",
    "sns.countplot(data = dataset_production_filtered,\n",
    "                x = 'Submittal Type')\n",
    "\n",
    "plt.xticks(rotation = 90)\n",
    "plt.show()"
   ]
  },
  {
   "cell_type": "markdown",
   "metadata": {},
   "source": [
    "### - Filter Production Dataset To Trained Submittal Types"
   ]
  },
  {
   "cell_type": "code",
   "execution_count": 49,
   "metadata": {},
   "outputs": [],
   "source": [
    "options = ['Attic Stock', 'Calculations', 'Certificates', 'Certifications', 'Maintenance Data', 'Mix Design', 'Mockups',\\\n",
    "            'Product Data', 'Reports', 'Samples', 'Schedules', 'Shop Drawings']"
   ]
  },
  {
   "cell_type": "code",
   "execution_count": 50,
   "metadata": {},
   "outputs": [],
   "source": [
    "dataset_production_filtered = dataset_production_filtered[dataset_production_filtered['Submittal Type'].isin(options)]\n"
   ]
  },
  {
   "cell_type": "markdown",
   "metadata": {},
   "source": [
    "### - Visualize Production Submittal Type Counts After Filter\n"
   ]
  },
  {
   "cell_type": "code",
   "execution_count": 51,
   "metadata": {},
   "outputs": [
    {
     "data": {
      "image/png": "[encoded data removed]",
      "text/plain": [
       "<Figure size 432x288 with 1 Axes>"
      ]
     },
     "metadata": {
      "needs_background": "light"
     },
     "output_type": "display_data"
    }
   ],
   "source": [
    "## Visualize count\n",
    "#\n",
    "sns.countplot(data = dataset_production_filtered,\n",
    "                x = 'Submittal Type')\n",
    "\n",
    "plt.xticks(rotation = 90)\n",
    "plt.show()"
   ]
  },
  {
   "cell_type": "markdown",
   "metadata": {},
   "source": [
    "## Merge Both Production, Pype Dataset and Save Merged Dataset"
   ]
  },
  {
   "cell_type": "markdown",
   "metadata": {},
   "source": [
    "### - Merge"
   ]
  },
  {
   "cell_type": "code",
   "execution_count": 52,
   "metadata": {},
   "outputs": [
    {
     "data": {
      "text/html": [
       "<div>\n",
       "<style scoped>\n",
       "    .dataframe tbody tr th:only-of-type {\n",
       "        vertical-align: middle;\n",
       "    }\n",
       "\n",
       "    .dataframe tbody tr th {\n",
       "        vertical-align: top;\n",
       "    }\n",
       "\n",
       "    .dataframe thead th {\n",
       "        text-align: right;\n",
       "    }\n",
       "</style>\n",
       "<table border=\"1\" class=\"dataframe\">\n",
       "  <thead>\n",
       "    <tr style=\"text-align: right;\">\n",
       "      <th></th>\n",
       "      <th>Spec Section Number</th>\n",
       "      <th>Spec Sub Section</th>\n",
       "      <th>Submittal Type_x</th>\n",
       "      <th>Submittal Type_y</th>\n",
       "      <th>Submittal Description</th>\n",
       "    </tr>\n",
       "  </thead>\n",
       "  <tbody>\n",
       "    <tr>\n",
       "      <th>0</th>\n",
       "      <td>33543.0</td>\n",
       "      <td>1.4-B</td>\n",
       "      <td>Schedules</td>\n",
       "      <td>Schedules</td>\n",
       "      <td>Polishing Schedule : Submit plan showing polis...</td>\n",
       "    </tr>\n",
       "    <tr>\n",
       "      <th>1</th>\n",
       "      <td>33543.0</td>\n",
       "      <td>1.5-B</td>\n",
       "      <td>Certificates</td>\n",
       "      <td>Certificates</td>\n",
       "      <td>Material Certificates : For each of the follow...</td>\n",
       "    </tr>\n",
       "    <tr>\n",
       "      <th>2</th>\n",
       "      <td>33543.0</td>\n",
       "      <td>1.5-B</td>\n",
       "      <td>Certificates</td>\n",
       "      <td>Certificates</td>\n",
       "      <td>Material Certificates : For each of the follow...</td>\n",
       "    </tr>\n",
       "    <tr>\n",
       "      <th>3</th>\n",
       "      <td>33543.0</td>\n",
       "      <td>1.5-B</td>\n",
       "      <td>Certificates</td>\n",
       "      <td>Certificates</td>\n",
       "      <td>Material Certificates : For each of the follow...</td>\n",
       "    </tr>\n",
       "    <tr>\n",
       "      <th>4</th>\n",
       "      <td>42200.0</td>\n",
       "      <td>1.5-B</td>\n",
       "      <td>Shop Drawings</td>\n",
       "      <td>Shop Drawings</td>\n",
       "      <td>Shop Drawings : For the following: \\n1. Masonr...</td>\n",
       "    </tr>\n",
       "  </tbody>\n",
       "</table>\n",
       "</div>"
      ],
      "text/plain": [
       "   Spec Section Number Spec Sub Section Submittal Type_x Submittal Type_y  \\\n",
       "0              33543.0            1.4-B        Schedules        Schedules   \n",
       "1              33543.0            1.5-B     Certificates     Certificates   \n",
       "2              33543.0            1.5-B     Certificates     Certificates   \n",
       "3              33543.0            1.5-B     Certificates     Certificates   \n",
       "4              42200.0            1.5-B    Shop Drawings    Shop Drawings   \n",
       "\n",
       "                               Submittal Description  \n",
       "0  Polishing Schedule : Submit plan showing polis...  \n",
       "1  Material Certificates : For each of the follow...  \n",
       "2  Material Certificates : For each of the follow...  \n",
       "3  Material Certificates : For each of the follow...  \n",
       "4  Shop Drawings : For the following: \\n1. Masonr...  "
      ]
     },
     "execution_count": 52,
     "metadata": {},
     "output_type": "execute_result"
    }
   ],
   "source": [
    "## Merge Both Dataset On Spec Section Number and Spec Sub Section\n",
    "#\n",
    "final_dataset = pd.merge(dataset_production_filtered, dataset_pype, on = ['Spec Section Number', 'Spec Sub Section'])\n",
    "final_dataset.head()"
   ]
  },
  {
   "cell_type": "markdown",
   "metadata": {},
   "source": [
    "### - Remove Duplicate Records and Change Column Names"
   ]
  },
  {
   "cell_type": "code",
   "execution_count": 53,
   "metadata": {},
   "outputs": [],
   "source": [
    "## Remove Duplicate Records\n",
    "#\n",
    "final_dataset.drop_duplicates(inplace = True)"
   ]
  },
  {
   "cell_type": "code",
   "execution_count": 54,
   "metadata": {},
   "outputs": [
    {
     "data": {
      "text/html": [
       "<div>\n",
       "<style scoped>\n",
       "    .dataframe tbody tr th:only-of-type {\n",
       "        vertical-align: middle;\n",
       "    }\n",
       "\n",
       "    .dataframe tbody tr th {\n",
       "        vertical-align: top;\n",
       "    }\n",
       "\n",
       "    .dataframe thead th {\n",
       "        text-align: right;\n",
       "    }\n",
       "</style>\n",
       "<table border=\"1\" class=\"dataframe\">\n",
       "  <thead>\n",
       "    <tr style=\"text-align: right;\">\n",
       "      <th></th>\n",
       "      <th>Spec Section Number</th>\n",
       "      <th>Spec Sub Section</th>\n",
       "      <th>Submittal Type_x</th>\n",
       "      <th>Submittal Type_y</th>\n",
       "      <th>Submittal Description</th>\n",
       "    </tr>\n",
       "  </thead>\n",
       "  <tbody>\n",
       "    <tr>\n",
       "      <th>0</th>\n",
       "      <td>33543.0</td>\n",
       "      <td>1.4-B</td>\n",
       "      <td>Schedules</td>\n",
       "      <td>Schedules</td>\n",
       "      <td>Polishing Schedule : Submit plan showing polis...</td>\n",
       "    </tr>\n",
       "    <tr>\n",
       "      <th>1</th>\n",
       "      <td>33543.0</td>\n",
       "      <td>1.5-B</td>\n",
       "      <td>Certificates</td>\n",
       "      <td>Certificates</td>\n",
       "      <td>Material Certificates : For each of the follow...</td>\n",
       "    </tr>\n",
       "    <tr>\n",
       "      <th>4</th>\n",
       "      <td>42200.0</td>\n",
       "      <td>1.5-B</td>\n",
       "      <td>Shop Drawings</td>\n",
       "      <td>Shop Drawings</td>\n",
       "      <td>Shop Drawings : For the following: \\n1. Masonr...</td>\n",
       "    </tr>\n",
       "    <tr>\n",
       "      <th>7</th>\n",
       "      <td>42200.0</td>\n",
       "      <td>1.6-B</td>\n",
       "      <td>Certificates</td>\n",
       "      <td>Certificates</td>\n",
       "      <td>Material Certificates : For each type and size...</td>\n",
       "    </tr>\n",
       "    <tr>\n",
       "      <th>14</th>\n",
       "      <td>42200.0</td>\n",
       "      <td>1.6-C</td>\n",
       "      <td>Mix Design</td>\n",
       "      <td>Mix Design</td>\n",
       "      <td>Mix Designs : For each type of mortar and grou...</td>\n",
       "    </tr>\n",
       "  </tbody>\n",
       "</table>\n",
       "</div>"
      ],
      "text/plain": [
       "    Spec Section Number Spec Sub Section Submittal Type_x Submittal Type_y  \\\n",
       "0               33543.0            1.4-B        Schedules        Schedules   \n",
       "1               33543.0            1.5-B     Certificates     Certificates   \n",
       "4               42200.0            1.5-B    Shop Drawings    Shop Drawings   \n",
       "7               42200.0            1.6-B     Certificates     Certificates   \n",
       "14              42200.0            1.6-C       Mix Design       Mix Design   \n",
       "\n",
       "                                Submittal Description  \n",
       "0   Polishing Schedule : Submit plan showing polis...  \n",
       "1   Material Certificates : For each of the follow...  \n",
       "4   Shop Drawings : For the following: \\n1. Masonr...  \n",
       "7   Material Certificates : For each type and size...  \n",
       "14  Mix Designs : For each type of mortar and grou...  "
      ]
     },
     "execution_count": 54,
     "metadata": {},
     "output_type": "execute_result"
    }
   ],
   "source": [
    "final_dataset.head()"
   ]
  },
  {
   "cell_type": "code",
   "execution_count": 55,
   "metadata": {},
   "outputs": [],
   "source": [
    "final_dataset.columns = ['Spec Section Number', 'Spec Sub Section', 'Production SUBType', 'PyPe SUBType', 'Submittal Description']\n"
   ]
  },
  {
   "cell_type": "markdown",
   "metadata": {},
   "source": [
    "### - Store Merged Results"
   ]
  },
  {
   "cell_type": "code",
   "execution_count": 56,
   "metadata": {},
   "outputs": [],
   "source": [
    "## Store Merged Dataset For Prediction\n",
    "#\n",
    "final_dataset.to_excel('merged_test_dataset.xlsx')"
   ]
  },
  {
   "cell_type": "markdown",
   "metadata": {},
   "source": [
    "## Comparision Pype and Our Model Results"
   ]
  },
  {
   "cell_type": "markdown",
   "metadata": {},
   "source": [
    "### - Load Saved Model, Vectorizer and Encoder"
   ]
  },
  {
   "cell_type": "code",
   "execution_count": 65,
   "metadata": {},
   "outputs": [],
   "source": [
    "## Load Saved Model, Vectorizer and Encoder\n",
    "#\n",
    "with open(\"vectorizer.pickle\", 'rb+') as file:\n",
    "    vectorizer_saved = pickle.load(file)\n",
    "\n",
    "with open(\"label_encoder.pickle\", 'rb+') as file:\n",
    "    encorder_saved = pickle.load(file)\n",
    "\n",
    "with open(\"type_classifier.pickle\", 'rb+') as file:\n",
    "    classifier_saved = pickle.load(file)"
   ]
  },
  {
   "cell_type": "markdown",
   "metadata": {},
   "source": [
    "### - Encode - Vectorize - Predict - Score"
   ]
  },
  {
   "cell_type": "code",
   "execution_count": 68,
   "metadata": {},
   "outputs": [],
   "source": [
    "options = ['Attic Stock', 'Calculations', 'Certificates', 'Color', 'Chart Delivery', 'Leed Requirements', 'Maintenance Data' , 'Manufacturer/Installation Cert', \\\n",
    "            'Mix Design', 'Mockups', 'MSDS', 'Owner Training', 'Product Data', 'Pre-Install Meeting Minutes', 'Procedures', 'Qualifications', 'Record Drawing', \\\n",
    "            'Reports', 'Samples', 'Schedules', 'Shop Drawings', 'Test Data', 'Certifications']\n",
    "\n",
    "final_dataset = final_dataset[final_dataset['PyPe SUBType'].isin(options)]\n"
   ]
  },
  {
   "cell_type": "code",
   "execution_count": 69,
   "metadata": {},
   "outputs": [],
   "source": [
    "## Encoder Sumittal Type\n",
    "#\n",
    "y_test = encorder_saved.transform(final_dataset['PyPe SUBType'])"
   ]
  },
  {
   "cell_type": "code",
   "execution_count": 70,
   "metadata": {},
   "outputs": [],
   "source": [
    "X_test_tfidf = vectorizer_saved.transform(final_dataset['Submittal Description'])"
   ]
  },
  {
   "cell_type": "code",
   "execution_count": 71,
   "metadata": {},
   "outputs": [],
   "source": [
    "predictions = classifier_saved.predict(X_test_tfidf)"
   ]
  },
  {
   "cell_type": "code",
   "execution_count": 72,
   "metadata": {},
   "outputs": [
    {
     "data": {
      "text/plain": [
       "95.70552147239265"
      ]
     },
     "execution_count": 72,
     "metadata": {},
     "output_type": "execute_result"
    }
   ],
   "source": [
    "score = metrics.accuracy_score(y_test, predictions) * 100\n",
    "score"
   ]
  },
  {
   "cell_type": "markdown",
   "metadata": {},
   "source": [
    "## Comparision Production and Our Model Results"
   ]
  },
  {
   "cell_type": "markdown",
   "metadata": {},
   "source": [
    "### - Load Saved Model, Vectorizer and Encoder"
   ]
  },
  {
   "cell_type": "code",
   "execution_count": 57,
   "metadata": {},
   "outputs": [],
   "source": [
    "## Load Saved Model, Vectorizer and Encoder\n",
    "#\n",
    "with open(\"vectorizer.pickle\", 'rb+') as file:\n",
    "    vectorizer_saved = pickle.load(file)\n",
    "\n",
    "with open(\"label_encoder.pickle\", 'rb+') as file:\n",
    "    encorder_saved = pickle.load(file)\n",
    "\n",
    "with open(\"type_classifier.pickle\", 'rb+') as file:\n",
    "    classifier_saved = pickle.load(file)"
   ]
  },
  {
   "cell_type": "markdown",
   "metadata": {},
   "source": [
    "### - Encode - Vectorize - Predict - Score"
   ]
  },
  {
   "cell_type": "code",
   "execution_count": 58,
   "metadata": {},
   "outputs": [],
   "source": [
    "## Encoder Sumittal Type\n",
    "#\n",
    "y_test = encorder_saved.transform(final_dataset['Production SUBType'])"
   ]
  },
  {
   "cell_type": "code",
   "execution_count": 59,
   "metadata": {},
   "outputs": [],
   "source": [
    "X_test_tfidf = vectorizer_saved.transform(final_dataset['Submittal Description'])"
   ]
  },
  {
   "cell_type": "code",
   "execution_count": 60,
   "metadata": {},
   "outputs": [],
   "source": [
    "predictions = classifier_saved.predict(X_test_tfidf)"
   ]
  },
  {
   "cell_type": "code",
   "execution_count": 61,
   "metadata": {},
   "outputs": [
    {
     "data": {
      "text/plain": [
       "75.31914893617021"
      ]
     },
     "execution_count": 61,
     "metadata": {},
     "output_type": "execute_result"
    }
   ],
   "source": [
    "score = metrics.accuracy_score(y_test, predictions) * 100\n",
    "score"
   ]
  },
  {
   "cell_type": "markdown",
   "metadata": {},
   "source": [
    "### - Saved Predicted Label In Same Excel"
   ]
  },
  {
   "cell_type": "code",
   "execution_count": 89,
   "metadata": {},
   "outputs": [],
   "source": [
    "# final_dataset['Predicted Labels'] = encorder_saved.inverse_transform(predictions)"
   ]
  },
  {
   "cell_type": "code",
   "execution_count": 92,
   "metadata": {},
   "outputs": [],
   "source": [
    "# final_dataset.to_excel(\"Predicted.xlsx\")"
   ]
  },
  {
   "cell_type": "markdown",
   "metadata": {},
   "source": [
    "## Comparision Of Pype and Production"
   ]
  },
  {
   "cell_type": "markdown",
   "metadata": {},
   "source": [
    "### - Sumittal Types Different"
   ]
  },
  {
   "cell_type": "code",
   "execution_count": 62,
   "metadata": {},
   "outputs": [
    {
     "data": {
      "text/plain": [
       "array(['Schedules', 'Certificates', 'Shop Drawings', 'Mix Design',\n",
       "       'General', 'Product Data', 'Delegated-Design Submittal',\n",
       "       'Test Reports', 'Reports', 'Temporary Roofing Submittal', 'Photos',\n",
       "       'Wind Uplift Resistance Submittal', 'Product Schedule',\n",
       "       'Certifications', 'Quality-Control Program', 'Keying Schedule',\n",
       "       'Qualification Data', 'Drawings'], dtype=object)"
      ]
     },
     "execution_count": 62,
     "metadata": {},
     "output_type": "execute_result"
    }
   ],
   "source": [
    "final_dataset['PyPe SUBType'].unique()"
   ]
  },
  {
   "cell_type": "code",
   "execution_count": 63,
   "metadata": {},
   "outputs": [
    {
     "data": {
      "text/plain": [
       "array(['Schedules', 'Certificates', 'Shop Drawings', 'Mix Design',\n",
       "       'Reports', 'Product Data', 'Calculations', 'Maintenance Data'],\n",
       "      dtype=object)"
      ]
     },
     "execution_count": 63,
     "metadata": {},
     "output_type": "execute_result"
    }
   ],
   "source": [
    "final_dataset['Production SUBType'].unique()"
   ]
  },
  {
   "cell_type": "markdown",
   "metadata": {},
   "source": [
    "### - Finding Matching Percentage"
   ]
  },
  {
   "cell_type": "code",
   "execution_count": 64,
   "metadata": {},
   "outputs": [
    {
     "data": {
      "text/plain": [
       "0.5531914893617021"
      ]
     },
     "execution_count": 64,
     "metadata": {},
     "output_type": "execute_result"
    }
   ],
   "source": [
    "X = final_dataset['PyPe SUBType'].to_list()\n",
    "Y = final_dataset['Production SUBType'].to_list()\n",
    "\n",
    "metrics.accuracy_score(X, Y)"
   ]
  },
  {
   "cell_type": "markdown",
   "metadata": {},
   "source": [
    "## Convert Notebook to PDF"
   ]
  },
  {
   "cell_type": "code",
   "execution_count": 5,
   "metadata": {},
   "outputs": [
    {
     "name": "stderr",
     "output_type": "stream",
     "text": [
      "[NbConvertApp] Converting notebook production_comparison.ipynb to PDFviaHTML\n",
      "[NbConvertApp] Writing 309674 bytes to production_comparison.pdf\n"
     ]
    }
   ],
   "source": [
    "!jupyter nbconvert --to PDFviaHTML \"production_comparison.ipynb\"\n"
   ]
  }
 ],
 "metadata": {
  "interpreter": {
   "hash": "34b8bd46980c0826764a5b36ed1c6c81aa64b95fe6c6003f76753dd59089c49f"
  },
  "kernelspec": {
   "display_name": "Python 3.8.8 64-bit ('base': conda)",
   "language": "python",
   "name": "python3"
  },
  "language_info": {
   "codemirror_mode": {
    "name": "ipython",
    "version": 3
   },
   "file_extension": ".py",
   "mimetype": "text/x-python",
   "name": "python",
   "nbconvert_exporter": "python",
   "pygments_lexer": "ipython3",
   "version": "3.8.8"
  },
  "orig_nbformat": 4
 },
 "nbformat": 4,
 "nbformat_minor": 2
}
