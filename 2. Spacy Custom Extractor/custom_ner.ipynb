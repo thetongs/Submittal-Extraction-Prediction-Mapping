{
 "cells": [
  {
   "cell_type": "code",
   "execution_count": 1,
   "metadata": {},
   "outputs": [
    {
     "name": "stdout",
     "output_type": "stream",
     "text": [
      "27 05 29 - section_number\n",
      "HANGERS AND SUPPORTS FOR COMMUNICATIONS SYSTEMS - section_name\n"
     ]
    }
   ],
   "source": [
    "# Ongoing\n",
    "import spacy\n",
    "nlp2 = spacy.load(\"C:/Users/KishanT/OneDrive - DPR Construction/Documents/Code Arena/Projects/PDF Breakdown/Spacy Custom Extractor/Saved Custom Model/\")\n",
    "\n",
    "data = \"\"\"\n",
    "SECTION 27 05 29\n",
    "HANGERS AND SUPPORTS FOR COMMUNICATIONS SYSTEMS\n",
    "WSP B2115173.000\n",
    "\"\"\"\n",
    "\n",
    "data = nlp2(data)\n",
    "for sent in data.ents:\n",
    "    print(\"{} - {}\".format(sent.text, sent.label_))\n"
   ]
  }
 ],
 "metadata": {
  "interpreter": {
   "hash": "34b8bd46980c0826764a5b36ed1c6c81aa64b95fe6c6003f76753dd59089c49f"
  },
  "kernelspec": {
   "display_name": "Python 3.8.8 64-bit ('base': conda)",
   "language": "python",
   "name": "python3"
  },
  "language_info": {
   "codemirror_mode": {
    "name": "ipython",
    "version": 3
   },
   "file_extension": ".py",
   "mimetype": "text/x-python",
   "name": "python",
   "nbconvert_exporter": "python",
   "pygments_lexer": "ipython3",
   "version": "3.8.8"
  },
  "orig_nbformat": 4
 },
 "nbformat": 4,
 "nbformat_minor": 2
}
