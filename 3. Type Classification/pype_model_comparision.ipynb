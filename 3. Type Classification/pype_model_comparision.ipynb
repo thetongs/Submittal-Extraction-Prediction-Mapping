{
 "cells": [
  {
   "cell_type": "code",
   "execution_count": 12,
   "metadata": {},
   "outputs": [],
   "source": [
    "import numpy as np\n",
    "import pandas as pd\n",
    "import matplotlib.pyplot as plt\n",
    "import seaborn as sns\n",
    "\n",
    "import pickle\n",
    "import os\n",
    "from sklearn import metrics\n",
    "\n"
   ]
  },
  {
   "cell_type": "code",
   "execution_count": 2,
   "metadata": {},
   "outputs": [],
   "source": [
    "## Load Saved Model, Vectorizer and Encoder\n",
    "#\n",
    "with open(\"vectorizer.pickle\", 'rb+') as file:\n",
    "    vectorizer_saved = pickle.load(file)\n",
    "\n",
    "with open(\"label_encoder.pickle\", 'rb+') as file:\n",
    "    encorder_saved = pickle.load(file)\n",
    "\n",
    "with open(\"type_classifier.pickle\", 'rb+') as file:\n",
    "    classifier_saved = pickle.load(file)"
   ]
  },
  {
   "cell_type": "code",
   "execution_count": 3,
   "metadata": {},
   "outputs": [
    {
     "data": {
      "text/html": [
       "<div>\n",
       "<style scoped>\n",
       "    .dataframe tbody tr th:only-of-type {\n",
       "        vertical-align: middle;\n",
       "    }\n",
       "\n",
       "    .dataframe tbody tr th {\n",
       "        vertical-align: top;\n",
       "    }\n",
       "\n",
       "    .dataframe thead th {\n",
       "        text-align: right;\n",
       "    }\n",
       "</style>\n",
       "<table border=\"1\" class=\"dataframe\">\n",
       "  <thead>\n",
       "    <tr style=\"text-align: right;\">\n",
       "      <th></th>\n",
       "      <th>S. No.</th>\n",
       "      <th>Spec #</th>\n",
       "      <th>Spec Name</th>\n",
       "      <th>Para</th>\n",
       "      <th>Sub Section Heading</th>\n",
       "      <th>Submittal Type</th>\n",
       "      <th>Submittal Description</th>\n",
       "      <th>Target Date</th>\n",
       "      <th>Subcontractor</th>\n",
       "    </tr>\n",
       "  </thead>\n",
       "  <tbody>\n",
       "    <tr>\n",
       "      <th>0</th>\n",
       "      <td>155</td>\n",
       "      <td>024119</td>\n",
       "      <td>SELECTIVE DEMOLITION</td>\n",
       "      <td>1.5-A</td>\n",
       "      <td>INFORMATIONAL SUBMITTALS</td>\n",
       "      <td>Qualification Data</td>\n",
       "      <td>Qualification Data : For refrigerant recovery ...</td>\n",
       "      <td>NaN</td>\n",
       "      <td>NaN</td>\n",
       "    </tr>\n",
       "    <tr>\n",
       "      <th>1</th>\n",
       "      <td>156</td>\n",
       "      <td>024119</td>\n",
       "      <td>SELECTIVE DEMOLITION</td>\n",
       "      <td>1.5-B</td>\n",
       "      <td>INFORMATIONAL SUBMITTALS</td>\n",
       "      <td>Engineering Survey</td>\n",
       "      <td>Engineering Survey : Submit engineering survey...</td>\n",
       "      <td>NaN</td>\n",
       "      <td>NaN</td>\n",
       "    </tr>\n",
       "    <tr>\n",
       "      <th>2</th>\n",
       "      <td>157</td>\n",
       "      <td>024119</td>\n",
       "      <td>SELECTIVE DEMOLITION</td>\n",
       "      <td>1.5-C</td>\n",
       "      <td>INFORMATIONAL SUBMITTALS</td>\n",
       "      <td>Measurements</td>\n",
       "      <td>Proposed Protection Measures : Submit report, ...</td>\n",
       "      <td>NaN</td>\n",
       "      <td>NaN</td>\n",
       "    </tr>\n",
       "    <tr>\n",
       "      <th>3</th>\n",
       "      <td>158</td>\n",
       "      <td>024119</td>\n",
       "      <td>SELECTIVE DEMOLITION</td>\n",
       "      <td>1.5-D</td>\n",
       "      <td>INFORMATIONAL SUBMITTALS</td>\n",
       "      <td>Schedules</td>\n",
       "      <td>Schedule of Selective Demolition Activities : ...</td>\n",
       "      <td>NaN</td>\n",
       "      <td>NaN</td>\n",
       "    </tr>\n",
       "    <tr>\n",
       "      <th>4</th>\n",
       "      <td>159</td>\n",
       "      <td>024119</td>\n",
       "      <td>SELECTIVE DEMOLITION</td>\n",
       "      <td>1.5-E</td>\n",
       "      <td>INFORMATIONAL SUBMITTALS</td>\n",
       "      <td>Photos</td>\n",
       "      <td>Predemolition Photographs or Video : Show exis...</td>\n",
       "      <td>NaN</td>\n",
       "      <td>NaN</td>\n",
       "    </tr>\n",
       "  </tbody>\n",
       "</table>\n",
       "</div>"
      ],
      "text/plain": [
       "   S. No.  Spec #             Spec Name   Para       Sub Section Heading  \\\n",
       "0     155  024119  SELECTIVE DEMOLITION  1.5-A  INFORMATIONAL SUBMITTALS   \n",
       "1     156  024119  SELECTIVE DEMOLITION  1.5-B  INFORMATIONAL SUBMITTALS   \n",
       "2     157  024119  SELECTIVE DEMOLITION  1.5-C  INFORMATIONAL SUBMITTALS   \n",
       "3     158  024119  SELECTIVE DEMOLITION  1.5-D  INFORMATIONAL SUBMITTALS   \n",
       "4     159  024119  SELECTIVE DEMOLITION  1.5-E  INFORMATIONAL SUBMITTALS   \n",
       "\n",
       "       Submittal Type                              Submittal Description  \\\n",
       "0  Qualification Data  Qualification Data : For refrigerant recovery ...   \n",
       "1  Engineering Survey  Engineering Survey : Submit engineering survey...   \n",
       "2        Measurements  Proposed Protection Measures : Submit report, ...   \n",
       "3           Schedules  Schedule of Selective Demolition Activities : ...   \n",
       "4              Photos  Predemolition Photographs or Video : Show exis...   \n",
       "\n",
       "   Target Date  Subcontractor  \n",
       "0          NaN            NaN  \n",
       "1          NaN            NaN  \n",
       "2          NaN            NaN  \n",
       "3          NaN            NaN  \n",
       "4          NaN            NaN  "
      ]
     },
     "execution_count": 3,
     "metadata": {},
     "output_type": "execute_result"
    }
   ],
   "source": [
    "dataset = pd.read_excel(\"Pype and Model Compare Dataset/Takeda LA Pype.xlsx\")\n",
    "dataset.head()"
   ]
  },
  {
   "cell_type": "code",
   "execution_count": 4,
   "metadata": {},
   "outputs": [],
   "source": [
    "dataset = dataset.drop(columns = dataset.columns[[0, 1, 2, 3, 4, 7, 8]])"
   ]
  },
  {
   "cell_type": "code",
   "execution_count": 5,
   "metadata": {},
   "outputs": [
    {
     "data": {
      "text/html": [
       "<div>\n",
       "<style scoped>\n",
       "    .dataframe tbody tr th:only-of-type {\n",
       "        vertical-align: middle;\n",
       "    }\n",
       "\n",
       "    .dataframe tbody tr th {\n",
       "        vertical-align: top;\n",
       "    }\n",
       "\n",
       "    .dataframe thead th {\n",
       "        text-align: right;\n",
       "    }\n",
       "</style>\n",
       "<table border=\"1\" class=\"dataframe\">\n",
       "  <thead>\n",
       "    <tr style=\"text-align: right;\">\n",
       "      <th></th>\n",
       "      <th>Submittal Description</th>\n",
       "      <th>Submittal Type</th>\n",
       "    </tr>\n",
       "  </thead>\n",
       "  <tbody>\n",
       "    <tr>\n",
       "      <th>0</th>\n",
       "      <td>Qualification Data : For refrigerant recovery ...</td>\n",
       "      <td>Qualification Data</td>\n",
       "    </tr>\n",
       "    <tr>\n",
       "      <th>1</th>\n",
       "      <td>Engineering Survey : Submit engineering survey...</td>\n",
       "      <td>Engineering Survey</td>\n",
       "    </tr>\n",
       "    <tr>\n",
       "      <th>2</th>\n",
       "      <td>Proposed Protection Measures : Submit report, ...</td>\n",
       "      <td>Measurements</td>\n",
       "    </tr>\n",
       "    <tr>\n",
       "      <th>3</th>\n",
       "      <td>Schedule of Selective Demolition Activities : ...</td>\n",
       "      <td>Schedules</td>\n",
       "    </tr>\n",
       "    <tr>\n",
       "      <th>4</th>\n",
       "      <td>Predemolition Photographs or Video : Show exis...</td>\n",
       "      <td>Photos</td>\n",
       "    </tr>\n",
       "  </tbody>\n",
       "</table>\n",
       "</div>"
      ],
      "text/plain": [
       "                               Submittal Description      Submittal Type\n",
       "0  Qualification Data : For refrigerant recovery ...  Qualification Data\n",
       "1  Engineering Survey : Submit engineering survey...  Engineering Survey\n",
       "2  Proposed Protection Measures : Submit report, ...        Measurements\n",
       "3  Schedule of Selective Demolition Activities : ...           Schedules\n",
       "4  Predemolition Photographs or Video : Show exis...              Photos"
      ]
     },
     "execution_count": 5,
     "metadata": {},
     "output_type": "execute_result"
    }
   ],
   "source": [
    "dataset = dataset[[\"Submittal Description\", \"Submittal Type\"]]\n",
    "dataset.head()"
   ]
  },
  {
   "cell_type": "code",
   "execution_count": 6,
   "metadata": {},
   "outputs": [],
   "source": [
    "options = ['Qualification Data', 'Schedules', 'Meetings', 'Product Data', 'Shop Drawings', 'Samples', 'Reports', \\\n",
    "    'Mockups', 'Certificates', 'Test Reports', 'Mix Design', 'General', 'As-Builts', 'O&M Training And Demonstration', \\\n",
    "    'Coordination Drawings', 'Calculations']\n",
    "\n",
    "dataset = dataset[dataset['Submittal Type'].isin(options)]"
   ]
  },
  {
   "cell_type": "code",
   "execution_count": 8,
   "metadata": {},
   "outputs": [],
   "source": [
    "description_vector = vectorizer_saved.transform(dataset['Submittal Description'])"
   ]
  },
  {
   "cell_type": "code",
   "execution_count": 9,
   "metadata": {},
   "outputs": [],
   "source": [
    "predictions = classifier_saved.predict(description_vector)"
   ]
  },
  {
   "cell_type": "code",
   "execution_count": 10,
   "metadata": {},
   "outputs": [],
   "source": [
    "dataset['Model Type'] = encorder_saved.inverse_transform(predictions)"
   ]
  },
  {
   "cell_type": "code",
   "execution_count": 13,
   "metadata": {},
   "outputs": [
    {
     "data": {
      "text/plain": [
       "80.4772234273319"
      ]
     },
     "execution_count": 13,
     "metadata": {},
     "output_type": "execute_result"
    }
   ],
   "source": [
    "metrics.accuracy_score(dataset['Submittal Type'], dataset['Model Type']) * 100"
   ]
  },
  {
   "cell_type": "code",
   "execution_count": null,
   "metadata": {},
   "outputs": [],
   "source": [
    "dataset.to_csv(\"Pype and Model Compare Dataset/Takeda Pype and Model.csv\")"
   ]
  }
 ],
 "metadata": {
  "interpreter": {
   "hash": "34b8bd46980c0826764a5b36ed1c6c81aa64b95fe6c6003f76753dd59089c49f"
  },
  "kernelspec": {
   "display_name": "Python 3.8.8 ('base')",
   "language": "python",
   "name": "python3"
  },
  "language_info": {
   "codemirror_mode": {
    "name": "ipython",
    "version": 3
   },
   "file_extension": ".py",
   "mimetype": "text/x-python",
   "name": "python",
   "nbconvert_exporter": "python",
   "pygments_lexer": "ipython3",
   "version": "3.8.8"
  },
  "orig_nbformat": 4
 },
 "nbformat": 4,
 "nbformat_minor": 2
}
