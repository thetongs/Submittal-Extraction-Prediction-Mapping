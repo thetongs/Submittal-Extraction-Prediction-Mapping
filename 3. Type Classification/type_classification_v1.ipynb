{
 "cells": [
  {
   "cell_type": "markdown",
   "metadata": {},
   "source": [
    "## Step 1 : Load Libraries"
   ]
  },
  {
   "cell_type": "code",
   "execution_count": 73,
   "metadata": {},
   "outputs": [],
   "source": [
    "## Load Libraries\n",
    "#\n",
    "import numpy as np\n",
    "import pandas as pd\n",
    "from sklearn.model_selection import train_test_split\n",
    "from sklearn.feature_extraction.text import TfidfVectorizer\n",
    "from sklearn.svm import LinearSVC\n",
    "from sklearn import metrics\n",
    "from sklearn.preprocessing import LabelEncoder\n",
    "import pickle\n",
    "import seaborn as sns\n",
    "import matplotlib.pyplot as plt\n",
    "from sklearn.ensemble import RandomForestClassifier"
   ]
  },
  {
   "cell_type": "markdown",
   "metadata": {},
   "source": [
    "## Step 2 : Load Dataset"
   ]
  },
  {
   "cell_type": "code",
   "execution_count": 74,
   "metadata": {},
   "outputs": [
    {
     "data": {
      "text/html": [
       "<div>\n",
       "<style scoped>\n",
       "    .dataframe tbody tr th:only-of-type {\n",
       "        vertical-align: middle;\n",
       "    }\n",
       "\n",
       "    .dataframe tbody tr th {\n",
       "        vertical-align: top;\n",
       "    }\n",
       "\n",
       "    .dataframe thead th {\n",
       "        text-align: right;\n",
       "    }\n",
       "</style>\n",
       "<table border=\"1\" class=\"dataframe\">\n",
       "  <thead>\n",
       "    <tr style=\"text-align: right;\">\n",
       "      <th></th>\n",
       "      <th>S. No.</th>\n",
       "      <th>Spec #</th>\n",
       "      <th>Spec Name</th>\n",
       "      <th>Para</th>\n",
       "      <th>Sub Section Heading</th>\n",
       "      <th>Submittal Type</th>\n",
       "      <th>Submittal Description</th>\n",
       "      <th>Target Date</th>\n",
       "      <th>Subcontractor</th>\n",
       "    </tr>\n",
       "  </thead>\n",
       "  <tbody>\n",
       "    <tr>\n",
       "      <th>0</th>\n",
       "      <td>220</td>\n",
       "      <td>03 10 00</td>\n",
       "      <td>CONCRETE FORMWORK</td>\n",
       "      <td>1.8-A</td>\n",
       "      <td>SUBMITTALS</td>\n",
       "      <td>Manufacturers Instructions</td>\n",
       "      <td>Where the SUBMITTALS section of this specifica...</td>\n",
       "      <td>NaN</td>\n",
       "      <td>NaN</td>\n",
       "    </tr>\n",
       "    <tr>\n",
       "      <th>1</th>\n",
       "      <td>221</td>\n",
       "      <td>03 10 00</td>\n",
       "      <td>CONCRETE FORMWORK</td>\n",
       "      <td>1.8-A-1</td>\n",
       "      <td>SUBMITTALS</td>\n",
       "      <td>Submittal Schedule</td>\n",
       "      <td>Submittal Schedule: See Section 03 3000.</td>\n",
       "      <td>NaN</td>\n",
       "      <td>NaN</td>\n",
       "    </tr>\n",
       "    <tr>\n",
       "      <th>2</th>\n",
       "      <td>222</td>\n",
       "      <td>03 10 00</td>\n",
       "      <td>CONCRETE FORMWORK</td>\n",
       "      <td>1.8-A-2</td>\n",
       "      <td>SUBMITTALS</td>\n",
       "      <td>Shop Drawings</td>\n",
       "      <td>Formwork Shop Drawings:\\na. Submit for Record:...</td>\n",
       "      <td>NaN</td>\n",
       "      <td>NaN</td>\n",
       "    </tr>\n",
       "    <tr>\n",
       "      <th>3</th>\n",
       "      <td>223</td>\n",
       "      <td>03 10 00</td>\n",
       "      <td>CONCRETE FORMWORK</td>\n",
       "      <td>1.8-A-3</td>\n",
       "      <td>SUBMITTALS</td>\n",
       "      <td>Product Data</td>\n",
       "      <td>Shoring/Reshoring Calculations: Submit for Rec...</td>\n",
       "      <td>NaN</td>\n",
       "      <td>NaN</td>\n",
       "    </tr>\n",
       "    <tr>\n",
       "      <th>4</th>\n",
       "      <td>224</td>\n",
       "      <td>03 10 00</td>\n",
       "      <td>CONCRETE FORMWORK</td>\n",
       "      <td>1.8-A-5</td>\n",
       "      <td>SUBMITTALS</td>\n",
       "      <td>Samples</td>\n",
       "      <td>Samples - At request of Architect, submit samp...</td>\n",
       "      <td>NaN</td>\n",
       "      <td>NaN</td>\n",
       "    </tr>\n",
       "  </tbody>\n",
       "</table>\n",
       "</div>"
      ],
      "text/plain": [
       "   S. No.    Spec #          Spec Name     Para Sub Section Heading  \\\n",
       "0     220  03 10 00  CONCRETE FORMWORK    1.8-A          SUBMITTALS   \n",
       "1     221  03 10 00  CONCRETE FORMWORK  1.8-A-1          SUBMITTALS   \n",
       "2     222  03 10 00  CONCRETE FORMWORK  1.8-A-2          SUBMITTALS   \n",
       "3     223  03 10 00  CONCRETE FORMWORK  1.8-A-3          SUBMITTALS   \n",
       "4     224  03 10 00  CONCRETE FORMWORK  1.8-A-5          SUBMITTALS   \n",
       "\n",
       "               Submittal Type  \\\n",
       "0  Manufacturers Instructions   \n",
       "1          Submittal Schedule   \n",
       "2               Shop Drawings   \n",
       "3                Product Data   \n",
       "4                     Samples   \n",
       "\n",
       "                               Submittal Description  Target Date  \\\n",
       "0  Where the SUBMITTALS section of this specifica...          NaN   \n",
       "1           Submittal Schedule: See Section 03 3000.          NaN   \n",
       "2  Formwork Shop Drawings:\\na. Submit for Record:...          NaN   \n",
       "3  Shoring/Reshoring Calculations: Submit for Rec...          NaN   \n",
       "4  Samples - At request of Architect, submit samp...          NaN   \n",
       "\n",
       "   Subcontractor  \n",
       "0            NaN  \n",
       "1            NaN  \n",
       "2            NaN  \n",
       "3            NaN  \n",
       "4            NaN  "
      ]
     },
     "execution_count": 74,
     "metadata": {},
     "output_type": "execute_result"
    }
   ],
   "source": [
    "dataset = pd.read_excel(\"Dataset/Sample.xlsx\")\n",
    "dataset.head()"
   ]
  },
  {
   "cell_type": "markdown",
   "metadata": {},
   "source": [
    "## Step 3 : General Information Of Dataset "
   ]
  },
  {
   "cell_type": "code",
   "execution_count": 48,
   "metadata": {},
   "outputs": [
    {
     "name": "stdout",
     "output_type": "stream",
     "text": [
      "<class 'pandas.core.frame.DataFrame'>\n",
      "RangeIndex: 1314 entries, 0 to 1313\n",
      "Data columns (total 9 columns):\n",
      " #   Column                 Non-Null Count  Dtype  \n",
      "---  ------                 --------------  -----  \n",
      " 0   S. No.                 1314 non-null   int64  \n",
      " 1   Spec #                 1314 non-null   object \n",
      " 2   Spec Name              1314 non-null   object \n",
      " 3   Para                   1313 non-null   object \n",
      " 4   Sub Section Heading    1314 non-null   object \n",
      " 5   Submittal Type         1314 non-null   object \n",
      " 6   Submittal Description  1314 non-null   object \n",
      " 7   Target Date            0 non-null      float64\n",
      " 8   Subcontractor          0 non-null      float64\n",
      "dtypes: float64(2), int64(1), object(6)\n",
      "memory usage: 92.5+ KB\n"
     ]
    }
   ],
   "source": [
    "dataset.info()"
   ]
  },
  {
   "cell_type": "markdown",
   "metadata": {},
   "source": [
    "## Step 4 : Preprocess Dataset"
   ]
  },
  {
   "cell_type": "markdown",
   "metadata": {},
   "source": [
    "### A. Remove features and Rearrange features"
   ]
  },
  {
   "cell_type": "code",
   "execution_count": 49,
   "metadata": {},
   "outputs": [
    {
     "data": {
      "text/plain": [
       "Index(['S. No.', 'Spec #', 'Spec Name', 'Para', 'Sub Section Heading',\n",
       "       'Submittal Type', 'Submittal Description', 'Target Date',\n",
       "       'Subcontractor'],\n",
       "      dtype='object')"
      ]
     },
     "execution_count": 49,
     "metadata": {},
     "output_type": "execute_result"
    }
   ],
   "source": [
    "## Get All Feature Names\n",
    "#\n",
    "dataset.columns"
   ]
  },
  {
   "cell_type": "code",
   "execution_count": 50,
   "metadata": {},
   "outputs": [],
   "source": [
    "## Remove Unwanted Features\n",
    "#\n",
    "dataset = dataset.drop(columns = dataset.columns[[0, 1, 2, 3, 4, 7, 8]])"
   ]
  },
  {
   "cell_type": "code",
   "execution_count": 51,
   "metadata": {},
   "outputs": [
    {
     "data": {
      "text/html": [
       "<div>\n",
       "<style scoped>\n",
       "    .dataframe tbody tr th:only-of-type {\n",
       "        vertical-align: middle;\n",
       "    }\n",
       "\n",
       "    .dataframe tbody tr th {\n",
       "        vertical-align: top;\n",
       "    }\n",
       "\n",
       "    .dataframe thead th {\n",
       "        text-align: right;\n",
       "    }\n",
       "</style>\n",
       "<table border=\"1\" class=\"dataframe\">\n",
       "  <thead>\n",
       "    <tr style=\"text-align: right;\">\n",
       "      <th></th>\n",
       "      <th>Submittal Description</th>\n",
       "      <th>Submittal Type</th>\n",
       "    </tr>\n",
       "  </thead>\n",
       "  <tbody>\n",
       "    <tr>\n",
       "      <th>0</th>\n",
       "      <td>Where the SUBMITTALS section of this specifica...</td>\n",
       "      <td>Manufacturers Instructions</td>\n",
       "    </tr>\n",
       "    <tr>\n",
       "      <th>1</th>\n",
       "      <td>Submittal Schedule: See Section 03 3000.</td>\n",
       "      <td>Submittal Schedule</td>\n",
       "    </tr>\n",
       "    <tr>\n",
       "      <th>2</th>\n",
       "      <td>Formwork Shop Drawings:\\na. Submit for Record:...</td>\n",
       "      <td>Shop Drawings</td>\n",
       "    </tr>\n",
       "    <tr>\n",
       "      <th>3</th>\n",
       "      <td>Shoring/Reshoring Calculations: Submit for Rec...</td>\n",
       "      <td>Product Data</td>\n",
       "    </tr>\n",
       "    <tr>\n",
       "      <th>4</th>\n",
       "      <td>Samples - At request of Architect, submit samp...</td>\n",
       "      <td>Samples</td>\n",
       "    </tr>\n",
       "  </tbody>\n",
       "</table>\n",
       "</div>"
      ],
      "text/plain": [
       "                               Submittal Description  \\\n",
       "0  Where the SUBMITTALS section of this specifica...   \n",
       "1           Submittal Schedule: See Section 03 3000.   \n",
       "2  Formwork Shop Drawings:\\na. Submit for Record:...   \n",
       "3  Shoring/Reshoring Calculations: Submit for Rec...   \n",
       "4  Samples - At request of Architect, submit samp...   \n",
       "\n",
       "               Submittal Type  \n",
       "0  Manufacturers Instructions  \n",
       "1          Submittal Schedule  \n",
       "2               Shop Drawings  \n",
       "3                Product Data  \n",
       "4                     Samples  "
      ]
     },
     "execution_count": 51,
     "metadata": {},
     "output_type": "execute_result"
    }
   ],
   "source": [
    "## Interchange Features\n",
    "#\n",
    "dataset = dataset[[\"Submittal Description\", \"Submittal Type\"]]\n",
    "dataset.head()"
   ]
  },
  {
   "cell_type": "code",
   "execution_count": 52,
   "metadata": {},
   "outputs": [
    {
     "data": {
      "image/png": "[encoded data removed]",
      "text/plain": [
       "<Figure size 1440x576 with 1 Axes>"
      ]
     },
     "metadata": {
      "needs_background": "light"
     },
     "output_type": "display_data"
    }
   ],
   "source": [
    "## Visualize count before filter\n",
    "#\n",
    "plt.figure(figsize = (20,8))\n",
    "sns.countplot(data = dataset,\n",
    "                x = 'Submittal Type')\n",
    "\n",
    "plt.xticks(rotation = 90)\n",
    "plt.show()"
   ]
  },
  {
   "cell_type": "code",
   "execution_count": 53,
   "metadata": {},
   "outputs": [],
   "source": [
    "## Fitler Dataset\n",
    "#\n",
    "options = ['Attic Stock', 'Calculations', 'Certificates', 'Color', 'Chart Delivery', 'Leed Requirements', 'Maintenance Data' , 'Manufacturer/Installation Cert', \\\n",
    "            'Mix Design', 'Mockups', 'MSDS', 'Owner Training', 'Product Data', 'Pre-Install Meeting Minutes', 'Procedures', 'Qualifications', 'Record Drawing', \\\n",
    "            'Reports', 'Samples', 'Schedules', 'Shop Drawings', 'Test Data', 'Warranty', 'Certifications']\n"
   ]
  },
  {
   "cell_type": "code",
   "execution_count": 54,
   "metadata": {},
   "outputs": [
    {
     "data": {
      "text/html": [
       "<div>\n",
       "<style scoped>\n",
       "    .dataframe tbody tr th:only-of-type {\n",
       "        vertical-align: middle;\n",
       "    }\n",
       "\n",
       "    .dataframe tbody tr th {\n",
       "        vertical-align: top;\n",
       "    }\n",
       "\n",
       "    .dataframe thead th {\n",
       "        text-align: right;\n",
       "    }\n",
       "</style>\n",
       "<table border=\"1\" class=\"dataframe\">\n",
       "  <thead>\n",
       "    <tr style=\"text-align: right;\">\n",
       "      <th></th>\n",
       "      <th>Submittal Description</th>\n",
       "      <th>Submittal Type</th>\n",
       "    </tr>\n",
       "  </thead>\n",
       "  <tbody>\n",
       "    <tr>\n",
       "      <th>2</th>\n",
       "      <td>Formwork Shop Drawings:\\na. Submit for Record:...</td>\n",
       "      <td>Shop Drawings</td>\n",
       "    </tr>\n",
       "    <tr>\n",
       "      <th>3</th>\n",
       "      <td>Shoring/Reshoring Calculations: Submit for Rec...</td>\n",
       "      <td>Product Data</td>\n",
       "    </tr>\n",
       "    <tr>\n",
       "      <th>4</th>\n",
       "      <td>Samples - At request of Architect, submit samp...</td>\n",
       "      <td>Samples</td>\n",
       "    </tr>\n",
       "    <tr>\n",
       "      <th>6</th>\n",
       "      <td>Asbestos and PCB Certification: Submit for rec...</td>\n",
       "      <td>Certifications</td>\n",
       "    </tr>\n",
       "    <tr>\n",
       "      <th>12</th>\n",
       "      <td>Form tie holes shall be filled as per approved...</td>\n",
       "      <td>Samples</td>\n",
       "    </tr>\n",
       "  </tbody>\n",
       "</table>\n",
       "</div>"
      ],
      "text/plain": [
       "                                Submittal Description  Submittal Type\n",
       "2   Formwork Shop Drawings:\\na. Submit for Record:...   Shop Drawings\n",
       "3   Shoring/Reshoring Calculations: Submit for Rec...    Product Data\n",
       "4   Samples - At request of Architect, submit samp...         Samples\n",
       "6   Asbestos and PCB Certification: Submit for rec...  Certifications\n",
       "12  Form tie holes shall be filled as per approved...         Samples"
      ]
     },
     "execution_count": 54,
     "metadata": {},
     "output_type": "execute_result"
    }
   ],
   "source": [
    "dataset = dataset[dataset['Submittal Type'].isin(options)]\n",
    "dataset.head()"
   ]
  },
  {
   "cell_type": "code",
   "execution_count": 55,
   "metadata": {},
   "outputs": [
    {
     "name": "stdout",
     "output_type": "stream",
     "text": [
      "<class 'pandas.core.frame.DataFrame'>\n",
      "Int64Index: 748 entries, 2 to 1313\n",
      "Data columns (total 2 columns):\n",
      " #   Column                 Non-Null Count  Dtype \n",
      "---  ------                 --------------  ----- \n",
      " 0   Submittal Description  748 non-null    object\n",
      " 1   Submittal Type         748 non-null    object\n",
      "dtypes: object(2)\n",
      "memory usage: 17.5+ KB\n"
     ]
    }
   ],
   "source": [
    "## See the count\n",
    "#\n",
    "dataset.info()"
   ]
  },
  {
   "cell_type": "code",
   "execution_count": 56,
   "metadata": {},
   "outputs": [
    {
     "data": {
      "image/png": "[encoded data removed]",
      "text/plain": [
       "<Figure size 432x288 with 1 Axes>"
      ]
     },
     "metadata": {
      "needs_background": "light"
     },
     "output_type": "display_data"
    }
   ],
   "source": [
    "## Visualize count\n",
    "#\n",
    "sns.countplot(data = dataset,\n",
    "                x = 'Submittal Type')\n",
    "\n",
    "plt.xticks(rotation = 90)\n",
    "plt.show()"
   ]
  },
  {
   "cell_type": "markdown",
   "metadata": {},
   "source": [
    "### B. Encoding Feature"
   ]
  },
  {
   "cell_type": "code",
   "execution_count": 57,
   "metadata": {},
   "outputs": [],
   "source": [
    "\n",
    "labelencoder = LabelEncoder()\n",
    "dataset['Submittal Type'] = labelencoder.fit_transform(dataset['Submittal Type'])\n"
   ]
  },
  {
   "cell_type": "code",
   "execution_count": 58,
   "metadata": {},
   "outputs": [
    {
     "data": {
      "text/html": [
       "<div>\n",
       "<style scoped>\n",
       "    .dataframe tbody tr th:only-of-type {\n",
       "        vertical-align: middle;\n",
       "    }\n",
       "\n",
       "    .dataframe tbody tr th {\n",
       "        vertical-align: top;\n",
       "    }\n",
       "\n",
       "    .dataframe thead th {\n",
       "        text-align: right;\n",
       "    }\n",
       "</style>\n",
       "<table border=\"1\" class=\"dataframe\">\n",
       "  <thead>\n",
       "    <tr style=\"text-align: right;\">\n",
       "      <th></th>\n",
       "      <th>Submittal Description</th>\n",
       "      <th>Submittal Type</th>\n",
       "    </tr>\n",
       "  </thead>\n",
       "  <tbody>\n",
       "    <tr>\n",
       "      <th>2</th>\n",
       "      <td>Formwork Shop Drawings:\\na. Submit for Record:...</td>\n",
       "      <td>11</td>\n",
       "    </tr>\n",
       "    <tr>\n",
       "      <th>3</th>\n",
       "      <td>Shoring/Reshoring Calculations: Submit for Rec...</td>\n",
       "      <td>7</td>\n",
       "    </tr>\n",
       "    <tr>\n",
       "      <th>4</th>\n",
       "      <td>Samples - At request of Architect, submit samp...</td>\n",
       "      <td>9</td>\n",
       "    </tr>\n",
       "    <tr>\n",
       "      <th>6</th>\n",
       "      <td>Asbestos and PCB Certification: Submit for rec...</td>\n",
       "      <td>3</td>\n",
       "    </tr>\n",
       "    <tr>\n",
       "      <th>12</th>\n",
       "      <td>Form tie holes shall be filled as per approved...</td>\n",
       "      <td>9</td>\n",
       "    </tr>\n",
       "  </tbody>\n",
       "</table>\n",
       "</div>"
      ],
      "text/plain": [
       "                                Submittal Description  Submittal Type\n",
       "2   Formwork Shop Drawings:\\na. Submit for Record:...              11\n",
       "3   Shoring/Reshoring Calculations: Submit for Rec...               7\n",
       "4   Samples - At request of Architect, submit samp...               9\n",
       "6   Asbestos and PCB Certification: Submit for rec...               3\n",
       "12  Form tie holes shall be filled as per approved...               9"
      ]
     },
     "execution_count": 58,
     "metadata": {},
     "output_type": "execute_result"
    }
   ],
   "source": [
    "dataset.head()"
   ]
  },
  {
   "cell_type": "markdown",
   "metadata": {},
   "source": [
    "### C. Matrix of Feature"
   ]
  },
  {
   "cell_type": "code",
   "execution_count": 59,
   "metadata": {},
   "outputs": [],
   "source": [
    "X = dataset['Submittal Description']\n",
    "Y = dataset['Submittal Type']"
   ]
  },
  {
   "cell_type": "markdown",
   "metadata": {},
   "source": [
    "### D. Split Dataset"
   ]
  },
  {
   "cell_type": "code",
   "execution_count": 60,
   "metadata": {},
   "outputs": [],
   "source": [
    "X_train, X_test, y_train, y_test = train_test_split(X, Y, test_size = 0.25, random_state = 0)"
   ]
  },
  {
   "cell_type": "markdown",
   "metadata": {},
   "source": [
    "### E. Vectorization Encoding"
   ]
  },
  {
   "cell_type": "code",
   "execution_count": 61,
   "metadata": {},
   "outputs": [],
   "source": [
    "vectorizer = TfidfVectorizer()\n",
    "X_train_tfidf = vectorizer.fit_transform(X_train) \n",
    "X_test_tfidf = vectorizer.transform(X_test)"
   ]
  },
  {
   "cell_type": "markdown",
   "metadata": {},
   "source": [
    "## Step 5 :  Model Training and Prediction"
   ]
  },
  {
   "cell_type": "markdown",
   "metadata": {},
   "source": [
    "### A. Training"
   ]
  },
  {
   "cell_type": "code",
   "execution_count": 62,
   "metadata": {},
   "outputs": [
    {
     "data": {
      "text/plain": [
       "LinearSVC()"
      ]
     },
     "execution_count": 62,
     "metadata": {},
     "output_type": "execute_result"
    }
   ],
   "source": [
    "## Linear SVC\n",
    "#\n",
    "classifier = LinearSVC()\n",
    "classifier.fit(X_train_tfidf, y_train)\n"
   ]
  },
  {
   "cell_type": "markdown",
   "metadata": {},
   "source": [
    "### B. Prediction"
   ]
  },
  {
   "cell_type": "code",
   "execution_count": 63,
   "metadata": {},
   "outputs": [],
   "source": [
    "## Prediction\n",
    "#\n",
    "predictions = classifier.predict(X_test_tfidf)"
   ]
  },
  {
   "cell_type": "code",
   "execution_count": 33,
   "metadata": {},
   "outputs": [],
   "source": [
    "## Export Results\n",
    "#\n",
    "# result_dataframe = pd.DataFrame()\n",
    "# result_dataframe['Test'] = X_test.tolist()\n",
    "# result_dataframe['Original'] = labelencoder.inverse_transform(y_test.to_list())\n",
    "# result_dataframe['Predicted'] = predictions.tolist()\n",
    "# result_dataframe['Predicted_Label'] = labelencoder.inverse_transform(predictions)\n",
    "\n",
    "# result_dataframe.to_excel(\"Result.xlsx\")"
   ]
  },
  {
   "cell_type": "markdown",
   "metadata": {},
   "source": [
    "### C. Accuracy"
   ]
  },
  {
   "cell_type": "code",
   "execution_count": 64,
   "metadata": {},
   "outputs": [
    {
     "name": "stdout",
     "output_type": "stream",
     "text": [
      "0.9251336898395722\n"
     ]
    }
   ],
   "source": [
    "## Accuracy\n",
    "#\n",
    "print(metrics.accuracy_score(y_test, predictions))"
   ]
  },
  {
   "cell_type": "code",
   "execution_count": 3,
   "metadata": {},
   "outputs": [
    {
     "name": "stderr",
     "output_type": "stream",
     "text": [
      "[NbConvertApp] Converting notebook type_classification_v1.ipynb to PDFviaHTML\n",
      "[NbConvertApp] Writing 409005 bytes to type_classification_v1.pdf\n"
     ]
    }
   ],
   "source": [
    "!jupyter nbconvert --to PDFviaHTML \"type_classification_v1.ipynb\"\n",
    "# jupyter-nbconvert --to PDFviaHTML example.ipynb\n"
   ]
  }
 ],
 "metadata": {
  "interpreter": {
   "hash": "34b8bd46980c0826764a5b36ed1c6c81aa64b95fe6c6003f76753dd59089c49f"
  },
  "kernelspec": {
   "display_name": "Python 3.8.8 64-bit ('base': conda)",
   "language": "python",
   "name": "python3"
  },
  "language_info": {
   "codemirror_mode": {
    "name": "ipython",
    "version": 3
   },
   "file_extension": ".py",
   "mimetype": "text/x-python",
   "name": "python",
   "nbconvert_exporter": "python",
   "pygments_lexer": "ipython3",
   "version": "3.8.8"
  },
  "orig_nbformat": 4
 },
 "nbformat": 4,
 "nbformat_minor": 2
}
