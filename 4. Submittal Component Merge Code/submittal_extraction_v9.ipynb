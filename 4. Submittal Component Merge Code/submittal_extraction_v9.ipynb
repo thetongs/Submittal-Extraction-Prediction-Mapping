{
 "cells": [
  {
   "cell_type": "markdown",
   "metadata": {},
   "source": [
    "## Step 1 - Load Libraries"
   ]
  },
  {
   "cell_type": "code",
   "execution_count": 1,
   "metadata": {},
   "outputs": [],
   "source": [
    "import pdfplumber\n",
    "import itertools\n",
    "import json\n",
    "import re\n",
    "import spacy\n",
    "from os import path\n",
    "import csv\n",
    "import pickle\n",
    "import pandas as pd\n",
    "import numpy as np"
   ]
  },
  {
   "cell_type": "markdown",
   "metadata": {},
   "source": [
    "## Step 2 - Load PDF/ Text Data"
   ]
  },
  {
   "cell_type": "code",
   "execution_count": 20,
   "metadata": {},
   "outputs": [],
   "source": [
    "# data = \"\"\n",
    "# # filename = \"Data//\"\n",
    "# # with pdfplumber.open(file_name) as pdf:\n",
    "# #     for index, page in enumerate(pdf.pages):\n",
    "# #         data = data + str(page.extract_text())\n",
    "\n",
    "# # print(\"Data present in PDF document.\")\n",
    "# # print(data)\n",
    "\n",
    "data = \"\"\"\n",
    "SECTION 27 05 29\n",
    "HANGERS AND SUPPORTS FOR COMMUNICATIONS SYSTEMS\n",
    "WSP B2115173.000\n",
    "PART 1 - GENERAL\n",
    "1.01\n",
    "RELATED DOCUMENTS\n",
    "A.\n",
    "General provisions of Contract, including General and Supplementary Conditions and \n",
    "Division-1 Specification sections.\n",
    "B.\n",
    "Architectural, Electrical, and Telecommunications Drawings.  Other systems drawings \n",
    "may apply.\n",
    "C.\n",
    "Division 26 Basic Electrical Materials and Methods sections apply to work of this section.\n",
    "D.\n",
    "Vertical Transportation (Elevators, Escalators, etc.) Specifications and/or Codes \n",
    "Requirements.\n",
    "E.\n",
    "Rough carpentry is specified in a Division 6 section.\n",
    "1.02\n",
    "QUALITY ASSURANCE\n",
    "A.\n",
    "Refer to Section 27 05 00 for requirements that shall be fulfilled as part of this \n",
    "specification section.\n",
    "1.03\n",
    "SUBMITTALS\n",
    "A.\n",
    "Refer to Section 27 05 00 for requirements that shall be fulfilled as part of this \n",
    "specification section.\n",
    "1.04\n",
    "WORK INCLUDED\n",
    "A.\n",
    "Refer to Section 27 05 00 for requirements that shall be fulfilled as part of this \n",
    "specification section.\n",
    "WSP B2115173.000\n",
    "PART 2 - PRODUCTS\n",
    "2.01\n",
    "NON-CONTINUOUS CABLE SUPPORT SYSTEMS\n",
    "A.\n",
    "Acceptable Manufacturers\n",
    "1.\n",
    "B-line\n",
    "2.\n",
    "Erico\n",
    "3.\n",
    "Or approved equal\n",
    "B.\n",
    "Non-continuous cable supports\n",
    "1.\n",
    "Non-continuous cable supports shall provide a bearing surface of sufficient width \n",
    "to comply with required bend radii of high-performance cables. \n",
    "2.\n",
    "cULus listed.\n",
    "3.\n",
    "Non-continuous cable supports shall have flared edges to prevent damage while \n",
    "installing cables. \n",
    "4.\n",
    "Non-continuous cable supports sized 1 5/16” and larger shall have a cable \n",
    "retainer strap to provide containment of cables within the hanger.  The cable \n",
    "retainer strap shall be removable and reusable and be suitable for use in air \n",
    "handling spaces.  \n",
    "5.\n",
    "Non-continuous cable supports shall be rated for indoor use in non-corrosive \n",
    "environments. \n",
    "6.\n",
    "Provide manufacturer recommended specialty fasteners including threaded rod \n",
    "assemblies, beam clamps, flange clips, C and Z purlin clips. \n",
    "2.02\n",
    "STRUCTURAL SUPPORT SYSTEMS SUBMITTALS\n",
    "A.\n",
    "Slotted strut supports\n",
    "1.\n",
    "Acceptable manufacturers:\n",
    "a.\n",
    "B-line\n",
    "b.\n",
    "Unistrut\n",
    "c.\n",
    "Or approved equal\n",
    "2.\n",
    "Provide continuous slotted strut and all associated fittings and hardware.\n",
    "3.\n",
    "Use:\n",
    "a.\n",
    "Post and grid support system inside communications spaces.\n",
    "b.\n",
    "Trapeze and bracing type supports.\n",
    "4.\n",
    "Slotted struts and fittings shall have the manufacturer’s name, part number, and \n",
    "material heat code identification number stamped in the part itself for \n",
    "identification.   \n",
    "5.\n",
    "Material certification sheets and test reports must be publically available by the \n",
    "manufacturer.\n",
    "6.\n",
    "Single slotted strut shall be 1-5/8” wide in varying heights and welded \n",
    "combinations as required to meet load capacities and designs indicated on the \n",
    "drawings.\n",
    "7.\n",
    "Materials and Finish:  Material and finish specifications for each strut type are as \n",
    "follows:\n",
    "a.\n",
    "Aluminum:  Strut shall be manufactured of extruded aluminum alloy \n",
    "6063-T6.  All fittings and hardware shall be zinc plated according to \n",
    "ASTM B633 (SC3 for fittings, SC1 for threaded hardware) for indoor use \n",
    "only.  For outdoor use, all fittings and hardware shall be stainless steel \n",
    "Type 304 [Type 316].  [Fittings shall be hot dip galvanized after \n",
    "fabrication in accordance with ASTM 123 with stainless steel Type 304 \n",
    "[Type 316] or chromium zinc ASTM F1136 Gr. 3.]\n",
    "WSP B2115173.000\n",
    "b.\n",
    "Pre-galvanized Steel:  Strut shall be made from steel meeting the \n",
    "minimum mechanical properties of ASTM A653 SS, Grade 33, and mill \n",
    "galvanized in accordance with coating designation G90.  Fittings shall be \n",
    "manufactured from steel meeting the minimum requirements of ASTM \n",
    "A907 SS, Grade 33.  All fittings and hardware shall be zinc plated in \n",
    "accordance with ASTM B633 (SC3 for fittings, SC1 for threaded \n",
    "hardware).\n",
    "PART 3 - EXECUTION\n",
    "3.01\n",
    "NON-CONTINUOUS CABLE SUPPORT SYSTEMS\n",
    "A.\n",
    "Follow manufacturer’s instructions and recommended industry standards and guidelines \n",
    "for installation. \n",
    "  \n",
    "B.\n",
    "The installed non-continuous support system must be an independent support structure \n",
    "for the communications system.\n",
    "C.\n",
    "Draping cables over other structures in the ceiling is unacceptable.  Water pipes, ceiling \n",
    "grid, sprinkler system, electrical supports, air ducts or any other in-ceiling structure may \n",
    "not be used for cable support. \n",
    "D.\n",
    "Non-continuous supports shall be used to supplement the main cable support system \n",
    "when any cabling leaves the main support system or is unsupported for more than three \n",
    "and one half feet (3’-6”).   \n",
    "E.\n",
    "Non-continuous supports shall be installed with ceiling wire or threaded rod secured to \n",
    "the slab above to support the communications cable infrastructure parallel to the slab \n",
    "throughout the cable plant, unless site conditions dictate a non-parallel installation.   \n",
    "F.\n",
    "Non-continuous supports must be routed to follow existing corridors and parallel or 90 \n",
    "degree angles from all walls and the cable tray whenever possible.\n",
    "G.\n",
    "Non-continuous support system is a method of supporting horizontal network cabling \n",
    "between the communications intermediate distribution rooms (IDFs) and the work area \n",
    "outlet where cable tray assemblies are not installed.\n",
    "H.\n",
    "Non-continuous support system shall consist of a scalable pathway system able to \n",
    "accommodate a 50% increase in future cable counts.\n",
    "I.\n",
    "Under no circumstances shall the non-continuous support pathway be obstructed by \n",
    "other structural obstructions for example, fire sprinkler pipes, mechanical ductwork, \n",
    "structural beams, electrical junction boxes and/or conduits, ceilings etc.\n",
    "J.\n",
    "Under no circumstances shall the non-continuous supports be spaced further than the \n",
    "allowed 4’-0” or at such intervals as to allow cable bundles supported to rest on any \n",
    "structural obstructions for example, fire sprinkler pipes, mechanical ductwork, structural \n",
    "beams, electrical junction boxes and/or conduits, ceilings etc.\n",
    "K.\n",
    "The non-continuous support system shall at all times allow for EIA/TIA standards \n",
    "compliant cable bend radii to accommodate copper and fiber station cabling.\n",
    "WSP B2115173.000\n",
    "L.\n",
    "The non-continuous supports system shall be installed in a structured grid pattern \n",
    "perpendicular to the existing cable tray pathways and shall make use of a modular \n",
    "assembly method to support a scalable pathway system for future needs.\n",
    "M.\n",
    "Cable bundles inside the non-continuous supports system shall at all times be bundled \n",
    "neatly to lay inside the hook system with no excessive cable slack or loop overhang.\n",
    "N.\n",
    "The non-continuous supports system shall be suspended off ¼” threaded rod supported \n",
    "off the slab above with approved anchors. Provide bracing wires and steel straps at \n",
    "minimum every 25’, at all directional changes in the non-continuous support system \n",
    "pathway and at all intersections of the non-continuous support system pathways.\n",
    "O.\n",
    "Other approved methods of supporting the non-continuous supports are with structural \n",
    "beam clamps, flange clips, C and Z purlin clips.\n",
    "P.\n",
    "Installation and configuration shall conform to the requirements of ANSI/TIA-568-C.0, \n",
    "ANSI/TIA-568-C.1 & ANSI/TIA-569-B, NFPA 70 (National Electrical Code), applicable \n",
    "local codes, and to the manufacturer's installation instructions.\n",
    "Q.\n",
    "Install cables using techniques, practices, and methods that are consistent with Category \n",
    "5e or higher requirements and that supports Category 5e or higher performance of \n",
    "completed and linked signal paths, end to end.\n",
    "R.\n",
    "Install cables without damaging conductors, shield, or jacket.\n",
    "S.\n",
    "Do not bend cables, in handling or in installing, to smaller radii than minimums \n",
    "recommended by manufacturer.\n",
    "T.\n",
    "Pull cables without exceeding cable manufacturer's recommended pulling tensions.  Use \n",
    "pulling means that will not damage media.\n",
    "U.\n",
    "Do not exceed load ratings specified by manufacturer.\n",
    "V.\n",
    "Adjustable non-continuous support sling shall have a static load limit of 100 lbs.\n",
    "W.\n",
    "To avoid electromagnetic interference (EMI), pathways shall provide minimum clearances \n",
    "of four feet from motors or transformers, one foot from conduit and cables used for \n",
    "electrical power distribution, and five inches from fluorescent lighting.  Pathways shall \n",
    "cross perpendicular to fluorescent lighting and electrical power cables or conduits.\n",
    "3.02\n",
    "STRUCTURAL SUPPORT SYSTEMS\n",
    "A.\n",
    "Slotted strut supports\n",
    "1.\n",
    "Leftover construction dust, metal filings and debris from drilling, cutting, sawing \n",
    "and any other construction activity can be detrimental to electronic equipment in \n",
    "production communications room environments. The Contractor shall be required \n",
    "to place dust protective plastic covers at all times over HVAC systems, UPS \n",
    "power systems and any other equipment or furniture that is occupying the space \n",
    "during construction when the Contractor is doing construction work in the \n",
    "immediate vicinity of this equipment. This will prevent dust, metal filings and \n",
    "debris collection in the equipment during construction. Dust protection covers to \n",
    "be approved by the Owner prior to installation.\n",
    "WSP B2115173.000\n",
    "2.\n",
    "The Contractor shall do vacuuming, mopping and cleaning of immediate \n",
    "environment around any area where drilling, cutting, and sawing and any other \n",
    "construction activity is taking place at the same time of the construction activity.\n",
    "3.\n",
    "The Contractor shall do vacuuming, mopping and cleaning of the entire \n",
    "communications room environment prior to termination of cabling and prior to \n",
    "electronic hardware being installed inside the technology rooms.\n",
    "4.\n",
    "Install cable trays as indicated on the drawings, in accordance with the \n",
    "manufacturer’s instructions, and with recognized industry practices to ensure \n",
    "compliance with requirements of NEC.\n",
    "5.\n",
    "Drawings are for assistance and guidance, but exact routing, locations, distances \n",
    "and levels will be governed by actual field conditions. Verify exact location of \n",
    "slotted strut support system with installed utilities and other existing obstructions. \n",
    "6.\n",
    "Check actual site conditions prior to start of any work. Ensure all preceding trade \n",
    "work associated with the communications system is accurate and complete \n",
    "before proceeding with installation or use of products specified in this section.\n",
    "7.\n",
    "Installation of slotted strut support systems shall provide minimum workable \n",
    "space clearances to the following:\n",
    "a.\n",
    "Ensure that slotted strut support system do not interfere with or restrict \n",
    "access to lighting fixtures, other structural supports, air ducts, conduits, \n",
    "piping, cable trays or raceways and other trades installations.\n",
    "8.\n",
    "Installation of slotted strut support systems must at all times provide a clear cable \n",
    "pathway to accommodate the installation of communications cable types and \n",
    "conform to the telecommunications industry standard bend radii for these cables.\n",
    "9.\n",
    "Openings through fire partitions, fire walls or walls and floors shall be laid out in \n",
    "advance and fully coordinated with other trades.  \n",
    "10.\n",
    "All field-cut struts shall be de-burred prior to placement.\n",
    "11.\n",
    "Provide external grounding straps locations where strut continuity is interrupted.\n",
    "12.\n",
    "Install trapeze, post and grid strut support systems level and straight.\n",
    "13.\n",
    "Provide all hardware, accessories, fasteners, anchors, threaded rods and strut \n",
    "supports required to provide a complete system.\n",
    "14.\n",
    "The installed slotted strut support system must be an independent support \n",
    "structure for the communications system.\n",
    "15.\n",
    "The slotted strut support grid & post system shall be bonded and grounded to the \n",
    "telecom ground bar with a continuous #6 AWG cable and the terminal ground \n",
    "support.\n",
    "3.03\n",
    "CLOSEOUT AND ACCEPTANCE\n",
    "A.\n",
    "No additional burden to the Owner regarding costs, network down-time and/or end user \n",
    "interruption shall result from the re-installation of specified components. Scheduling for \n",
    "reinstallation work shall be coordinated, in writing, with the Owner prior to beginning the \n",
    "work.\n",
    "B.\n",
    "All specified Communications systems indicated on the drawings and specifications shall \n",
    "be complete.\n",
    "C.\n",
    "Specified shop drawings and product submittals shall have been submitted for review \n",
    "and all review comments and deficiencies shall have been resolved.  Final shop drawings \n",
    "and product submittals shall have been submitted, reviewed and found to meet the \n",
    "requirements of the specifications.\n",
    "WSP B2115173.000\n",
    "D.\n",
    "Issues and deficiencies identified in field reports and punch lists shall have been \n",
    "resolved.  Final as-built drawings shall have been submitted, reviewed and found to meet \n",
    "the requirements of the specifications.\n",
    "E.\n",
    "Contractor shall provide written notice of final completion of the telecom infrastructure. \n",
    "Upon receipt, the Owner’s Representative will review/observe the completed installation. \n",
    "Once the Owner’s Representative is satisfied that all work is in accordance with the \n",
    "Contract Documents, the Contractor will be notified in writing.\n",
    "END OF SECTION\n",
    "\"\"\"\n"
   ]
  },
  {
   "cell_type": "markdown",
   "metadata": {},
   "source": [
    "## Step 3 - Preprocessing Data"
   ]
  },
  {
   "cell_type": "markdown",
   "metadata": {},
   "source": [
    "### A. Use Custom NER To Extract Section Number, Section Name"
   ]
  },
  {
   "cell_type": "code",
   "execution_count": 21,
   "metadata": {},
   "outputs": [
    {
     "name": "stdout",
     "output_type": "stream",
     "text": [
      "83\n"
     ]
    },
    {
     "data": {
      "text/plain": [
       "'SECTION 27 05 29\\nHANGERS AND SUPPORTS FOR COMMUNICATIONS SYSTEMS\\nWSP B2115173.000\\n'"
      ]
     },
     "execution_count": 21,
     "metadata": {},
     "output_type": "execute_result"
    }
   ],
   "source": [
    "start_index = re.search(r'SECTION|DOCUMENT', data).start()\n",
    "end_index= data.rindex(\"PART 1\")\n",
    "\n",
    "print(end_index)\n",
    "section_details = data[start_index:end_index]\n",
    "section_details"
   ]
  },
  {
   "cell_type": "code",
   "execution_count": 22,
   "metadata": {},
   "outputs": [
    {
     "name": "stdout",
     "output_type": "stream",
     "text": [
      "Section Number - 27 05 29\n",
      "Section Name - HANGERS AND SUPPORTS FOR COMMUNICATIONS SYSTEMS\n"
     ]
    }
   ],
   "source": [
    "nlp2 = spacy.load(\"Spacy Custom NER Dump/\")\n",
    "\n",
    "spec_number = \"\"\n",
    "spec_name = \"\"\n",
    "flag1, flag2 = False, False\n",
    "section_data = nlp2(section_details)\n",
    "for sent in section_data.ents:\n",
    "    if(sent.label_ == 'section_number'):\n",
    "        spec_number = str(sent)\n",
    "        flag1 = True\n",
    "    elif(sent.label_ == 'section_name'):\n",
    "        spec_name = str(sent)\n",
    "        flag2 = True\n",
    "    elif(flag1 and flag2):\n",
    "        break\n",
    "\n",
    "if(not flag1):\n",
    "    spec_number = \"NA\"\n",
    "\n",
    "if(not flag2):\n",
    "    spec_name = \"NA\"\n",
    "\n",
    "if(not flag1 and not flag2):\n",
    "    sect\n",
    "\n",
    "print(\"Section Number - {}\".format(spec_number))\n",
    "print(\"Section Name - {}\".format(spec_name))"
   ]
  },
  {
   "cell_type": "code",
   "execution_count": 23,
   "metadata": {},
   "outputs": [],
   "source": [
    "section_details1 = []\n",
    "for line in section_details.splitlines():\n",
    "    if(line.strip() == \"\"):\n",
    "        continue\n",
    "    else:\n",
    "        section_details1.append(line)"
   ]
  },
  {
   "cell_type": "markdown",
   "metadata": {},
   "source": [
    "### B. Removed Empty Lines and End Of Section/ Document"
   ]
  },
  {
   "cell_type": "code",
   "execution_count": 24,
   "metadata": {},
   "outputs": [
    {
     "data": {
      "text/plain": [
       "\"PART 1 - GENERAL\\n1.01\\nRELATED DOCUMENTS\\nA.\\nGeneral provisions of Contract, including General and Supplementary Conditions and \\nDivision-1 Specification sections.\\nB.\\nArchitectural, Electrical, and Telecommunications Drawings.  Other systems drawings \\nmay apply.\\nC.\\nDivision 26 Basic Electrical Materials and Methods sections apply to work of this section.\\nD.\\nVertical Transportation (Elevators, Escalators, etc.) Specifications and/or Codes \\nRequirements.\\nE.\\nRough carpentry is specified in a Division 6 section.\\n1.02\\nQUALITY ASSURANCE\\nA.\\nRefer to Section 27 05 00 for requirements that shall be fulfilled as part of this \\nspecification section.\\n1.03\\nSUBMITTALS\\nA.\\nRefer to Section 27 05 00 for requirements that shall be fulfilled as part of this \\nspecification section.\\n1.04\\nWORK INCLUDED\\nA.\\nRefer to Section 27 05 00 for requirements that shall be fulfilled as part of this \\nspecification section.\\nWSP B2115173.000\\nPART 2 - PRODUCTS\\n2.01\\nNON-CONTINUOUS CABLE SUPPORT SYSTEMS\\nA.\\nAcceptable Manufacturers\\n1.\\nB-line\\n2.\\nErico\\n3.\\nOr approved equal\\nB.\\nNon-continuous cable supports\\n1.\\nNon-continuous cable supports shall provide a bearing surface of sufficient width \\nto comply with required bend radii of high-performance cables. \\n2.\\ncULus listed.\\n3.\\nNon-continuous cable supports shall have flared edges to prevent damage while \\ninstalling cables. \\n4.\\nNon-continuous cable supports sized 1 5/16” and larger shall have a cable \\nretainer strap to provide containment of cables within the hanger.  The cable \\nretainer strap shall be removable and reusable and be suitable for use in air \\nhandling spaces.  \\n5.\\nNon-continuous cable supports shall be rated for indoor use in non-corrosive \\nenvironments. \\n6.\\nProvide manufacturer recommended specialty fasteners including threaded rod \\nassemblies, beam clamps, flange clips, C and Z purlin clips. \\n2.02\\nSTRUCTURAL SUPPORT SYSTEMS SUBMITTALS\\nA.\\nSlotted strut supports\\n1.\\nAcceptable manufacturers:\\na.\\nB-line\\nb.\\nUnistrut\\nc.\\nOr approved equal\\n2.\\nProvide continuous slotted strut and all associated fittings and hardware.\\n3.\\nUse:\\na.\\nPost and grid support system inside communications spaces.\\nb.\\nTrapeze and bracing type supports.\\n4.\\nSlotted struts and fittings shall have the manufacturer’s name, part number, and \\nmaterial heat code identification number stamped in the part itself for \\nidentification.   \\n5.\\nMaterial certification sheets and test reports must be publically available by the \\nmanufacturer.\\n6.\\nSingle slotted strut shall be 1-5/8” wide in varying heights and welded \\ncombinations as required to meet load capacities and designs indicated on the \\ndrawings.\\n7.\\nMaterials and Finish:  Material and finish specifications for each strut type are as \\nfollows:\\na.\\nAluminum:  Strut shall be manufactured of extruded aluminum alloy \\n6063-T6.  All fittings and hardware shall be zinc plated according to \\nASTM B633 (SC3 for fittings, SC1 for threaded hardware) for indoor use \\nonly.  For outdoor use, all fittings and hardware shall be stainless steel \\nType 304 [Type 316].  [Fittings shall be hot dip galvanized after \\nfabrication in accordance with ASTM 123 with stainless steel Type 304 \\n[Type 316] or chromium zinc ASTM F1136 Gr. 3.]\\nWSP B2115173.000\\nb.\\nPre-galvanized Steel:  Strut shall be made from steel meeting the \\nminimum mechanical properties of ASTM A653 SS, Grade 33, and mill \\ngalvanized in accordance with coating designation G90.  Fittings shall be \\nmanufactured from steel meeting the minimum requirements of ASTM \\nA907 SS, Grade 33.  All fittings and hardware shall be zinc plated in \\naccordance with ASTM B633 (SC3 for fittings, SC1 for threaded \\nhardware).\\nPART 3 - EXECUTION\\n3.01\\nNON-CONTINUOUS CABLE SUPPORT SYSTEMS\\nA.\\nFollow manufacturer’s instructions and recommended industry standards and guidelines \\nfor installation. \\n  \\nB.\\nThe installed non-continuous support system must be an independent support structure \\nfor the communications system.\\nC.\\nDraping cables over other structures in the ceiling is unacceptable.  Water pipes, ceiling \\ngrid, sprinkler system, electrical supports, air ducts or any other in-ceiling structure may \\nnot be used for cable support. \\nD.\\nNon-continuous supports shall be used to supplement the main cable support system \\nwhen any cabling leaves the main support system or is unsupported for more than three \\nand one half feet (3’-6”).   \\nE.\\nNon-continuous supports shall be installed with ceiling wire or threaded rod secured to \\nthe slab above to support the communications cable infrastructure parallel to the slab \\nthroughout the cable plant, unless site conditions dictate a non-parallel installation.   \\nF.\\nNon-continuous supports must be routed to follow existing corridors and parallel or 90 \\ndegree angles from all walls and the cable tray whenever possible.\\nG.\\nNon-continuous support system is a method of supporting horizontal network cabling \\nbetween the communications intermediate distribution rooms (IDFs) and the work area \\noutlet where cable tray assemblies are not installed.\\nH.\\nNon-continuous support system shall consist of a scalable pathway system able to \\naccommodate a 50% increase in future cable counts.\\nI.\\nUnder no circumstances shall the non-continuous support pathway be obstructed by \\nother structural obstructions for example, fire sprinkler pipes, mechanical ductwork, \\nstructural beams, electrical junction boxes and/or conduits, ceilings etc.\\nJ.\\nUnder no circumstances shall the non-continuous supports be spaced further than the \\nallowed 4’-0” or at such intervals as to allow cable bundles supported to rest on any \\nstructural obstructions for example, fire sprinkler pipes, mechanical ductwork, structural \\nbeams, electrical junction boxes and/or conduits, ceilings etc.\\nK.\\nThe non-continuous support system shall at all times allow for EIA/TIA standards \\ncompliant cable bend radii to accommodate copper and fiber station cabling.\\nWSP B2115173.000\\nL.\\nThe non-continuous supports system shall be installed in a structured grid pattern \\nperpendicular to the existing cable tray pathways and shall make use of a modular \\nassembly method to support a scalable pathway system for future needs.\\nM.\\nCable bundles inside the non-continuous supports system shall at all times be bundled \\nneatly to lay inside the hook system with no excessive cable slack or loop overhang.\\nN.\\nThe non-continuous supports system shall be suspended off ¼” threaded rod supported \\noff the slab above with approved anchors. Provide bracing wires and steel straps at \\nminimum every 25’, at all directional changes in the non-continuous support system \\npathway and at all intersections of the non-continuous support system pathways.\\nO.\\nOther approved methods of supporting the non-continuous supports are with structural \\nbeam clamps, flange clips, C and Z purlin clips.\\nP.\\nInstallation and configuration shall conform to the requirements of ANSI/TIA-568-C.0, \\nANSI/TIA-568-C.1 & ANSI/TIA-569-B, NFPA 70 (National Electrical Code), applicable \\nlocal codes, and to the manufacturer's installation instructions.\\nQ.\\nInstall cables using techniques, practices, and methods that are consistent with Category \\n5e or higher requirements and that supports Category 5e or higher performance of \\ncompleted and linked signal paths, end to end.\\nR.\\nInstall cables without damaging conductors, shield, or jacket.\\nS.\\nDo not bend cables, in handling or in installing, to smaller radii than minimums \\nrecommended by manufacturer.\\nT.\\nPull cables without exceeding cable manufacturer's recommended pulling tensions.  Use \\npulling means that will not damage media.\\nU.\\nDo not exceed load ratings specified by manufacturer.\\nV.\\nAdjustable non-continuous support sling shall have a static load limit of 100 lbs.\\nW.\\nTo avoid electromagnetic interference (EMI), pathways shall provide minimum clearances \\nof four feet from motors or transformers, one foot from conduit and cables used for \\nelectrical power distribution, and five inches from fluorescent lighting.  Pathways shall \\ncross perpendicular to fluorescent lighting and electrical power cables or conduits.\\n3.02\\nSTRUCTURAL SUPPORT SYSTEMS\\nA.\\nSlotted strut supports\\n1.\\nLeftover construction dust, metal filings and debris from drilling, cutting, sawing \\nand any other construction activity can be detrimental to electronic equipment in \\nproduction communications room environments. The Contractor shall be required \\nto place dust protective plastic covers at all times over HVAC systems, UPS \\npower systems and any other equipment or furniture that is occupying the space \\nduring construction when the Contractor is doing construction work in the \\nimmediate vicinity of this equipment. This will prevent dust, metal filings and \\ndebris collection in the equipment during construction. Dust protection covers to \\nbe approved by the Owner prior to installation.\\nWSP B2115173.000\\n2.\\nThe Contractor shall do vacuuming, mopping and cleaning of immediate \\nenvironment around any area where drilling, cutting, and sawing and any other \\nconstruction activity is taking place at the same time of the construction activity.\\n3.\\nThe Contractor shall do vacuuming, mopping and cleaning of the entire \\ncommunications room environment prior to termination of cabling and prior to \\nelectronic hardware being installed inside the technology rooms.\\n4.\\nInstall cable trays as indicated on the drawings, in accordance with the \\nmanufacturer’s instructions, and with recognized industry practices to ensure \\ncompliance with requirements of NEC.\\n5.\\nDrawings are for assistance and guidance, but exact routing, locations, distances \\nand levels will be governed by actual field conditions. Verify exact location of \\nslotted strut support system with installed utilities and other existing obstructions. \\n6.\\nCheck actual site conditions prior to start of any work. Ensure all preceding trade \\nwork associated with the communications system is accurate and complete \\nbefore proceeding with installation or use of products specified in this section.\\n7.\\nInstallation of slotted strut support systems shall provide minimum workable \\nspace clearances to the following:\\na.\\nEnsure that slotted strut support system do not interfere with or restrict \\naccess to lighting fixtures, other structural supports, air ducts, conduits, \\npiping, cable trays or raceways and other trades installations.\\n8.\\nInstallation of slotted strut support systems must at all times provide a clear cable \\npathway to accommodate the installation of communications cable types and \\nconform to the telecommunications industry standard bend radii for these cables.\\n9.\\nOpenings through fire partitions, fire walls or walls and floors shall be laid out in \\nadvance and fully coordinated with other trades.  \\n10.\\nAll field-cut struts shall be de-burred prior to placement.\\n11.\\nProvide external grounding straps locations where strut continuity is interrupted.\\n12.\\nInstall trapeze, post and grid strut support systems level and straight.\\n13.\\nProvide all hardware, accessories, fasteners, anchors, threaded rods and strut \\nsupports required to provide a complete system.\\n14.\\nThe installed slotted strut support system must be an independent support \\nstructure for the communications system.\\n15.\\nThe slotted strut support grid & post system shall be bonded and grounded to the \\ntelecom ground bar with a continuous #6 AWG cable and the terminal ground \\nsupport.\\n3.03\\nCLOSEOUT AND ACCEPTANCE\\nA.\\nNo additional burden to the Owner regarding costs, network down-time and/or end user \\ninterruption shall result from the re-installation of specified components. Scheduling for \\nreinstallation work shall be coordinated, in writing, with the Owner prior to beginning the \\nwork.\\nB.\\nAll specified Communications systems indicated on the drawings and specifications shall \\nbe complete.\\nC.\\nSpecified shop drawings and product submittals shall have been submitted for review \\nand all review comments and deficiencies shall have been resolved.  Final shop drawings \\nand product submittals shall have been submitted, reviewed and found to meet the \\nrequirements of the specifications.\\nWSP B2115173.000\\nD.\\nIssues and deficiencies identified in field reports and punch lists shall have been \\nresolved.  Final as-built drawings shall have been submitted, reviewed and found to meet \\nthe requirements of the specifications.\\nE.\\nContractor shall provide written notice of final completion of the telecom infrastructure. \\nUpon receipt, the Owner’s Representative will review/observe the completed installation. \\nOnce the Owner’s Representative is satisfied that all work is in accordance with the \\nContract Documents, the Contractor will be notified in writing.\\nEND OF SECTION\\n\""
      ]
     },
     "execution_count": 24,
     "metadata": {},
     "output_type": "execute_result"
    }
   ],
   "source": [
    "data = data[end_index:]\n",
    "data"
   ]
  },
  {
   "cell_type": "code",
   "execution_count": 25,
   "metadata": {},
   "outputs": [
    {
     "name": "stdout",
     "output_type": "stream",
     "text": [
      "PART 1 - GENERAL\n",
      "1.01\n",
      "RELATED DOCUMENTS\n",
      "A.\n",
      "General provisions of Contract, including General and Supplementary Conditions and \n",
      "Division-1 Specification sections.\n",
      "B.\n",
      "Architectural, Electrical, and Telecommunications Drawings.  Other systems drawings \n",
      "may apply.\n",
      "C.\n",
      "Division 26 Basic Electrical Materials and Methods sections apply to work of this section.\n",
      "D.\n",
      "Vertical Transportation (Elevators, Escalators, etc.) Specifications and/or Codes \n",
      "Requirements.\n",
      "E.\n",
      "Rough carpentry is specified in a Division 6 section.\n",
      "1.02\n",
      "QUALITY ASSURANCE\n",
      "A.\n",
      "Refer to Section 27 05 00 for requirements that shall be fulfilled as part of this \n",
      "specification section.\n",
      "1.03\n",
      "SUBMITTALS\n",
      "A.\n",
      "Refer to Section 27 05 00 for requirements that shall be fulfilled as part of this \n",
      "specification section.\n",
      "1.04\n",
      "WORK INCLUDED\n",
      "A.\n",
      "Refer to Section 27 05 00 for requirements that shall be fulfilled as part of this \n",
      "specification section.\n",
      "PART 2 - PRODUCTS\n",
      "2.01\n",
      "NON-CONTINUOUS CABLE SUPPORT SYSTEMS\n",
      "A.\n",
      "Acceptable Manufacturers\n",
      "1.\n",
      "B-line\n",
      "2.\n",
      "Erico\n",
      "3.\n",
      "Or approved equal\n",
      "B.\n",
      "Non-continuous cable supports\n",
      "1.\n",
      "Non-continuous cable supports shall provide a bearing surface of sufficient width \n",
      "to comply with required bend radii of high-performance cables. \n",
      "2.\n",
      "cULus listed.\n",
      "3.\n",
      "Non-continuous cable supports shall have flared edges to prevent damage while \n",
      "installing cables. \n",
      "4.\n",
      "Non-continuous cable supports sized 1 5/16” and larger shall have a cable \n",
      "retainer strap to provide containment of cables within the hanger.  The cable \n",
      "retainer strap shall be removable and reusable and be suitable for use in air \n",
      "handling spaces.  \n",
      "5.\n",
      "Non-continuous cable supports shall be rated for indoor use in non-corrosive \n",
      "environments. \n",
      "6.\n",
      "Provide manufacturer recommended specialty fasteners including threaded rod \n",
      "assemblies, beam clamps, flange clips, C and Z purlin clips. \n",
      "2.02\n",
      "STRUCTURAL SUPPORT SYSTEMS SUBMITTALS\n",
      "A.\n",
      "Slotted strut supports\n",
      "1.\n",
      "Acceptable manufacturers:\n",
      "a.\n",
      "B-line\n",
      "b.\n",
      "Unistrut\n",
      "c.\n",
      "Or approved equal\n",
      "2.\n",
      "Provide continuous slotted strut and all associated fittings and hardware.\n",
      "3.\n",
      "Use:\n",
      "a.\n",
      "Post and grid support system inside communications spaces.\n",
      "b.\n",
      "Trapeze and bracing type supports.\n",
      "4.\n",
      "Slotted struts and fittings shall have the manufacturer’s name, part number, and \n",
      "material heat code identification number stamped in the part itself for \n",
      "identification.   \n",
      "5.\n",
      "Material certification sheets and test reports must be publically available by the \n",
      "manufacturer.\n",
      "6.\n",
      "Single slotted strut shall be 1-5/8” wide in varying heights and welded \n",
      "combinations as required to meet load capacities and designs indicated on the \n",
      "drawings.\n",
      "7.\n",
      "Materials and Finish:  Material and finish specifications for each strut type are as \n",
      "follows:\n",
      "a.\n",
      "Aluminum:  Strut shall be manufactured of extruded aluminum alloy \n",
      "6063-T6.  All fittings and hardware shall be zinc plated according to \n",
      "ASTM B633 (SC3 for fittings, SC1 for threaded hardware) for indoor use \n",
      "only.  For outdoor use, all fittings and hardware shall be stainless steel \n",
      "Type 304 [Type 316].  [Fittings shall be hot dip galvanized after \n",
      "fabrication in accordance with ASTM 123 with stainless steel Type 304 \n",
      "[Type 316] or chromium zinc ASTM F1136 Gr. 3.]\n",
      "b.\n",
      "Pre-galvanized Steel:  Strut shall be made from steel meeting the \n",
      "minimum mechanical properties of ASTM A653 SS, Grade 33, and mill \n",
      "galvanized in accordance with coating designation G90.  Fittings shall be \n",
      "manufactured from steel meeting the minimum requirements of ASTM \n",
      "A907 SS, Grade 33.  All fittings and hardware shall be zinc plated in \n",
      "accordance with ASTM B633 (SC3 for fittings, SC1 for threaded \n",
      "hardware).\n",
      "PART 3 - EXECUTION\n",
      "3.01\n",
      "NON-CONTINUOUS CABLE SUPPORT SYSTEMS\n",
      "A.\n",
      "Follow manufacturer’s instructions and recommended industry standards and guidelines \n",
      "for installation. \n",
      "B.\n",
      "The installed non-continuous support system must be an independent support structure \n",
      "for the communications system.\n",
      "C.\n",
      "Draping cables over other structures in the ceiling is unacceptable.  Water pipes, ceiling \n",
      "grid, sprinkler system, electrical supports, air ducts or any other in-ceiling structure may \n",
      "not be used for cable support. \n",
      "D.\n",
      "Non-continuous supports shall be used to supplement the main cable support system \n",
      "when any cabling leaves the main support system or is unsupported for more than three \n",
      "and one half feet (3’-6”).   \n",
      "E.\n",
      "Non-continuous supports shall be installed with ceiling wire or threaded rod secured to \n",
      "the slab above to support the communications cable infrastructure parallel to the slab \n",
      "throughout the cable plant, unless site conditions dictate a non-parallel installation.   \n",
      "F.\n",
      "Non-continuous supports must be routed to follow existing corridors and parallel or 90 \n",
      "degree angles from all walls and the cable tray whenever possible.\n",
      "G.\n",
      "Non-continuous support system is a method of supporting horizontal network cabling \n",
      "between the communications intermediate distribution rooms (IDFs) and the work area \n",
      "outlet where cable tray assemblies are not installed.\n",
      "H.\n",
      "Non-continuous support system shall consist of a scalable pathway system able to \n",
      "accommodate a 50% increase in future cable counts.\n",
      "I.\n",
      "Under no circumstances shall the non-continuous support pathway be obstructed by \n",
      "other structural obstructions for example, fire sprinkler pipes, mechanical ductwork, \n",
      "structural beams, electrical junction boxes and/or conduits, ceilings etc.\n",
      "J.\n",
      "Under no circumstances shall the non-continuous supports be spaced further than the \n",
      "allowed 4’-0” or at such intervals as to allow cable bundles supported to rest on any \n",
      "structural obstructions for example, fire sprinkler pipes, mechanical ductwork, structural \n",
      "beams, electrical junction boxes and/or conduits, ceilings etc.\n",
      "K.\n",
      "The non-continuous support system shall at all times allow for EIA/TIA standards \n",
      "compliant cable bend radii to accommodate copper and fiber station cabling.\n",
      "L.\n",
      "The non-continuous supports system shall be installed in a structured grid pattern \n",
      "perpendicular to the existing cable tray pathways and shall make use of a modular \n",
      "assembly method to support a scalable pathway system for future needs.\n",
      "M.\n",
      "Cable bundles inside the non-continuous supports system shall at all times be bundled \n",
      "neatly to lay inside the hook system with no excessive cable slack or loop overhang.\n",
      "N.\n",
      "The non-continuous supports system shall be suspended off ¼” threaded rod supported \n",
      "off the slab above with approved anchors. Provide bracing wires and steel straps at \n",
      "minimum every 25’, at all directional changes in the non-continuous support system \n",
      "pathway and at all intersections of the non-continuous support system pathways.\n",
      "O.\n",
      "Other approved methods of supporting the non-continuous supports are with structural \n",
      "beam clamps, flange clips, C and Z purlin clips.\n",
      "P.\n",
      "Installation and configuration shall conform to the requirements of ANSI/TIA-568-C.0, \n",
      "ANSI/TIA-568-C.1 & ANSI/TIA-569-B, NFPA 70 (National Electrical Code), applicable \n",
      "local codes, and to the manufacturer's installation instructions.\n",
      "Q.\n",
      "Install cables using techniques, practices, and methods that are consistent with Category \n",
      "5e or higher requirements and that supports Category 5e or higher performance of \n",
      "completed and linked signal paths, end to end.\n",
      "R.\n",
      "Install cables without damaging conductors, shield, or jacket.\n",
      "S.\n",
      "Do not bend cables, in handling or in installing, to smaller radii than minimums \n",
      "recommended by manufacturer.\n",
      "T.\n",
      "Pull cables without exceeding cable manufacturer's recommended pulling tensions.  Use \n",
      "pulling means that will not damage media.\n",
      "U.\n",
      "Do not exceed load ratings specified by manufacturer.\n",
      "V.\n",
      "Adjustable non-continuous support sling shall have a static load limit of 100 lbs.\n",
      "W.\n",
      "To avoid electromagnetic interference (EMI), pathways shall provide minimum clearances \n",
      "of four feet from motors or transformers, one foot from conduit and cables used for \n",
      "electrical power distribution, and five inches from fluorescent lighting.  Pathways shall \n",
      "cross perpendicular to fluorescent lighting and electrical power cables or conduits.\n",
      "3.02\n",
      "STRUCTURAL SUPPORT SYSTEMS\n",
      "A.\n",
      "Slotted strut supports\n",
      "1.\n",
      "Leftover construction dust, metal filings and debris from drilling, cutting, sawing \n",
      "and any other construction activity can be detrimental to electronic equipment in \n",
      "production communications room environments. The Contractor shall be required \n",
      "to place dust protective plastic covers at all times over HVAC systems, UPS \n",
      "power systems and any other equipment or furniture that is occupying the space \n",
      "during construction when the Contractor is doing construction work in the \n",
      "immediate vicinity of this equipment. This will prevent dust, metal filings and \n",
      "debris collection in the equipment during construction. Dust protection covers to \n",
      "be approved by the Owner prior to installation.\n",
      "2.\n",
      "The Contractor shall do vacuuming, mopping and cleaning of immediate \n",
      "environment around any area where drilling, cutting, and sawing and any other \n",
      "construction activity is taking place at the same time of the construction activity.\n",
      "3.\n",
      "The Contractor shall do vacuuming, mopping and cleaning of the entire \n",
      "communications room environment prior to termination of cabling and prior to \n",
      "electronic hardware being installed inside the technology rooms.\n",
      "4.\n",
      "Install cable trays as indicated on the drawings, in accordance with the \n",
      "manufacturer’s instructions, and with recognized industry practices to ensure \n",
      "compliance with requirements of NEC.\n",
      "5.\n",
      "Drawings are for assistance and guidance, but exact routing, locations, distances \n",
      "and levels will be governed by actual field conditions. Verify exact location of \n",
      "slotted strut support system with installed utilities and other existing obstructions. \n",
      "6.\n",
      "Check actual site conditions prior to start of any work. Ensure all preceding trade \n",
      "work associated with the communications system is accurate and complete \n",
      "before proceeding with installation or use of products specified in this section.\n",
      "7.\n",
      "Installation of slotted strut support systems shall provide minimum workable \n",
      "space clearances to the following:\n",
      "a.\n",
      "Ensure that slotted strut support system do not interfere with or restrict \n",
      "access to lighting fixtures, other structural supports, air ducts, conduits, \n",
      "piping, cable trays or raceways and other trades installations.\n",
      "8.\n",
      "Installation of slotted strut support systems must at all times provide a clear cable \n",
      "pathway to accommodate the installation of communications cable types and \n",
      "conform to the telecommunications industry standard bend radii for these cables.\n",
      "9.\n",
      "Openings through fire partitions, fire walls or walls and floors shall be laid out in \n",
      "advance and fully coordinated with other trades.  \n",
      "10.\n",
      "All field-cut struts shall be de-burred prior to placement.\n",
      "11.\n",
      "Provide external grounding straps locations where strut continuity is interrupted.\n",
      "12.\n",
      "Install trapeze, post and grid strut support systems level and straight.\n",
      "13.\n",
      "Provide all hardware, accessories, fasteners, anchors, threaded rods and strut \n",
      "supports required to provide a complete system.\n",
      "14.\n",
      "The installed slotted strut support system must be an independent support \n",
      "structure for the communications system.\n",
      "15.\n",
      "The slotted strut support grid & post system shall be bonded and grounded to the \n",
      "telecom ground bar with a continuous #6 AWG cable and the terminal ground \n",
      "support.\n",
      "3.03\n",
      "CLOSEOUT AND ACCEPTANCE\n",
      "A.\n",
      "No additional burden to the Owner regarding costs, network down-time and/or end user \n",
      "interruption shall result from the re-installation of specified components. Scheduling for \n",
      "reinstallation work shall be coordinated, in writing, with the Owner prior to beginning the \n",
      "work.\n",
      "B.\n",
      "All specified Communications systems indicated on the drawings and specifications shall \n",
      "be complete.\n",
      "C.\n",
      "Specified shop drawings and product submittals shall have been submitted for review \n",
      "and all review comments and deficiencies shall have been resolved.  Final shop drawings \n",
      "and product submittals shall have been submitted, reviewed and found to meet the \n",
      "requirements of the specifications.\n",
      "D.\n",
      "Issues and deficiencies identified in field reports and punch lists shall have been \n",
      "resolved.  Final as-built drawings shall have been submitted, reviewed and found to meet \n",
      "the requirements of the specifications.\n",
      "E.\n",
      "Contractor shall provide written notice of final completion of the telecom infrastructure. \n",
      "Upon receipt, the Owner’s Representative will review/observe the completed installation. \n",
      "Once the Owner’s Representative is satisfied that all work is in accordance with the \n",
      "Contract Documents, the Contractor will be notified in writing.\n",
      "\n"
     ]
    }
   ],
   "source": [
    "\n",
    "final_data = \"\"\n",
    "head_flag = True\n",
    "for index, line in enumerate(data.splitlines()):\n",
    "    if(\"END OF SECTION\" in line or \"END OF DOCUMENT\" in line):\n",
    "        continue\n",
    "    elif(len(line.strip()) == 0):\n",
    "        continue\n",
    "    elif([ele for ele in section_details1 if(ele in line)]):\n",
    "        continue\n",
    "    else:\n",
    "        final_data = final_data + line + \"\\n\"\n",
    "    \n",
    "    \n",
    "print(final_data)\n"
   ]
  },
  {
   "cell_type": "markdown",
   "metadata": {},
   "source": [
    "### C. Find Index of PART"
   ]
  },
  {
   "cell_type": "code",
   "execution_count": 26,
   "metadata": {},
   "outputs": [
    {
     "name": "stdout",
     "output_type": "stream",
     "text": [
      "PART Starts At - 0\n"
     ]
    }
   ],
   "source": [
    "start = 0\n",
    "for i, l in enumerate(final_data.splitlines()):\n",
    "    if(l.upper().startswith(\"PART\")):\n",
    "        start = i\n",
    "        break\n",
    "\n",
    "print(\"PART Starts At - {}\".format(start))"
   ]
  },
  {
   "cell_type": "markdown",
   "metadata": {},
   "source": [
    "### D. Correct Wrong Lines and Mapp Into Final Lines"
   ]
  },
  {
   "cell_type": "code",
   "execution_count": 27,
   "metadata": {},
   "outputs": [],
   "source": [
    "final_lines = []\n",
    "index = -1\n",
    "for line in final_data.splitlines()[start:]:\n",
    "    if(line.strip().startswith(\"PART\")):\n",
    "        final_lines.append(line)\n",
    "        index = index + 1\n",
    "    elif(re.search(r\"^[0-9]\\.[0-9]\", line)):\n",
    "        final_lines.append(line)\n",
    "        index = index + 1\n",
    "    elif(re.search(r\"^[A-Za-z]\\.\", line)):\n",
    "        final_lines.append(line)\n",
    "        index = index + 1\n",
    "    elif(re.search(r\"^[0-9]+\\.\", line)):\n",
    "        final_lines.append(line)\n",
    "        index = index + 1\n",
    "    elif(re.search(r\"^[0-9]+\\)\", line)):\n",
    "        final_lines.append(line)\n",
    "        index = index + 1\n",
    "    elif(re.search(r\"^[a-z]+\\)\", line)):\n",
    "        final_lines.append(line)\n",
    "        index = index + 1\n",
    "    else:\n",
    "        final_lines[index] = final_lines[index] + \" \" + line\n",
    "    "
   ]
  },
  {
   "cell_type": "code",
   "execution_count": 9,
   "metadata": {},
   "outputs": [
    {
     "name": "stdout",
     "output_type": "stream",
     "text": [
      "['PART 1 - GENERAL', '1.01 RELATED DOCUMENTS', 'A. General provisions of Contract, including General and Supplementary Conditions and  Division-1 Specification sections.', 'B. Architectural, Electrical, and Telecommunications Drawings.  Other systems drawings  may apply.', 'C. Division 26 Basic Electrical Materials and Methods sections apply to work of this section.', 'D. Vertical Transportation (Elevators, Escalators, etc.) Specifications and/or Codes  Requirements.', 'E. Rough carpentry is specified in a Division 6 section.', '1.02 QUALITY ASSURANCE', 'A. Refer to Section 27 05 00 for requirements that shall be fulfilled as part of this  specification section.', '1.03 SUBMITTALS', 'A. Refer to Section 27 05 00 for requirements that shall be fulfilled as part of this  specification section.', '1.04 WORK INCLUDED', 'A. Refer to Section 27 05 00 for requirements that shall be fulfilled as part of this  specification section.', 'PART 2 - PRODUCTS', '2.01 NON-CONTINUOUS CABLE SUPPORT SYSTEMS', 'A. Acceptable Manufacturers', '1. B-line', '2. Erico', '3. Or approved equal', 'B. Non-continuous cable supports', '1. Non-continuous cable supports shall provide a bearing surface of sufficient width  to comply with required bend radii of high-performance cables. ', '2. cULus listed.', '3. Non-continuous cable supports shall have flared edges to prevent damage while  installing cables. ', '4. Non-continuous cable supports sized 1 5/16” and larger shall have a cable  retainer strap to provide containment of cables within the hanger.  The cable  retainer strap shall be removable and reusable and be suitable for use in air  handling spaces.  ', '5. Non-continuous cable supports shall be rated for indoor use in non-corrosive  environments. ', '6. Provide manufacturer recommended specialty fasteners including threaded rod  assemblies, beam clamps, flange clips, C and Z purlin clips. ', '2.02 STRUCTURAL SUPPORT SYSTEMS SUBMITTALS', 'A. Slotted strut supports', '1. Acceptable manufacturers:', 'a. B-line', 'b. Unistrut', 'c. Or approved equal', '2. Provide continuous slotted strut and all associated fittings and hardware.', '3. Use:', 'a. Post and grid support system inside communications spaces.', 'b. Trapeze and bracing type supports.', '4. Slotted struts and fittings shall have the manufacturer’s name, part number, and  material heat code identification number stamped in the part itself for  identification.   ', '5. Material certification sheets and test reports must be publically available by the  manufacturer.', '6. Single slotted strut shall be 1-5/8” wide in varying heights and welded  combinations as required to meet load capacities and designs indicated on the  drawings.', '7. Materials and Finish:  Material and finish specifications for each strut type are as  follows:', 'a. Aluminum:  Strut shall be manufactured of extruded aluminum alloy  6063-T6.  All fittings and hardware shall be zinc plated according to  ASTM B633 (SC3 for fittings, SC1 for threaded hardware) for indoor use  only.  For outdoor use, all fittings and hardware shall be stainless steel  Type 304 [Type 316].  [Fittings shall be hot dip galvanized after  fabrication in accordance with ASTM 123 with stainless steel Type 304  [Type 316] or chromium zinc ASTM F1136 Gr. 3.]', 'b. Pre-galvanized Steel:  Strut shall be made from steel meeting the  minimum mechanical properties of ASTM A653 SS, Grade 33, and mill  galvanized in accordance with coating designation G90.  Fittings shall be  manufactured from steel meeting the minimum requirements of ASTM  A907 SS, Grade 33.  All fittings and hardware shall be zinc plated in  accordance with ASTM B633 (SC3 for fittings, SC1 for threaded ', 'hardware).', 'PART 3 - EXECUTION', '3.01 NON-CONTINUOUS CABLE SUPPORT SYSTEMS', 'A. Follow manufacturer’s instructions and recommended industry standards and guidelines  for installation. ', 'B. The installed non-continuous support system must be an independent support structure  for the communications system.', 'C. Draping cables over other structures in the ceiling is unacceptable.  Water pipes, ceiling  grid, sprinkler system, electrical supports, air ducts or any other in-ceiling structure may  not be used for cable support. ', 'D. Non-continuous supports shall be used to supplement the main cable support system  when any cabling leaves the main support system or is unsupported for more than three  and one half feet (3’-6”).   ', 'E. Non-continuous supports shall be installed with ceiling wire or threaded rod secured to  the slab above to support the communications cable infrastructure parallel to the slab  throughout the cable plant, unless site conditions dictate a non-parallel installation.   ', 'F. Non-continuous supports must be routed to follow existing corridors and parallel or 90  degree angles from all walls and the cable tray whenever possible.', 'G. Non-continuous support system is a method of supporting horizontal network cabling  between the communications intermediate distribution rooms (IDFs) and the work area  outlet where cable tray assemblies are not installed.', 'H. Non-continuous support system shall consist of a scalable pathway system able to  accommodate a 50% increase in future cable counts.', 'I. Under no circumstances shall the non-continuous support pathway be obstructed by  other structural obstructions for example, fire sprinkler pipes, mechanical ductwork,  structural beams, electrical junction boxes and/or conduits, ceilings etc.', 'J. Under no circumstances shall the non-continuous supports be spaced further than the  allowed 4’-0” or at such intervals as to allow cable bundles supported to rest on any  structural obstructions for example, fire sprinkler pipes, mechanical ductwork, structural  beams, electrical junction boxes and/or conduits, ceilings etc.', 'K. The non-continuous support system shall at all times allow for EIA/TIA standards  compliant cable bend radii to accommodate copper and fiber station cabling.', 'L. The non-continuous supports system shall be installed in a structured grid pattern  perpendicular to the existing cable tray pathways and shall make use of a modular  assembly method to support a scalable pathway system for future needs.', 'M. Cable bundles inside the non-continuous supports system shall at all times be bundled  neatly to lay inside the hook system with no excessive cable slack or loop overhang.', 'N. The non-continuous supports system shall be suspended off ¼” threaded rod supported  off the slab above with approved anchors. Provide bracing wires and steel straps at  minimum every 25’, at all directional changes in the non-continuous support system  pathway and at all intersections of the non-continuous support system pathways.', 'O. Other approved methods of supporting the non-continuous supports are with structural  beam clamps, flange clips, C and Z purlin clips.', \"P. Installation and configuration shall conform to the requirements of ANSI/TIA-568-C.0,  ANSI/TIA-568-C.1 & ANSI/TIA-569-B, NFPA 70 (National Electrical Code), applicable  local codes, and to the manufacturer's installation instructions.\", 'Q. Install cables using techniques, practices, and methods that are consistent with Category  5e or higher requirements and that supports Category 5e or higher performance of  completed and linked signal paths, end to end.', 'R. Install cables without damaging conductors, shield, or jacket.', 'S. Do not bend cables, in handling or in installing, to smaller radii than minimums  recommended by manufacturer.', \"T. Pull cables without exceeding cable manufacturer's recommended pulling tensions.  Use  pulling means that will not damage media.\", 'U. Do not exceed load ratings specified by manufacturer.', 'V. Adjustable non-continuous support sling shall have a static load limit of 100 lbs.', 'W. To avoid electromagnetic interference (EMI), pathways shall provide minimum clearances  of four feet from motors or transformers, one foot from conduit and cables used for  electrical power distribution, and five inches from fluorescent lighting.  Pathways shall  cross perpendicular to fluorescent lighting and electrical power cables or conduits.', '3.02 STRUCTURAL SUPPORT SYSTEMS', 'A. Slotted strut supports', '1. Leftover construction dust, metal filings and debris from drilling, cutting, sawing  and any other construction activity can be detrimental to electronic equipment in  production communications room environments. The Contractor shall be required  to place dust protective plastic covers at all times over HVAC systems, UPS  power systems and any other equipment or furniture that is occupying the space  during construction when the Contractor is doing construction work in the  immediate vicinity of this equipment. This will prevent dust, metal filings and  debris collection in the equipment during construction. Dust protection covers to  be approved by the Owner prior to installation.', '2. The Contractor shall do vacuuming, mopping and cleaning of immediate  environment around any area where drilling, cutting, and sawing and any other  construction activity is taking place at the same time of the construction activity.', '3. The Contractor shall do vacuuming, mopping and cleaning of the entire  communications room environment prior to termination of cabling and prior to  electronic hardware being installed inside the technology rooms.', '4. Install cable trays as indicated on the drawings, in accordance with the  manufacturer’s instructions, and with recognized industry practices to ensure  compliance with requirements of NEC.', '5. Drawings are for assistance and guidance, but exact routing, locations, distances  and levels will be governed by actual field conditions. Verify exact location of  slotted strut support system with installed utilities and other existing obstructions. ', '6. Check actual site conditions prior to start of any work. Ensure all preceding trade  work associated with the communications system is accurate and complete  before proceeding with installation or use of products specified in this section.', '7. Installation of slotted strut support systems shall provide minimum workable  space clearances to the following:', 'a. Ensure that slotted strut support system do not interfere with or restrict  access to lighting fixtures, other structural supports, air ducts, conduits,  piping, cable trays or raceways and other trades installations.', '8. Installation of slotted strut support systems must at all times provide a clear cable  pathway to accommodate the installation of communications cable types and  conform to the telecommunications industry standard bend radii for these cables.', '9. Openings through fire partitions, fire walls or walls and floors shall be laid out in  advance and fully coordinated with other trades.  ', '10. All field-cut struts shall be de-burred prior to placement.', '11. Provide external grounding straps locations where strut continuity is interrupted.', '12. Install trapeze, post and grid strut support systems level and straight.', '13. Provide all hardware, accessories, fasteners, anchors, threaded rods and strut  supports required to provide a complete system.', '14. The installed slotted strut support system must be an independent support  structure for the communications system.', '15. The slotted strut support grid & post system shall be bonded and grounded to the  telecom ground bar with a continuous #6 AWG cable and the terminal ground  support.', '3.03 CLOSEOUT AND ACCEPTANCE', 'A. No additional burden to the Owner regarding costs, network down-time and/or end user  interruption shall result from the re-installation of specified components. Scheduling for  reinstallation work shall be coordinated, in writing, with the Owner prior to beginning the  work.', 'B. All specified Communications systems indicated on the drawings and specifications shall  be complete.', 'C. Specified shop drawings and product submittals shall have been submitted for review  and all review comments and deficiencies shall have been resolved.  Final shop drawings  and product submittals shall have been submitted, reviewed and found to meet the  requirements of the specifications.', 'D. Issues and deficiencies identified in field reports and punch lists shall have been  resolved.  Final as-built drawings shall have been submitted, reviewed and found to meet  the requirements of the specifications.', 'E. Contractor shall provide written notice of final completion of the telecom infrastructure.  Upon receipt, the Owner’s Representative will review/observe the completed installation.  Once the Owner’s Representative is satisfied that all work is in accordance with the  Contract Documents, the Contractor will be notified in writing.']\n"
     ]
    }
   ],
   "source": [
    "print(final_lines)"
   ]
  },
  {
   "cell_type": "markdown",
   "metadata": {},
   "source": [
    "### E. Capture All Heading Present In Data"
   ]
  },
  {
   "cell_type": "code",
   "execution_count": 28,
   "metadata": {},
   "outputs": [
    {
     "name": "stdout",
     "output_type": "stream",
     "text": [
      "['PART 1 - GENERAL', '1.01 RELATED DOCUMENTS', '1.02 QUALITY ASSURANCE', '1.03 SUBMITTALS', '1.04 WORK INCLUDED', 'PART 2 - PRODUCTS', '2.01 NON-CONTINUOUS CABLE SUPPORT SYSTEMS', '2.02 STRUCTURAL SUPPORT SYSTEMS SUBMITTALS', 'PART 3 - EXECUTION', '3.01 NON-CONTINUOUS CABLE SUPPORT SYSTEMS', '3.02 STRUCTURAL SUPPORT SYSTEMS', '3.03 CLOSEOUT AND ACCEPTANCE']\n"
     ]
    }
   ],
   "source": [
    "heading = []\n",
    "flag = True\n",
    "for line in final_lines:\n",
    "    if(re.search(r\"^[0-9]+\\.[0-9]+\\s\", line) or line.strip().startswith(\"PART\")):\n",
    "        heading.append(line)\n",
    "        flag = False\n",
    "    elif(re.search(r\"^[A-Z]\\.\", line) and flag):\n",
    "        heading.append(line)\n",
    "\n",
    "print(heading)"
   ]
  },
  {
   "cell_type": "markdown",
   "metadata": {},
   "source": [
    "### F. Capture and Arange Those Heading Which Has SUBMITTAL In It and Create A Pair "
   ]
  },
  {
   "cell_type": "code",
   "execution_count": 29,
   "metadata": {},
   "outputs": [
    {
     "data": {
      "text/plain": [
       "['PART 1 - GENERAL',\n",
       " ['1.03 SUBMITTALS', '1.04 WORK INCLUDED'],\n",
       " 'PART 2 - PRODUCTS',\n",
       " ['2.02 STRUCTURAL SUPPORT SYSTEMS SUBMITTALS', 'PART 3 - EXECUTION'],\n",
       " 'PART 3 - EXECUTION']"
      ]
     },
     "execution_count": 29,
     "metadata": {},
     "output_type": "execute_result"
    }
   ],
   "source": [
    "res = list(map(list, zip(heading, heading[1:])))\n",
    "index_data = []\n",
    "heading_list = []\n",
    "for i, data in enumerate(res):\n",
    "    if(i == 0):\n",
    "        heading_list.append(\"PART 1 - GENERAL\")\n",
    "    if(\"SUBMITTAL\" in data[0]): \n",
    "        heading_list.append(data)\n",
    "    if(\"PART\" in data[1]):\n",
    "        heading_list.append(data[1])\n",
    "\n",
    "heading_list"
   ]
  },
  {
   "cell_type": "markdown",
   "metadata": {},
   "source": [
    "### G. Create Index List Of Start Index and End Index Of Submittal Headinga Including PART"
   ]
  },
  {
   "cell_type": "code",
   "execution_count": 12,
   "metadata": {},
   "outputs": [
    {
     "name": "stdout",
     "output_type": "stream",
     "text": [
      "['PART 1 - GENERAL', (9, 11), 'PART 2 - PRODUCTS', (26, 43), 'PART 3 - EXECUTION']\n"
     ]
    }
   ],
   "source": [
    "data_lines = []\n",
    "if(len(heading_list) == 0):\n",
    "    final_lines = []\n",
    "else:\n",
    "    for item in heading_list:\n",
    "        if(\"SUMMITAL\" in item or \"SUBMITTAL\" in item[0] or \"SUBMITTALS\" in item[0]):\n",
    "            x, y = final_lines.index(item[0]), final_lines.index(item[1])\n",
    "            data_lines.append((x, y))\n",
    "        elif(\"PART \" in item):\n",
    "            data_lines.append(item)\n",
    "\n",
    "print(data_lines)"
   ]
  },
  {
   "cell_type": "markdown",
   "metadata": {},
   "source": [
    "### H. Generate Final Lines For Mapping Into Dictionary"
   ]
  },
  {
   "cell_type": "code",
   "execution_count": 13,
   "metadata": {},
   "outputs": [
    {
     "name": "stdout",
     "output_type": "stream",
     "text": [
      "['PART 1 - GENERAL', '1.03 SUBMITTALS', 'A. Refer to Section 27 05 00 for requirements that shall be fulfilled as part of this  specification section.', 'PART 2 - PRODUCTS', '2.02 STRUCTURAL SUPPORT SYSTEMS SUBMITTALS', 'A. Slotted strut supports', '1. Acceptable manufacturers:', 'a. B-line', 'b. Unistrut', 'c. Or approved equal', '2. Provide continuous slotted strut and all associated fittings and hardware.', '3. Use:', 'a. Post and grid support system inside communications spaces.', 'b. Trapeze and bracing type supports.', '4. Slotted struts and fittings shall have the manufacturer’s name, part number, and  material heat code identification number stamped in the part itself for  identification.   ', '5. Material certification sheets and test reports must be publically available by the  manufacturer.', '6. Single slotted strut shall be 1-5/8” wide in varying heights and welded  combinations as required to meet load capacities and designs indicated on the  drawings.', '7. Materials and Finish:  Material and finish specifications for each strut type are as  follows:', 'a. Aluminum:  Strut shall be manufactured of extruded aluminum alloy  6063-T6.  All fittings and hardware shall be zinc plated according to  ASTM B633 (SC3 for fittings, SC1 for threaded hardware) for indoor use  only.  For outdoor use, all fittings and hardware shall be stainless steel  Type 304 [Type 316].  [Fittings shall be hot dip galvanized after  fabrication in accordance with ASTM 123 with stainless steel Type 304  [Type 316] or chromium zinc ASTM F1136 Gr. 3.]', 'b. Pre-galvanized Steel:  Strut shall be made from steel meeting the  minimum mechanical properties of ASTM A653 SS, Grade 33, and mill  galvanized in accordance with coating designation G90.  Fittings shall be  manufactured from steel meeting the minimum requirements of ASTM  A907 SS, Grade 33.  All fittings and hardware shall be zinc plated in  accordance with ASTM B633 (SC3 for fittings, SC1 for threaded ', 'hardware).', 'PART 3 - EXECUTION']\n"
     ]
    }
   ],
   "source": [
    "dataset = []\n",
    "for pos in data_lines:\n",
    "    if(\"PART\" in pos):\n",
    "        dataset.append(pos)\n",
    "    else:\n",
    "        for ll in range(pos[0], pos[1]):\n",
    "            dataset.append(final_lines[ll])\n",
    "\n",
    "print(dataset)"
   ]
  },
  {
   "cell_type": "markdown",
   "metadata": {},
   "source": [
    "## Step 4 - Map Into Dictionary"
   ]
  },
  {
   "cell_type": "code",
   "execution_count": 14,
   "metadata": {},
   "outputs": [
    {
     "name": "stdout",
     "output_type": "stream",
     "text": [
      "{'SECTION': '27 05 29', 'SECTION_NAME': 'HANGERS AND SUPPORTS FOR COMMUNICATIONS SYSTEMS', 'Submittals': [{'Part': 'PART 1 - GENERAL', 'Sub Section': '1.03 A', 'Sub Section Heading ': 'SUBMITTALS', 'Submittal Description': ['A. Refer to Section 27 05 00 for requirements that shall be fulfilled as part of this  specification section.']}, {'Part': 'PART 2 - PRODUCTS', 'Sub Section': '2.02 A', 'Sub Section Heading ': 'STRUCTURAL SUPPORT SYSTEMS SUBMITTALS', 'Submittal Description': ['A. Slotted strut supports', '1. Acceptable manufacturers:', 'a. B-line', 'b. Unistrut', 'c. Or approved equal', '2. Provide continuous slotted strut and all associated fittings and hardware.', '3. Use:', 'a. Post and grid support system inside communications spaces.', 'b. Trapeze and bracing type supports.', '4. Slotted struts and fittings shall have the manufacturer’s name, part number, and  material heat code identification number stamped in the part itself for  identification.', '5. Material certification sheets and test reports must be publically available by the  manufacturer.', '6. Single slotted strut shall be 1-5/8” wide in varying heights and welded  combinations as required to meet load capacities and designs indicated on the  drawings.', '7. Materials and Finish:  Material and finish specifications for each strut type are as  follows:', 'a. Aluminum:  Strut shall be manufactured of extruded aluminum alloy  6063-T6.  All fittings and hardware shall be zinc plated according to  ASTM B633 (SC3 for fittings, SC1 for threaded hardware) for indoor use  only.  For outdoor use, all fittings and hardware shall be stainless steel  Type 304 [Type 316].  [Fittings shall be hot dip galvanized after  fabrication in accordance with ASTM 123 with stainless steel Type 304  [Type 316] or chromium zinc ASTM F1136 Gr. 3.]', 'b. Pre-galvanized Steel:  Strut shall be made from steel meeting the  minimum mechanical properties of ASTM A653 SS, Grade 33, and mill  galvanized in accordance with coating designation G90.  Fittings shall be  manufactured from steel meeting the minimum requirements of ASTM  A907 SS, Grade 33.  All fittings and hardware shall be zinc plated in  accordance with ASTM B633 (SC3 for fittings, SC1 for threaded', 'hardware).']}]}\n"
     ]
    }
   ],
   "source": [
    "## Map Text Data Into Dictionary\n",
    "#\n",
    "dictionary = {}\n",
    "part_name = \"\"\n",
    "cnt = 0\n",
    "cnt2 = 0\n",
    "\n",
    "for index, line in enumerate(itertools.chain(final_data.splitlines()[start : start + 1], dataset)): \n",
    "    if(index == 0):\n",
    "        dictionary[\"SECTION\"] = spec_number\n",
    "        head = \"SECTION_NAME\"\n",
    "        dictionary[head] = spec_name\n",
    "        head = \"Submittals\"\n",
    "        dictionary[head] = []\n",
    "        if(line.startswith(\"PART \")):\n",
    "            part_name = line\n",
    "    elif(line.startswith(\"PART \")):\n",
    "        part_name = line\n",
    "    elif(re.search(r\"^[0-9]+\\.[0-9]+\", line)):\n",
    "        subsection_name = line.split()[0]\n",
    "        subsection_heading = \" \".join(line.split()[1:])\n",
    "    elif(re.search(r\"^[A-Z]\\.\", line.strip())):\n",
    "        dictionary[head].append({\"Part\" : part_name})\n",
    "        dictionary[head][cnt][\"Sub Section\"] = subsection_name + \" \" + line.split(\".\")[0]\n",
    "        dictionary[head][cnt][\"Sub Section Heading \"] = subsection_heading\n",
    "        try:\n",
    "            # dictionary[head][cnt][\"Submittal Type \"] = line.split(\":\")[0].split(\".\")[1]\n",
    "            if(len(line.split(\":\")[1].strip()) == 0):\n",
    "                dictionary[head][cnt][\"Submittal Description\"] = []\n",
    "            else:\n",
    "                dictionary[head][cnt][\"Submittal Description\"] = [\" \".join(line.split(\":\")[1:])]\n",
    "        except Exception as e:\n",
    "            # dictionary[head][cnt][\"Submittal Type \"] = line.split(\".\")[0]\n",
    "            dictionary[head][cnt][\"Submittal Description\"] = [line.strip()]\n",
    "        cnt2 = cnt\n",
    "        cnt = cnt + 1\n",
    "    elif(re.search(r\"^[0-9]+\\.\", line.strip())):\n",
    "        try:\n",
    "            dictionary[head][cnt2][\"Submittal Description\"].append(line.strip())   \n",
    "        except Exception as e:\n",
    "            cnt2 = cnt\n",
    "            cnt = cnt + 1\n",
    "            dictionary[head].append({\"Part\" : part_name})\n",
    "            dictionary[head][cnt2][\"Sub Section\"] = subsection_name\n",
    "            dictionary[head][cnt2][\"Sub Section Heading \"] = subsection_heading\n",
    "            # dictionary[head][cnt2][\"Submittal Type \"] = \"NA\"\n",
    "            dictionary[head][cnt2][\"Submittal Description\"] = [line.strip()]\n",
    "    elif(re.search(r\"^[a-z]\\.\", line.strip())):    \n",
    "        dictionary[head][cnt2][\"Submittal Description\"].append(line.strip())\n",
    "    elif(re.search(r\"^[0-9]+\\)\", line.strip())):     \n",
    "        dictionary[head][cnt2][\"Submittal Description\"].append(line.strip())\n",
    "    elif(re.search(r\"^[a-z]+\\)\", line.strip())):\n",
    "        dictionary[head][cnt2][\"Submittal Description\"].append(line.strip())\n",
    "    elif(len(line.strip()) > 0):\n",
    "        dictionary[head][cnt2][\"Submittal Description\"].append(line.strip())\n",
    "    else:\n",
    "        pass\n",
    "    \n",
    "\n",
    "print(dictionary)\n"
   ]
  },
  {
   "cell_type": "markdown",
   "metadata": {},
   "source": [
    "## Step 5 - Generate JSON/CSV File"
   ]
  },
  {
   "cell_type": "markdown",
   "metadata": {},
   "source": [
    "#### A. Create CSV File"
   ]
  },
  {
   "cell_type": "code",
   "execution_count": 15,
   "metadata": {},
   "outputs": [],
   "source": [
    "## Create CSV output from dictionary\n",
    "#\n",
    "def create_csv_output(dictionary1, big_spec_name, spec_number, spec_name):\n",
    "    headlines = ['SECTION', 'SECTION_NAME', 'PART', 'SUB SECTION', 'SUB SECTION HEADING','DECRIPTION']\n",
    "\n",
    "    big_spec_name = big_spec_name + \".csv\"\n",
    "    file_status = path.exists(big_spec_name)\n",
    "\n",
    "    with open(big_spec_name, 'a', encoding = 'UTF8', newline = '') as file:\n",
    "        writer = csv.writer(file)\n",
    "        if(not file_status):\n",
    "            writer.writerow(headlines)\n",
    "        for key, item in dictionary1.items():\n",
    "            if(isinstance(item, list)):\n",
    "                for dicti in item:\n",
    "                    writer.writerow([spec_number, spec_name, dicti['Part'], dicti['Sub Section'], dicti['Sub Section Heading '], \" \\n\".join(it for it in dicti['Submittal Description'])])\n"
   ]
  },
  {
   "cell_type": "code",
   "execution_count": 16,
   "metadata": {},
   "outputs": [],
   "source": [
    "## Function Call - Generate JSON Output With Data\n",
    "# \n",
    "# create_json_output(dictionary, 1, spec_number, spec_name, file_name)\n",
    "\n",
    "dictionary1 = dictionary\n",
    "\n",
    "big_spec_name = \"YYY\"\n",
    "spec_number = spec_number\n",
    "spec_name = spec_name\n",
    "## Function Call - Generate CSV Output With Data\n",
    "#\n",
    "create_csv_output(dictionary1, big_spec_name, spec_number, spec_name)"
   ]
  },
  {
   "cell_type": "markdown",
   "metadata": {},
   "source": [
    "#### B. Create JSON File"
   ]
  },
  {
   "cell_type": "code",
   "execution_count": 42,
   "metadata": {},
   "outputs": [],
   "source": [
    "output_file = str(big_spec_name) + \".json\"\n",
    "\n",
    "with open(output_file, \"w\", encoding = 'utf-8') as outfile:\n",
    "    json.dump(dictionary, outfile, indent = 4, ensure_ascii = False)"
   ]
  },
  {
   "cell_type": "markdown",
   "metadata": {},
   "source": [
    "## Step 6 - Add Predictive Model"
   ]
  },
  {
   "cell_type": "code",
   "execution_count": 17,
   "metadata": {},
   "outputs": [],
   "source": [
    "## Load Saved Model, Vectorizer and Encoder\n",
    "#\n",
    "with open(\"ML Model/vectorizer.pickle\", 'rb+') as file:\n",
    "    vectorizer_saved = pickle.load(file)\n",
    "\n",
    "with open(\"ML Model/label_encoder.pickle\", 'rb+') as file:\n",
    "    encorder_saved = pickle.load(file)\n",
    "\n",
    "with open(\"ML Model/type_classifier.pickle\", 'rb+') as file:\n",
    "    classifier_saved = pickle.load(file)"
   ]
  },
  {
   "cell_type": "code",
   "execution_count": 18,
   "metadata": {},
   "outputs": [
    {
     "data": {
      "text/html": [
       "<div>\n",
       "<style scoped>\n",
       "    .dataframe tbody tr th:only-of-type {\n",
       "        vertical-align: middle;\n",
       "    }\n",
       "\n",
       "    .dataframe tbody tr th {\n",
       "        vertical-align: top;\n",
       "    }\n",
       "\n",
       "    .dataframe thead th {\n",
       "        text-align: right;\n",
       "    }\n",
       "</style>\n",
       "<table border=\"1\" class=\"dataframe\">\n",
       "  <thead>\n",
       "    <tr style=\"text-align: right;\">\n",
       "      <th></th>\n",
       "      <th>SECTION</th>\n",
       "      <th>SECTION_NAME</th>\n",
       "      <th>PART</th>\n",
       "      <th>SUB SECTION</th>\n",
       "      <th>SUB SECTION HEADING</th>\n",
       "      <th>DECRIPTION</th>\n",
       "    </tr>\n",
       "  </thead>\n",
       "  <tbody>\n",
       "    <tr>\n",
       "      <th>0</th>\n",
       "      <td>27 05 29</td>\n",
       "      <td>HANGERS AND SUPPORTS FOR COMMUNICATIONS SYSTEMS</td>\n",
       "      <td>PART 1 - GENERAL</td>\n",
       "      <td>1.03 A</td>\n",
       "      <td>SUBMITTALS</td>\n",
       "      <td>A. Refer to Section 27 05 00 for requirements ...</td>\n",
       "    </tr>\n",
       "    <tr>\n",
       "      <th>1</th>\n",
       "      <td>27 05 29</td>\n",
       "      <td>HANGERS AND SUPPORTS FOR COMMUNICATIONS SYSTEMS</td>\n",
       "      <td>PART 2 - PRODUCTS</td>\n",
       "      <td>2.02 A</td>\n",
       "      <td>STRUCTURAL SUPPORT SYSTEMS SUBMITTALS</td>\n",
       "      <td>A. Slotted strut supports \\n1. Acceptable manu...</td>\n",
       "    </tr>\n",
       "  </tbody>\n",
       "</table>\n",
       "</div>"
      ],
      "text/plain": [
       "    SECTION                                     SECTION_NAME  \\\n",
       "0  27 05 29  HANGERS AND SUPPORTS FOR COMMUNICATIONS SYSTEMS   \n",
       "1  27 05 29  HANGERS AND SUPPORTS FOR COMMUNICATIONS SYSTEMS   \n",
       "\n",
       "                PART SUB SECTION                    SUB SECTION HEADING  \\\n",
       "0   PART 1 - GENERAL      1.03 A                             SUBMITTALS   \n",
       "1  PART 2 - PRODUCTS      2.02 A  STRUCTURAL SUPPORT SYSTEMS SUBMITTALS   \n",
       "\n",
       "                                          DECRIPTION  \n",
       "0  A. Refer to Section 27 05 00 for requirements ...  \n",
       "1  A. Slotted strut supports \\n1. Acceptable manu...  "
      ]
     },
     "execution_count": 18,
     "metadata": {},
     "output_type": "execute_result"
    }
   ],
   "source": [
    "## Load Prepated Data Data\n",
    "#\n",
    "new_dataset = pd.read_csv(\"YYY.csv\")\n",
    "new_dataset.head()"
   ]
  },
  {
   "cell_type": "code",
   "execution_count": 19,
   "metadata": {},
   "outputs": [],
   "source": [
    "description_vector = vectorizer_saved.transform(new_dataset['DECRIPTION'])\n",
    "predictions = classifier_saved.predict(description_vector)\n",
    "new_dataset['TYPE'] = encorder_saved.inverse_transform(predictions)\n",
    "new_dataset = new_dataset[['SECTION', 'SECTION_NAME', 'PART', 'SUB SECTION', 'SUB SECTION HEADING', 'TYPE','DECRIPTION']]\n",
    "new_dataset.to_csv(\"YYY_Updated.csv\", index = False)"
   ]
  },
  {
   "cell_type": "markdown",
   "metadata": {},
   "source": [
    "## END - Convert Notebook to Python, PDF "
   ]
  },
  {
   "cell_type": "code",
   "execution_count": 2,
   "metadata": {},
   "outputs": [
    {
     "name": "stderr",
     "output_type": "stream",
     "text": [
      "[NbConvertApp] Converting notebook submittal_extraction_v8.ipynb to script\n",
      "[NbConvertApp] Writing 10120 bytes to submittal_extraction_v8.py\n"
     ]
    }
   ],
   "source": [
    "# !jupyter nbconvert --to script \"submittal_extraction_v9.ipynb\""
   ]
  },
  {
   "cell_type": "code",
   "execution_count": 43,
   "metadata": {},
   "outputs": [
    {
     "name": "stderr",
     "output_type": "stream",
     "text": [
      "[NbConvertApp] Converting notebook submittal_extraction_v9.ipynb to PDFviaHTML\n",
      "[NbConvertApp] Writing 189718 bytes to submittal_extraction_v9.pdf\n"
     ]
    }
   ],
   "source": [
    "# !jupyter nbconvert --to PDFviaHTML \"submittal_extraction_v9.ipynb\"\n"
   ]
  },
  {
   "cell_type": "markdown",
   "metadata": {},
   "source": [
    "# Banned Zone - Testing"
   ]
  },
  {
   "cell_type": "code",
   "execution_count": null,
   "metadata": {},
   "outputs": [],
   "source": []
  }
 ],
 "metadata": {
  "interpreter": {
   "hash": "34b8bd46980c0826764a5b36ed1c6c81aa64b95fe6c6003f76753dd59089c49f"
  },
  "kernelspec": {
   "display_name": "Python 3.8.8 64-bit ('base': conda)",
   "name": "python3"
  },
  "language_info": {
   "codemirror_mode": {
    "name": "ipython",
    "version": 3
   },
   "file_extension": ".py",
   "mimetype": "text/x-python",
   "name": "python",
   "nbconvert_exporter": "python",
   "pygments_lexer": "ipython3",
   "version": "3.8.8"
  },
  "orig_nbformat": 4
 },
 "nbformat": 4,
 "nbformat_minor": 2
}
