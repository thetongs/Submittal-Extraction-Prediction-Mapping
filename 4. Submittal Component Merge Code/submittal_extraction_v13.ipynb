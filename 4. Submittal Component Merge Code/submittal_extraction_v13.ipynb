{
 "cells": [
  {
   "cell_type": "markdown",
   "metadata": {},
   "source": [
    "### Load Libraries"
   ]
  },
  {
   "cell_type": "code",
   "execution_count": 1,
   "metadata": {},
   "outputs": [],
   "source": [
    "import pdfplumber\n",
    "import itertools\n",
    "import json\n",
    "import re\n",
    "import spacy\n",
    "from os import path\n",
    "import csv\n",
    "import pickle\n",
    "import pandas as pd\n",
    "import numpy as np"
   ]
  },
  {
   "cell_type": "markdown",
   "metadata": {},
   "source": [
    "### Load Sample"
   ]
  },
  {
   "cell_type": "code",
   "execution_count": 2,
   "metadata": {},
   "outputs": [],
   "source": [
    "pre_data = \"\"\"\n",
    "SECTION 200553\n",
    "TAGGING AND IDENTIFICATION\n",
    "\n",
    "PART 1 - GENERAL\n",
    " 1.4. SUBMITTALS \n",
    "Submit the following items for Owner approval: \n",
    "1. Product Data: Manufacturer's catalog cut sheets and other published technical data for each of the \n",
    "following: \n",
    "a. Nameplates, instructions plates, signs and labels. \n",
    "b. Fasteners. \n",
    "2. Samples: Provide samples of each color, lettering style, and other graphic representation required \n",
    "for identification materials. Provide samples of labels and signs. No material is to be ordered \n",
    "without this approval. \n",
    "3. Provide a listing of proposed names, abbreviations and other designations used in identification. \n",
    "Provide an electronic copy of the schedule of proposed tags, nameplates and engraving for Owner \n",
    "approval. No material is to be ordered without this approval. \n",
    "4. Provide a final and complete, electronic listing of all applied tags, nameplates and engravings. \n",
    "5. Provide a Hand Valve schedule as an electronic version in Microsoft Excel. Mark valves which are \n",
    "intended for emergency shut-off and similar special uses, by special flags, in margin of schedule. \n",
    "Furnish additional copies of schedule for Maintenance Manuals. Valve Schedule shall include the \n",
    "following information: \n",
    "a. Piping system \n",
    "b. System abbreviation (“CW”, “CHWS”, “RO”, “WFI”, etc.) \n",
    "c. Valve identification number \n",
    "d. Location of valve (room or space) \n",
    "e. Type of valve (gate, ball, automatic control, etc.)\n",
    "f. Manufacturer and manufacturer's catalog number \n",
    "g. Indicate valves intended for emergency shutoff or other special use\n",
    "\n",
    "1.5 NEXT SAMPLE\n",
    "\n",
    "PART 2 - PRODUCT DATA\n",
    "PART 3 - EXECUTION\n",
    " END OF SECTION\n",
    "\"\"\"\n"
   ]
  },
  {
   "cell_type": "markdown",
   "metadata": {},
   "source": [
    "### Preprocessing for Section"
   ]
  },
  {
   "cell_type": "code",
   "execution_count": 3,
   "metadata": {},
   "outputs": [],
   "source": [
    "pre_data = re.sub(' +', ' ', pre_data)"
   ]
  },
  {
   "cell_type": "code",
   "execution_count": 4,
   "metadata": {},
   "outputs": [
    {
     "data": {
      "text/plain": [
       "'SECTION 200553\\nTAGGING AND IDENTIFICATION\\n\\n'"
      ]
     },
     "execution_count": 4,
     "metadata": {},
     "output_type": "execute_result"
    }
   ],
   "source": [
    "start_index = re.search(r'SECTION|DOCUMENT', pre_data).start()\n",
    "end_index= pre_data.rindex(\"PART 1\")\n",
    "first_part_index = pre_data.index(\"PART 1\")\n",
    "\n",
    "section_details = pre_data[start_index:first_part_index]\n",
    "section_details"
   ]
  },
  {
   "cell_type": "code",
   "execution_count": 5,
   "metadata": {},
   "outputs": [],
   "source": [
    "section_details_to_skip = [item.strip() for item in section_details.split(\"\\n\") if item.strip() != \"\"]"
   ]
  },
  {
   "cell_type": "code",
   "execution_count": 6,
   "metadata": {},
   "outputs": [
    {
     "data": {
      "text/plain": [
       "'SECTION 200553 TAGGING AND IDENTIFICATION '"
      ]
     },
     "execution_count": 6,
     "metadata": {},
     "output_type": "execute_result"
    }
   ],
   "source": [
    "section_details = re.sub(' +', ' ', section_details.replace(\"\\n\", \" \"))\n",
    "section_details"
   ]
  },
  {
   "cell_type": "code",
   "execution_count": 7,
   "metadata": {},
   "outputs": [
    {
     "name": "stdout",
     "output_type": "stream",
     "text": [
      "Section Name - TAGGING AND IDENTIFICATION\n"
     ]
    }
   ],
   "source": [
    "nlp2 = spacy.load(\"Spacy Custom NER Dump/\")\n",
    "\n",
    "spec_number = \"\"\n",
    "spec_name = \"\"\n",
    "flag1, flag2 = False, False\n",
    "section_data = nlp2(section_details)\n",
    "for sent in section_data.ents:\n",
    "    if(sent.label_ == 'section_name'):\n",
    "        spec_name = str(sent)\n",
    "        flag1 = True\n",
    "\n",
    "if(not flag1):\n",
    "    spec_name = \"Not Found\"\n",
    "\n",
    "print(\"Section Name - {}\".format(spec_name))"
   ]
  },
  {
   "cell_type": "markdown",
   "metadata": {},
   "source": [
    "### Data Preprocessing For Mapping"
   ]
  },
  {
   "cell_type": "code",
   "execution_count": 88,
   "metadata": {},
   "outputs": [],
   "source": [
    "# Select Lines From Last Occurance of Part 1\n",
    "data = pre_data[end_index:]"
   ]
  },
  {
   "cell_type": "code",
   "execution_count": 89,
   "metadata": {},
   "outputs": [],
   "source": [
    "# Remove Unwanted Lines, Skip Section Details and Mapp into String\n",
    "final_data = \"\"\n",
    "head_flag = True\n",
    "for index, line in enumerate(data.splitlines()):\n",
    "    if(\"END OF SECTION\" in line or \"END OF DOCUMENT\" in line.strip()):\n",
    "        continue\n",
    "    elif(len(line.strip()) == 0):\n",
    "        continue\n",
    "    elif([ele for ele in section_details_to_skip if(line.strip().startswith(ele))]):\n",
    "        continue\n",
    "    else:\n",
    "        final_data = final_data + line.strip() + \"\\n\""
   ]
  },
  {
   "cell_type": "code",
   "execution_count": 90,
   "metadata": {},
   "outputs": [],
   "source": [
    "# Arrange Lines to Proper Pointers\n",
    "final_lines = []\n",
    "index = -1\n",
    "for i, line in enumerate(final_data.splitlines()):\n",
    "    line = line.strip()\n",
    "    if(line.strip().startswith(\"PART\")): \n",
    "        final_lines.append(line)\n",
    "        index = index + 1\n",
    "    elif(re.search(r\"^[0-9]\\.[0-9]\", line)):\n",
    "        final_lines.append(line)\n",
    "        index = index + 1\n",
    "    elif(re.search(r\"^[A-Za-z]\\.\", line)):\n",
    "        final_lines.append(line)\n",
    "        index = index + 1\n",
    "    elif(re.search(r\"^[0-9]+\\.\", line)):\n",
    "        final_lines.append(line)\n",
    "        index = index + 1\n",
    "    elif(re.search(r\"^[0-9]+\\)\", line)):\n",
    "        final_lines.append(line)\n",
    "        index = index + 1\n",
    "    elif(re.search(r\"^[a-z]+\\)\", line)):\n",
    "        final_lines.append(line)\n",
    "        index = index + 1\n",
    "    elif(final_lines[index].strip().startswith(\"PART\")):\n",
    "            continue\n",
    "    elif(line.strip().isupper()):\n",
    "        final_lines[index] = final_lines[index] + \" \" + line\n",
    "    elif(re.search(r\"^[0-9]+\\.[0-9]\", final_lines[index].strip())):\n",
    "        final_lines.append(line)\n",
    "        index = index + 1\n",
    "    else:\n",
    "        final_lines[index] = final_lines[index] + \" \" + line\n",
    "            "
   ]
  },
  {
   "cell_type": "code",
   "execution_count": 8,
   "metadata": {},
   "outputs": [
    {
     "ename": "NameError",
     "evalue": "name 'final_lines' is not defined",
     "output_type": "error",
     "traceback": [
      "\u001b[1;31m---------------------------------------------------------------------------\u001b[0m",
      "\u001b[1;31mNameError\u001b[0m                                 Traceback (most recent call last)",
      "\u001b[1;32m<ipython-input-8-9d02e1c47a04>\u001b[0m in \u001b[0;36m<module>\u001b[1;34m\u001b[0m\n\u001b[0;32m      1\u001b[0m \u001b[0mheading\u001b[0m \u001b[1;33m=\u001b[0m \u001b[1;33m[\u001b[0m\u001b[1;33m]\u001b[0m\u001b[1;33m\u001b[0m\u001b[1;33m\u001b[0m\u001b[0m\n\u001b[0;32m      2\u001b[0m \u001b[0mflag\u001b[0m \u001b[1;33m=\u001b[0m \u001b[1;32mTrue\u001b[0m\u001b[1;33m\u001b[0m\u001b[1;33m\u001b[0m\u001b[0m\n\u001b[1;32m----> 3\u001b[1;33m \u001b[1;32mfor\u001b[0m \u001b[0mline\u001b[0m \u001b[1;32min\u001b[0m \u001b[0mfinal_lines\u001b[0m\u001b[1;33m:\u001b[0m\u001b[1;33m\u001b[0m\u001b[1;33m\u001b[0m\u001b[0m\n\u001b[0m\u001b[0;32m      4\u001b[0m     \u001b[1;32mif\u001b[0m\u001b[1;33m(\u001b[0m\u001b[0mre\u001b[0m\u001b[1;33m.\u001b[0m\u001b[0msearch\u001b[0m\u001b[1;33m(\u001b[0m\u001b[1;34mr\"^[0-9]+\\.[0-9]\"\u001b[0m\u001b[1;33m,\u001b[0m \u001b[0mline\u001b[0m\u001b[1;33m.\u001b[0m\u001b[0mstrip\u001b[0m\u001b[1;33m(\u001b[0m\u001b[1;33m)\u001b[0m\u001b[1;33m)\u001b[0m \u001b[1;32mor\u001b[0m \u001b[0mline\u001b[0m\u001b[1;33m.\u001b[0m\u001b[0mstrip\u001b[0m\u001b[1;33m(\u001b[0m\u001b[1;33m)\u001b[0m\u001b[1;33m.\u001b[0m\u001b[0mstartswith\u001b[0m\u001b[1;33m(\u001b[0m\u001b[1;34m\"PART\"\u001b[0m\u001b[1;33m)\u001b[0m\u001b[1;33m)\u001b[0m\u001b[1;33m:\u001b[0m\u001b[1;33m\u001b[0m\u001b[1;33m\u001b[0m\u001b[0m\n\u001b[0;32m      5\u001b[0m         \u001b[0mheading\u001b[0m\u001b[1;33m.\u001b[0m\u001b[0mappend\u001b[0m\u001b[1;33m(\u001b[0m\u001b[0mline\u001b[0m\u001b[1;33m)\u001b[0m\u001b[1;33m\u001b[0m\u001b[1;33m\u001b[0m\u001b[0m\n",
      "\u001b[1;31mNameError\u001b[0m: name 'final_lines' is not defined"
     ]
    }
   ],
   "source": [
    "# All Heading\n",
    "heading = []\n",
    "flag = True\n",
    "for line in final_lines:\n",
    "    if(re.search(r\"^[0-9]+\\.[0-9]\", line.strip()) or line.strip().startswith(\"PART\")):\n",
    "        heading.append(line)\n",
    "        flag = False\n",
    "    elif(re.search(r\"^[A-Z]\\.\", line.strip()) and flag):\n",
    "        heading.append(line)\n",
    "\n",
    "print(heading)"
   ]
  },
  {
   "cell_type": "code",
   "execution_count": 92,
   "metadata": {},
   "outputs": [
    {
     "data": {
      "text/plain": [
       "['PART 1 - GENERAL',\n",
       " ['1.4. SUBMITTALS', '1.5 NEXT SAMPLE'],\n",
       " 'PART 2 - PRODUCT DATA',\n",
       " 'PART 3 - EXECUTION']"
      ]
     },
     "execution_count": 92,
     "metadata": {},
     "output_type": "execute_result"
    }
   ],
   "source": [
    "# Heading Pairs\n",
    "res = list(map(list, zip(heading, heading[1:])))\n",
    "index_data = []\n",
    "heading_list = []\n",
    "for i, data in enumerate(res):\n",
    "    if(i == 0):\n",
    "        heading_list.append(\"PART 1 - GENERAL\")\n",
    "    if(\"SUBMITTAL\" in data[0]): \n",
    "        heading_list.append(data)\n",
    "    if(\"PART\" in data[1]):\n",
    "        heading_list.append(data[1])\n",
    "\n",
    "heading_list"
   ]
  },
  {
   "cell_type": "code",
   "execution_count": 93,
   "metadata": {},
   "outputs": [
    {
     "name": "stdout",
     "output_type": "stream",
     "text": [
      "['PART 1 - GENERAL', (1, 17), 'PART 2 - PRODUCT DATA', 'PART 3 - EXECUTION']\n"
     ]
    }
   ],
   "source": [
    "# Submittal Lines Index\n",
    "data_lines = []\n",
    "if(len(heading_list) == 0):\n",
    "    final_lines = []\n",
    "else:\n",
    "    for item in heading_list:\n",
    "        if(\"SUMMITAL\" in item or \"SUBMITTAL\" in item[0] or \"SUBMITTALS\" in item[0]):\n",
    "            x, y = final_lines.index(item[0]), final_lines.index(item[1])\n",
    "            data_lines.append((x, y))\n",
    "        elif(\"PART \" in item):\n",
    "            data_lines.append(item)\n",
    "\n",
    "print(data_lines)"
   ]
  },
  {
   "cell_type": "code",
   "execution_count": 94,
   "metadata": {},
   "outputs": [
    {
     "name": "stdout",
     "output_type": "stream",
     "text": [
      "['PART 1 - GENERAL', '1.4. SUBMITTALS', 'Submit the following items for Owner approval:', \"1. Product Data: Manufacturer's catalog cut sheets and other published technical data for each of the following:\", 'a. Nameplates, instructions plates, signs and labels.', 'b. Fasteners.', '2. Samples: Provide samples of each color, lettering style, and other graphic representation required for identification materials. Provide samples of labels and signs. No material is to be ordered without this approval.', '3. Provide a listing of proposed names, abbreviations and other designations used in identification. Provide an electronic copy of the schedule of proposed tags, nameplates and engraving for Owner approval. No material is to be ordered without this approval.', '4. Provide a final and complete, electronic listing of all applied tags, nameplates and engravings.', '5. Provide a Hand Valve schedule as an electronic version in Microsoft Excel. Mark valves which are intended for emergency shut-off and similar special uses, by special flags, in margin of schedule. Furnish additional copies of schedule for Maintenance Manuals. Valve Schedule shall include the following information:', 'a. Piping system', 'b. System abbreviation (“CW”, “CHWS”, “RO”, “WFI”, etc.)', 'c. Valve identification number', 'd. Location of valve (room or space)', 'e. Type of valve (gate, ball, automatic control, etc.)', \"f. Manufacturer and manufacturer's catalog number\", 'g. Indicate valves intended for emergency shutoff or other special use', 'PART 2 - PRODUCT DATA', 'PART 3 - EXECUTION']\n"
     ]
    }
   ],
   "source": [
    "# Submittal Records for Mapping\n",
    "dataset = []\n",
    "for pos in data_lines:\n",
    "    if(\"PART\" in pos):\n",
    "        dataset.append(pos)\n",
    "    else:\n",
    "        for ll in range(pos[0], pos[1]):\n",
    "            dataset.append(final_lines[ll])\n",
    "\n",
    "print(dataset)"
   ]
  },
  {
   "cell_type": "code",
   "execution_count": 103,
   "metadata": {},
   "outputs": [
    {
     "data": {
      "text/html": [
       "<div>\n",
       "<style scoped>\n",
       "    .dataframe tbody tr th:only-of-type {\n",
       "        vertical-align: middle;\n",
       "    }\n",
       "\n",
       "    .dataframe tbody tr th {\n",
       "        vertical-align: top;\n",
       "    }\n",
       "\n",
       "    .dataframe thead th {\n",
       "        text-align: right;\n",
       "    }\n",
       "</style>\n",
       "<table border=\"1\" class=\"dataframe\">\n",
       "  <thead>\n",
       "    <tr style=\"text-align: right;\">\n",
       "      <th></th>\n",
       "      <th>SECTION</th>\n",
       "      <th>SECTION NAME</th>\n",
       "      <th>PART</th>\n",
       "      <th>SUBSECTION</th>\n",
       "      <th>SUBSECTION NAME</th>\n",
       "      <th>DESCRIPTION</th>\n",
       "    </tr>\n",
       "  </thead>\n",
       "  <tbody>\n",
       "    <tr>\n",
       "      <th>0</th>\n",
       "      <td>200553</td>\n",
       "      <td>TAGGING AND IDENTIFICATION</td>\n",
       "      <td>PART 1 - GENERAL</td>\n",
       "      <td>1.4.</td>\n",
       "      <td>SUBMITTALS</td>\n",
       "      <td>Submit the following items for Owner approval:...</td>\n",
       "    </tr>\n",
       "  </tbody>\n",
       "</table>\n",
       "</div>"
      ],
      "text/plain": [
       "  SECTION                SECTION NAME              PART SUBSECTION  \\\n",
       "0  200553  TAGGING AND IDENTIFICATION  PART 1 - GENERAL       1.4.   \n",
       "\n",
       "  SUBSECTION NAME                                        DESCRIPTION  \n",
       "0      SUBMITTALS  Submit the following items for Owner approval:...  "
      ]
     },
     "execution_count": 103,
     "metadata": {},
     "output_type": "execute_result"
    }
   ],
   "source": [
    "# Mapp to Data Frame\n",
    "mapp_dataset = pd.DataFrame(columns = [\"SECTION\", \"SECTION NAME\", \"PART\", \"SUBSECTION\", \"SUBSECTION NAME\", \"DESCRIPTION\"], dtype = str)\n",
    "subsection_flag = False\n",
    "subsection = \"Not Found\"\n",
    "subsection1 = \"Not Found\"\n",
    "subsection_name = \"Not Found\"\n",
    "part_name = \"Not Found\"\n",
    "heading_flag = False\n",
    "for index, line in enumerate(dataset):\n",
    "    if(line.strip().startswith('PART')):\n",
    "        part_name = line.strip()\n",
    "    elif(re.search(r\"^[0-9]+\\.[0-9]+\", line.strip())):\n",
    "        subsection = line.split()[0]\n",
    "        subsection_name = \" \".join(line.split()[1:])\n",
    "        subsection_flag = True\n",
    "    elif(re.search(r\"^[A-Z]\\.\", line.strip())):\n",
    "        heading_flag = True\n",
    "        subsection1 = line.split()[0]\n",
    "        mapp_dataset.loc[len(mapp_dataset)] = [spec_number, spec_name, part_name, subsection + subsection1, subsection_name, line.strip()]\n",
    "    elif(heading_flag):\n",
    "        mapp_dataset.loc[len(mapp_dataset) - 1, \"DESCRIPTION\"] = mapp_dataset.loc[len(mapp_dataset) - 1, \"DESCRIPTION\"] + \" \" + line.strip()\n",
    "    else:\n",
    "        if(subsection_flag):\n",
    "            mapp_dataset.loc[len(mapp_dataset)] = [spec_number, spec_name, part_name, subsection, subsection_name, line.strip()]\n",
    "            subsection_flag = False\n",
    "        else:\n",
    "            mapp_dataset.loc[len(mapp_dataset) - 1, \"DESCRIPTION\"] = mapp_dataset.loc[len(mapp_dataset) - 1, \"DESCRIPTION\"] + \" \" + line.strip()\n",
    "\n",
    "\n",
    "mapp_dataset"
   ]
  },
  {
   "cell_type": "code",
   "execution_count": 102,
   "metadata": {},
   "outputs": [
    {
     "data": {
      "text/plain": [
       "\"Submit the following items for Owner approval: 1. Product Data: Manufacturer's catalog cut sheets and other published technical data for each of the following: a. Nameplates, instructions plates, signs and labels. b. Fasteners. 2. Samples: Provide samples of each color, lettering style, and other graphic representation required for identification materials. Provide samples of labels and signs. No material is to be ordered without this approval. 3. Provide a listing of proposed names, abbreviations and other designations used in identification. Provide an electronic copy of the schedule of proposed tags, nameplates and engraving for Owner approval. No material is to be ordered without this approval. 4. Provide a final and complete, electronic listing of all applied tags, nameplates and engravings. 5. Provide a Hand Valve schedule as an electronic version in Microsoft Excel. Mark valves which are intended for emergency shut-off and similar special uses, by special flags, in margin of schedule. Furnish additional copies of schedule for Maintenance Manuals. Valve Schedule shall include the following information: a. Piping system b. System abbreviation (“CW”, “CHWS”, “RO”, “WFI”, etc.) c. Valve identification number d. Location of valve (room or space) e. Type of valve (gate, ball, automatic control, etc.) f. Manufacturer and manufacturer's catalog number g. Indicate valves intended for emergency shutoff or other special use\""
      ]
     },
     "execution_count": 102,
     "metadata": {},
     "output_type": "execute_result"
    }
   ],
   "source": [
    "# mapp_dataset.loc[len(mapp_dataset) - 1, \"DESCRIPTION\"]"
   ]
  },
  {
   "cell_type": "code",
   "execution_count": 51,
   "metadata": {},
   "outputs": [],
   "source": [
    "# Handle Preceeding Zero of Section\n",
    "mapp_dataset.SECTION = mapp_dataset.SECTION.apply('=\"{}\"'.format)"
   ]
  },
  {
   "cell_type": "code",
   "execution_count": 52,
   "metadata": {},
   "outputs": [],
   "source": [
    "# Generate CSV and Append\n",
    "big_spec_name = \"XOXOXO\"\n",
    "big_spec_name = big_spec_name + \".csv\"\n",
    "file_status = path.exists(big_spec_name)\n",
    "\n",
    "if(file_status):\n",
    "    dataset = pd.read_csv(big_spec_name, dtype = str)\n",
    "    dataset = dataset.append(mapp_dataset, index)\n",
    "    dataset.to_csv(big_spec_name, index = False)\n",
    "else:\n",
    "    mapp_dataset.to_csv(big_spec_name, index = False)"
   ]
  },
  {
   "cell_type": "code",
   "execution_count": 98,
   "metadata": {},
   "outputs": [],
   "source": [
    "## Load Saved Model, Vectorizer and Encoder\n",
    "#\n",
    "with open(\"ML Model/vectorizer.pickle\", 'rb+') as file:\n",
    "    vectorizer_saved = pickle.load(file)\n",
    "\n",
    "with open(\"ML Model/label_encoder.pickle\", 'rb+') as file:\n",
    "    encorder_saved = pickle.load(file)\n",
    "\n",
    "with open(\"ML Model/type_classifier.pickle\", 'rb+') as file:\n",
    "    classifier_saved = pickle.load(file)"
   ]
  },
  {
   "cell_type": "code",
   "execution_count": 100,
   "metadata": {},
   "outputs": [
    {
     "data": {
      "text/plain": [
       "array([4])"
      ]
     },
     "execution_count": 100,
     "metadata": {},
     "output_type": "execute_result"
    }
   ],
   "source": [
    "da = vectorizer_saved.transform([\"NA\"])\n",
    "classifier_saved.predict(da)"
   ]
  },
  {
   "cell_type": "code",
   "execution_count": 18,
   "metadata": {},
   "outputs": [
    {
     "data": {
      "text/html": [
       "<div>\n",
       "<style scoped>\n",
       "    .dataframe tbody tr th:only-of-type {\n",
       "        vertical-align: middle;\n",
       "    }\n",
       "\n",
       "    .dataframe tbody tr th {\n",
       "        vertical-align: top;\n",
       "    }\n",
       "\n",
       "    .dataframe thead th {\n",
       "        text-align: right;\n",
       "    }\n",
       "</style>\n",
       "<table border=\"1\" class=\"dataframe\">\n",
       "  <thead>\n",
       "    <tr style=\"text-align: right;\">\n",
       "      <th></th>\n",
       "      <th>SECTION</th>\n",
       "      <th>SECTION_NAME</th>\n",
       "      <th>PART</th>\n",
       "      <th>SUB SECTION</th>\n",
       "      <th>SUB SECTION HEADING</th>\n",
       "      <th>DECRIPTION</th>\n",
       "    </tr>\n",
       "  </thead>\n",
       "  <tbody>\n",
       "    <tr>\n",
       "      <th>0</th>\n",
       "      <td>27 05 29</td>\n",
       "      <td>HANGERS AND SUPPORTS FOR COMMUNICATIONS SYSTEMS</td>\n",
       "      <td>PART 1 - GENERAL</td>\n",
       "      <td>1.03 A</td>\n",
       "      <td>SUBMITTALS</td>\n",
       "      <td>A. Refer to Section 27 05 00 for requirements ...</td>\n",
       "    </tr>\n",
       "    <tr>\n",
       "      <th>1</th>\n",
       "      <td>27 05 29</td>\n",
       "      <td>HANGERS AND SUPPORTS FOR COMMUNICATIONS SYSTEMS</td>\n",
       "      <td>PART 2 - PRODUCTS</td>\n",
       "      <td>2.02 A</td>\n",
       "      <td>STRUCTURAL SUPPORT SYSTEMS SUBMITTALS</td>\n",
       "      <td>A. Slotted strut supports \\n1. Acceptable manu...</td>\n",
       "    </tr>\n",
       "  </tbody>\n",
       "</table>\n",
       "</div>"
      ],
      "text/plain": [
       "    SECTION                                     SECTION_NAME  \\\n",
       "0  27 05 29  HANGERS AND SUPPORTS FOR COMMUNICATIONS SYSTEMS   \n",
       "1  27 05 29  HANGERS AND SUPPORTS FOR COMMUNICATIONS SYSTEMS   \n",
       "\n",
       "                PART SUB SECTION                    SUB SECTION HEADING  \\\n",
       "0   PART 1 - GENERAL      1.03 A                             SUBMITTALS   \n",
       "1  PART 2 - PRODUCTS      2.02 A  STRUCTURAL SUPPORT SYSTEMS SUBMITTALS   \n",
       "\n",
       "                                          DECRIPTION  \n",
       "0  A. Refer to Section 27 05 00 for requirements ...  \n",
       "1  A. Slotted strut supports \\n1. Acceptable manu...  "
      ]
     },
     "execution_count": 18,
     "metadata": {},
     "output_type": "execute_result"
    }
   ],
   "source": [
    "## Load Prepated Data Data\n",
    "#\n",
    "new_dataset = pd.read_csv(\"YYY.csv\")\n",
    "new_dataset.head()"
   ]
  },
  {
   "cell_type": "code",
   "execution_count": 19,
   "metadata": {},
   "outputs": [],
   "source": [
    "description_vector = vectorizer_saved.transform(new_dataset['DECRIPTION'])\n",
    "predictions = classifier_saved.predict(description_vector)\n",
    "new_dataset['TYPE'] = encorder_saved.inverse_transform(predictions)\n",
    "new_dataset = new_dataset[['SECTION', 'SECTION_NAME', 'PART', 'SUB SECTION', 'SUB SECTION HEADING', 'TYPE','DECRIPTION']]\n",
    "new_dataset.to_csv(\"YYY_Updated.csv\", index = False)"
   ]
  },
  {
   "cell_type": "code",
   "execution_count": 2,
   "metadata": {},
   "outputs": [
    {
     "name": "stderr",
     "output_type": "stream",
     "text": [
      "[NbConvertApp] Converting notebook submittal_extraction_v8.ipynb to script\n",
      "[NbConvertApp] Writing 10120 bytes to submittal_extraction_v8.py\n"
     ]
    }
   ],
   "source": [
    "# !jupyter nbconvert --to script \"submittal_extraction_v9.ipynb\""
   ]
  },
  {
   "cell_type": "code",
   "execution_count": 43,
   "metadata": {},
   "outputs": [
    {
     "name": "stderr",
     "output_type": "stream",
     "text": [
      "[NbConvertApp] Converting notebook submittal_extraction_v9.ipynb to PDFviaHTML\n",
      "[NbConvertApp] Writing 189718 bytes to submittal_extraction_v9.pdf\n"
     ]
    }
   ],
   "source": [
    "# !jupyter nbconvert --to PDFviaHTML \"submittal_extraction_v9.ipynb\"\n"
   ]
  },
  {
   "cell_type": "code",
   "execution_count": 104,
   "metadata": {},
   "outputs": [],
   "source": [
    "if(False):\n",
    "    pass\n",
    "# Else\n",
    "else:\n",
    "    pass"
   ]
  }
 ],
 "metadata": {
  "interpreter": {
   "hash": "34b8bd46980c0826764a5b36ed1c6c81aa64b95fe6c6003f76753dd59089c49f"
  },
  "kernelspec": {
   "display_name": "Python 3.8.8 64-bit ('base': conda)",
   "name": "python3"
  },
  "language_info": {
   "codemirror_mode": {
    "name": "ipython",
    "version": 3
   },
   "file_extension": ".py",
   "mimetype": "text/x-python",
   "name": "python",
   "nbconvert_exporter": "python",
   "pygments_lexer": "ipython3",
   "version": "3.8.8"
  },
  "orig_nbformat": 4
 },
 "nbformat": 4,
 "nbformat_minor": 2
}
