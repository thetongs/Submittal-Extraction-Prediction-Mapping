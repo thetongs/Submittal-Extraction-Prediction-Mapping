{
 "cells": [
  {
   "cell_type": "markdown",
   "metadata": {},
   "source": [
    "### Load Libraries"
   ]
  },
  {
   "cell_type": "code",
   "execution_count": 1,
   "metadata": {},
   "outputs": [],
   "source": [
    "import pdfplumber\n",
    "import itertools\n",
    "import json\n",
    "import re\n",
    "import spacy\n",
    "\n",
    "from os import path\n",
    "import csv\n",
    "import pickle\n",
    "import pandas as pd\n",
    "import numpy as np"
   ]
  },
  {
   "cell_type": "markdown",
   "metadata": {},
   "source": [
    "### Load Sample"
   ]
  },
  {
   "cell_type": "code",
   "execution_count": 2,
   "metadata": {},
   "outputs": [],
   "source": [
    "pre_data = \"\"\"\n",
    "SECTION 02 41 20 – SELECTIVE BUILDING DEMOLITION\n",
    "PART 1 - GENERAL\n",
    "1.1\n",
    "SUMMARY\n",
    "A.\n",
    "Section Includes:\n",
    "1.\n",
    "Systematic removal of portions of buildings and structures.\n",
    "2.\n",
    "Salvage of existing items for reuse.\n",
    "3.\n",
    "Salvage of construction materials for recycling.\n",
    "4.\n",
    "Supplementary components and accessories normally furnished or necessary for a\n",
    "complete installation, whether or not such items are indicated on the Drawings or\n",
    "included in the Specifications.\n",
    "1.2\n",
    "REFERENCES\n",
    "A.\n",
    "Definitions:\n",
    "1.\n",
    "Remove: Means to detach from existing construction and legally dispose off-site.\n",
    "2.\n",
    "Demolish: Means the same as “remove”.\n",
    "3.\n",
    "Dispose: Means to get rid of by throwing away; or by giving or selling to someone\n",
    "else.\n",
    "4.\n",
    "Reuse: Means to use again for the same function without re-processing.\n",
    "5.\n",
    "New-Life Reuse: Means to use again for a different function without re-processing.\n",
    "6.\n",
    "Remove and Salvage: Means to detach from existing construction, prepare for reuse\n",
    "or storage as applicable, and then deliver to the Owner.\n",
    "7.\n",
    "Remove and Reinstall: Means to detach from existing construction, prepare for reuse,\n",
    "and reinstall where indicated.\n",
    "8.\n",
    "Recycle: Means to detach from existing construction, break down into raw materials,\n",
    "and then process the materials to make new items.\n",
    "9.\n",
    "Existing-to-Remain: Means existing items that are not removed, reused, or recycled.\n",
    "1.3\n",
    "ADMINISTRATIVE REQUIREMENTS\n",
    "A.\n",
    "Coordination: Demolition drawings are diagrammatic and show existing conditions with\n",
    "information developed from field surveys and to generally show the extent and type of\n",
    "demolition required. The Owner will maintain conditions existing at the time of\n",
    "inspection for bidding purposes as far as practicable.\n",
    "1.\n",
    "Before beginning demolition, make a detailed survey of existing conditions indicated\n",
    "below in Part 3 of this specification Section, and report discrepancies or conflicts\n",
    "between Drawings and actual conditions in writing to the Architect for clarifications\n",
    "and instructions.\n",
    "2.\n",
    "Do not proceed, when such conflicts or discrepancies occur, before receipt of the\n",
    "Architect's instructions.\n",
    "B.\n",
    "Pre-Demolition Meeting:\n",
    "1.\n",
    "To review methods and procedures related to the work of this specification Section,\n",
    "hold a meeting at the project site after submittal approval and at least 10 business\n",
    "days before beginning installation. At a minimum, the Contractor, demolition\n",
    "subcontractor, and Architect must attend the meeting.\n",
    "2.\n",
    "During the meeting, review the Contract Documents, submittals, project conditions,\n",
    "and demolition sequence and methods, including special details and conditions that\n",
    "might affect demolition.\n",
    "a.\n",
    "Review and discuss existing conditions survey indicated below in Part 3 of this\n",
    "specification Section.\n",
    "b.\n",
    "Inspect and discuss condition of construction to be selectively demolished.\n",
    "c.\n",
    "Review structural load limitations of existing structure.\n",
    "d.\n",
    "Review and finalize selective demolition schedule and verify availability of\n",
    "materials, demolition personnel, equipment, and facilities needed to make\n",
    "progress and avoid delays.\n",
    "e.\n",
    "Review requirements of work that rely on substrates exposed by selective\n",
    "demolition operations.\n",
    "f.\n",
    "Review areas where construction is existing-to-remain and requires protection.\n",
    "3.\n",
    "Identify and discuss adverse or unfavorable conditions detrimental to protecting or\n",
    "demolishing construction. Resolve each condition.\n",
    "4.\n",
    "Finalize construction schedule.\n",
    "5.\n",
    "Record significant discussions and distribute meeting minutes. Do not begin\n",
    "demolition until disagreements are successfully resolved to the satisfaction of all\n",
    "parties.\n",
    "1.4\n",
    "SUBMITTALS\n",
    "A.\n",
    "Informational Submittals:\n",
    "1.\n",
    "Schedule of Selective Demolition Activities: Indicate the following.\n",
    "a.\n",
    "Detailed sequence of selective demolition and removal work, with starting and\n",
    "ending dates for each activity. Ensure Owner's on-site operations are\n",
    "uninterrupted.\n",
    "b.\n",
    "Interruption of utility services. Indicate how long utility services will be\n",
    "interrupted.\n",
    "c.\n",
    "Coordination for shutoff, capping, and continuation of utility services.\n",
    "d.\n",
    "Use of elevator and stairs.\n",
    "e.\n",
    "Locations of proposed dust- and noise-control temporary partitions and means\n",
    "of egress.\n",
    "f.\n",
    "Coordination of Owner's continuing occupancy of portions of existing building\n",
    "and of Owner's partial occupancy of completed work.\n",
    "g.\n",
    "Means of protecting existing-to-remain items in the path of waste removal.\n",
    "2.\n",
    "Inventory: After selective demolition is complete, submit a list of items that have\n",
    "been removed and salvaged.\n",
    "3.\n",
    "Pre-Demolition Photographs or Videos: Submit videos or photographs showing\n",
    "existing conditions of adjoining construction and site improvements, including finish\n",
    "surfaces that might be misconstrued as damage caused by selective demolition\n",
    "operations.\n",
    "1.5\n",
    "QUALITY ASSURANCE\n",
    "A.\n",
    "Quality Standards: Comply with the safety requirements of both American National\n",
    "Standards Institute/ American Society of Safety Engineers publication ANSI/ASSE A10.6.\n",
    "“Safety Requirements for Demolition Operations” and National Fire Protection Association\n",
    "publication NFPA 241, “Standard for Safeguarding Construction, Alteration, and\n",
    "Demolition Operations”.\n",
    "1.6\n",
    "PROJECT CONDITIONS\n",
    "A.\n",
    "Hazardous Materials: Hazardous materials may be encountered in the building or at the\n",
    "project site. If materials suspected of containing hazardous materials are encountered,\n",
    "then do not disturb; promptly notify the Architect and Owner.\n",
    "PART 2 - PRODUCTS (NOT USED)\n",
    "PART 3 - EXECUTION\n",
    "3.1\n",
    "EXAMINATION\n",
    "A.\n",
    "Oversight: Ensure adequate supervision practices are followed at the project site before\n",
    "demolition work begins and at all times during installation.\n",
    "B.\n",
    "Survey: Engage a professional engineer to survey condition of building to determine\n",
    "whether removing any element might result in structural deficiency or unplanned\n",
    "collapse of any portion of structure or adjacent structures during selective demolition\n",
    "operations.\n",
    "1.\n",
    "Survey existing conditions and correlate with requirements indicated to determine\n",
    "extent of selective demolition required.\n",
    "2.\n",
    "Provide means to have digital molds created to repair ornate items in case of loss\n",
    "(e.g., laser cloud point scan).\n",
    "3.\n",
    "Inventory and record the condition of items removed and reinstalled and removed\n",
    "and salvaged.\n",
    "4.\n",
    "When unforeseen mechanical, electrical, or structural elements are encountered that\n",
    "conflict with intended function or design, investigate and measure the nature and\n",
    "extent of conflict. Promptly submit written report to Architect.\n",
    "5.\n",
    "Perform surveys as the work progresses to detect hazards resulting from selective\n",
    "demolition activities.\n",
    "3.2\n",
    "PREPARATION\n",
    "A.\n",
    "Site Protection: Protect existing-to-remain sitework against damage and soiling during\n",
    "demolition.\n",
    "1.\n",
    "Do not begin selective demolition work until temporary partitions, barricades,\n",
    "warning signs, and other forms of protection are installed.\n",
    "2.\n",
    "Protect trees, plants, utilities, and existing improvements that are not to be removed\n",
    "from injury or damage. Replace damaged landscaping, improvements, and utilities in\n",
    "kind.\n",
    "3.\n",
    "During demolition, provide safeguards for protection of the public, Contractor's\n",
    "employees, and existing improvements existing-to-remain, including warning signs\n",
    "and lights, barricades, and the like.\n",
    "4.\n",
    "Provide and maintain shoring, bracing, and structural supports required to preserve\n",
    "stability and prevent movement, settlement, or collapse of existing-to-remain\n",
    "construction and finishes; and to prevent unexpected or uncontrolled movement or\n",
    "collapse of construction being demolished.\n",
    "B.\n",
    "Building Protection: Protect existing-to-remain building construction against damage\n",
    "and soiling during selective demolition.\n",
    "1.\n",
    "Do not begin selective demolition work until temporary building bracing, barricades,\n",
    "and other protection necessary to prevent injury to people and damage to adjacent\n",
    "existing-to-remain facilities.\n",
    "2.\n",
    "Do not allow water to enter existing-to-remain wall or roof insulation. Replace\n",
    "insulation when it is wetted.\n",
    "C.\n",
    "Utilities, Services, and Building Systems Protection:\n",
    "1.\n",
    "Maintain existing-to-remain utility services and mechanical and electrical systems\n",
    "and protect them against damage during selective demolition operations.\n",
    "2.\n",
    "Locate, identify, disconnect, and seal or cap off indicated utility services and\n",
    "mechanical and electrical systems serving areas indicated for demolition.\n",
    "a.\n",
    "Arrange with utility companies to shut off indicated utilities.\n",
    "b.\n",
    "If building systems or mechanical and electrical systems are indicated as\n",
    "removed, relocated, or abandoned, provide temporary services and systems that\n",
    "bypass demolition areas and maintain continuity of services and systems to other\n",
    "parts of building before proceeding with selective demolition.\n",
    "c.\n",
    "Cut off pipe or conduit in walls or partitions to be removed. Cap, valve, or plug\n",
    "and seal remaining portion of pipe or conduit after bypassing.\n",
    "3.3\n",
    "DEMOLITION\n",
    "A.\n",
    "General Demolition Requirements:\n",
    "1.\n",
    "Coordinate demolition to assure the proper sequence, limits, methods, and time of\n",
    "performance. Schedule demolition to impose minimum of hardship on present\n",
    "facility operations and performance of the work.\n",
    "2.\n",
    "Conduct selective demolition and debris-removal operations to ensure the least\n",
    "interference with roads, streets, walks, walkways, and other adjacent occupied and\n",
    "used facilities.\n",
    "3.\n",
    "Demolish and remove existing construction only as shown and to the extent required\n",
    "by new construction. Use methods necessary to complete the work within indicated\n",
    "or specified limitations.\n",
    "a.\n",
    "Maintain existing building structure (including structural floor and roof decking)\n",
    "and envelope (exterior skin and framing, excluding window assemblies and\n",
    "nonstructural roofing material) not shown as demolished; do not demolish\n",
    "existing construction beyond indicated limits.\n",
    "b.\n",
    "Maintain existing interior nonstructural elements (interior walls, doors, floor\n",
    "coverings, and ceiling systems) not shown as demolished.\n",
    "c.\n",
    "Do not demolish existing construction beyond indicated limits.\n",
    "4.\n",
    "Neatly cut openings and holes plumb, square, and true to dimensions required. Use\n",
    "cutting methods least likely to damage existing-to-remain construction or adjoining\n",
    "construction.\n",
    "5.\n",
    "Use hand tools or small power tools designed for sawing or grinding, not hammering\n",
    "and chopping, to minimize disturbance of adjacent surfaces.\n",
    "6.\n",
    "Cut or drill from the exposed or finished side into concealed surfaces to avoid\n",
    "marring existing finished surfaces. Verify condition and contents of hidden space\n",
    "before starting cutting operations.\n",
    "7.\n",
    "Do not use cutting torches until after work areas are cleared of flammable materials.\n",
    "Maintain portable fire-suppression devices during flame-cutting operations.\n",
    "8.\n",
    "Temporarily cover existing-to-remain openings.\n",
    "9.\n",
    "Locate selective demolition equipment and remove debris and materials so as not to\n",
    "impose excessive loads on supporting walls, floors, or framing.\n",
    "10. Do not remove any item in a manner that that results in any warranty or guarantee\n",
    "becoming void.\n",
    "B.\n",
    "Special Techniques:\n",
    "1.\n",
    "Removed and Salvaged Items:\n",
    "a.\n",
    "Clean salvaged items.\n",
    "b.\n",
    "Pack or crate items after cleaning. Identify contents of containers.\n",
    "c.\n",
    "Store items in a secure area or location until delivery to the Owner.\n",
    "2.\n",
    "Removed and Reinstalled Items:\n",
    "a.\n",
    "Clean and repair items to functional condition adequate for intended reuse. Paint\n",
    "equipment to match new equipment.\n",
    "b.\n",
    "Pack or crate items after cleaning and repairing. Identify contents of containers.\n",
    "c.\n",
    "Protect items from damage during transport and storage.\n",
    "d.\n",
    "Reinstall items in locations indicated. Comply with installation requirements for\n",
    "new materials and equipment. Provide connections, supports, and miscellaneous\n",
    "materials necessary to make items functional for use indicated.\n",
    "3.\n",
    "Existing-to-Remain Items:\n",
    "a.\n",
    "When permitted by the Architect, items may be removed to a suitable, protected\n",
    "storage location during selective demolition and cleaned and reinstalled in their\n",
    "original locations after selective demolition operations are complete.\n",
    "3.4\n",
    "CORRECTION AND REPAIR\n",
    "A.\n",
    "Damaged existing-to-remain work must be patched and repaired. Correct and repair as\n",
    "necessary, without limitation, including arranging all correction and repair work and\n",
    "paying all correction and repair costs without reimbursement from Owner, until\n",
    "accepted in writing by the Architect.\n",
    "B.\n",
    "Corrective and repair work must be performed in conformance with a correction and\n",
    "repair plan submitted to and accepted in writing by the Architect before correction or\n",
    "repair work begins. At a minimum, correction and repair plans must include\n",
    "1.\n",
    "written descriptions of non-conforming, damaged, and defective work;\n",
    "2.\n",
    "supporting sketches, diagrams, photographs, and other visual depictions of non-\n",
    "conforming, damaged, and defective work; and\n",
    "3.\n",
    "similar written descriptions and visual depictions of Contractor-proposed\n",
    "corrections and repairs.\n",
    "C.\n",
    "Do not correct, repair, or replace any item in a manner that that results in any warranty\n",
    "or guarantee becoming void.\n",
    "D.\n",
    "Arrange and pay costs without reimbursement from Owner for removing and replacing\n",
    "work that cannot be corrected or repaired to the Architect’s acceptance.\n",
    "3.5\n",
    "CLEANING\n",
    "A.\n",
    "Except for recycled, reused, salvaged, and reinstalled items and other existing-to-remain\n",
    "items on Owner's property, remove demolished materials from the project site and\n",
    "legally dispose off-site. Do not burn demolished materials.\n",
    "B.\n",
    "Removed items not indicated for reuse, reinstallation, or salvage are the property of the\n",
    "Contractor and must be cleared from the project site.\n",
    "1.\n",
    "Continuously clean up and clear these items; do not allow them to accumulate in the\n",
    "building or at the project site.\n",
    "2.\n",
    "Material and equipment may not be viewed by prospective purchasers nor sold on\n",
    "the site.\n",
    "3.\n",
    "The Owner is not responsible for the condition, loss, or damage to removed items.\n",
    "C.\n",
    "Waste Management: After completing the work of this specification section, leave work\n",
    "END OF SECTION\n",
    "©AWCWEST 20A01 All rights reserved.\n",
    "RSTLNI, TAGTIS, TAGDSC, ELMTF, CLSF3030, IDNO1\n",
    "\n",
    "CONCRETE\n",
    "\"\"\"\n"
   ]
  },
  {
   "cell_type": "markdown",
   "metadata": {},
   "source": [
    "### Preprocessing for Section"
   ]
  },
  {
   "cell_type": "code",
   "execution_count": 3,
   "metadata": {},
   "outputs": [],
   "source": [
    "pre_data = re.sub(' +', ' ', pre_data)"
   ]
  },
  {
   "cell_type": "code",
   "execution_count": 4,
   "metadata": {},
   "outputs": [],
   "source": [
    "regex_end = r'\\bEND\\s*OF\\s*(SECTION|DOCUMENT)\\b'\n",
    "if(re.search(regex_end, pre_data)):\n",
    "    pre_data = pre_data[0: re.search(regex_end, pre_data).end():]"
   ]
  },
  {
   "cell_type": "code",
   "execution_count": 6,
   "metadata": {},
   "outputs": [
    {
     "data": {
      "text/plain": [
       "'SECTION 02 41 20 – SELECTIVE BUILDING DEMOLITION\\n'"
      ]
     },
     "execution_count": 6,
     "metadata": {},
     "output_type": "execute_result"
    }
   ],
   "source": [
    "start_index = re.search(r'SECTION|DOCUMENT', pre_data).start()\n",
    "end_index= pre_data.rindex(\"PART 1\")\n",
    "first_part_index = pre_data.index(\"PART 1\")\n",
    "\n",
    "section_details = pre_data[start_index:first_part_index]\n",
    "section_details"
   ]
  },
  {
   "cell_type": "code",
   "execution_count": 7,
   "metadata": {},
   "outputs": [],
   "source": [
    "section_details_to_skip = [item.strip() for item in section_details.split(\"\\n\") if item.strip() != \"\"]"
   ]
  },
  {
   "cell_type": "code",
   "execution_count": 8,
   "metadata": {},
   "outputs": [
    {
     "data": {
      "text/plain": [
       "'SECTION 02 41 20 – SELECTIVE BUILDING DEMOLITION '"
      ]
     },
     "execution_count": 8,
     "metadata": {},
     "output_type": "execute_result"
    }
   ],
   "source": [
    "section_details = re.sub(' +', ' ', section_details.replace(\"\\n\", \" \"))\n",
    "section_details"
   ]
  },
  {
   "cell_type": "code",
   "execution_count": 9,
   "metadata": {},
   "outputs": [
    {
     "name": "stdout",
     "output_type": "stream",
     "text": [
      "Section Name - Not Found\n"
     ]
    }
   ],
   "source": [
    "nlp2 = spacy.load(\"Spacy Custom NER Dump/\")\n",
    "\n",
    "spec_number = \"\"\n",
    "spec_name = \"\"\n",
    "flag1, flag2 = False, False\n",
    "section_data = nlp2(section_details)\n",
    "for sent in section_data.ents:\n",
    "    if(sent.label_ == 'section_name'):\n",
    "        spec_name = str(sent)\n",
    "        flag1 = True\n",
    "\n",
    "if(not flag1):\n",
    "    spec_name = \"Not Found\"\n",
    "\n",
    "print(\"Section Name - {}\".format(spec_name))"
   ]
  },
  {
   "cell_type": "markdown",
   "metadata": {},
   "source": [
    "### Data Preprocessing For Mapping"
   ]
  },
  {
   "cell_type": "code",
   "execution_count": 10,
   "metadata": {},
   "outputs": [],
   "source": [
    "# Select Lines From Last Occurance of Part 1\n",
    "data = pre_data[end_index:]"
   ]
  },
  {
   "cell_type": "code",
   "execution_count": 12,
   "metadata": {},
   "outputs": [],
   "source": [
    "# Remove Unwanted Lines, Skip Section Details and Mapp into String\n",
    "final_data = \"\"\n",
    "head_flag = True\n",
    "for index, line in enumerate(data.splitlines()):\n",
    "    if(\"END OF SECTION\" in line or \"END OF DOCUMENT\" in line.strip()):\n",
    "        continue\n",
    "    elif(len(line.strip()) == 0):\n",
    "        continue\n",
    "    elif([ele for ele in section_details_to_skip if(line.strip().startswith(ele))]):\n",
    "        continue\n",
    "    else:\n",
    "        final_data = final_data + line.strip() + \"\\n\""
   ]
  },
  {
   "cell_type": "code",
   "execution_count": 13,
   "metadata": {},
   "outputs": [],
   "source": [
    "# Arrange Lines to Proper Pointers\n",
    "final_lines = []\n",
    "index = -1\n",
    "for i, line in enumerate(final_data.splitlines()):\n",
    "    line = line.strip()\n",
    "    if(line.strip().startswith(\"PART\")): \n",
    "        final_lines.append(line)\n",
    "        index = index + 1\n",
    "    elif(re.search(r\"^[0-9]\\.[0-9]\", line)):\n",
    "        final_lines.append(line)\n",
    "        index = index + 1\n",
    "    elif(re.search(r\"^[A-Za-z]\\.\", line)):\n",
    "        final_lines.append(line)\n",
    "        index = index + 1\n",
    "    elif(re.search(r\"^[0-9]+\\.\", line)):\n",
    "        final_lines.append(line)\n",
    "        index = index + 1\n",
    "    elif(re.search(r\"^[0-9]+\\)\", line)):\n",
    "        final_lines.append(line)\n",
    "        index = index + 1\n",
    "    elif(re.search(r\"^[a-z]+\\)\", line)):\n",
    "        final_lines.append(line)\n",
    "        index = index + 1\n",
    "    elif(final_lines[index].strip().startswith(\"PART\")):\n",
    "            continue\n",
    "    elif(line.strip().isupper()):\n",
    "        final_lines[index] = final_lines[index] + \" \" + line\n",
    "    elif(re.search(r\"^[0-9]+\\.[0-9]\", final_lines[index].strip())):\n",
    "        final_lines.append(line)\n",
    "        index = index + 1\n",
    "    else:\n",
    "        final_lines[index] = final_lines[index] + \" \" + line\n",
    "            "
   ]
  },
  {
   "cell_type": "code",
   "execution_count": 14,
   "metadata": {},
   "outputs": [
    {
     "name": "stdout",
     "output_type": "stream",
     "text": [
      "['PART 1 - GENERAL', '1.1 SUMMARY', '1.2 REFERENCES', '1.3 ADMINISTRATIVE REQUIREMENTS', '1.4 SUBMITTALS', '1.5 QUALITY ASSURANCE', '1.6 PROJECT CONDITIONS', 'PART 2 - PRODUCTS (NOT USED)', 'PART 3 - EXECUTION', '3.1 EXAMINATION', '3.2 PREPARATION', '3.3 DEMOLITION', '3.4 CORRECTION AND REPAIR', '3.5 CLEANING']\n"
     ]
    }
   ],
   "source": [
    "# All Heading\n",
    "heading = []\n",
    "flag = True\n",
    "for line in final_lines:\n",
    "    if(re.search(r\"^[0-9]+\\.[0-9]\", line.strip()) or line.strip().startswith(\"PART\")):\n",
    "        heading.append(line)\n",
    "        flag = False\n",
    "    elif(re.search(r\"^[A-Z]\\.\", line.strip()) and flag):\n",
    "        heading.append(line)\n",
    "\n",
    "print(heading)"
   ]
  },
  {
   "cell_type": "code",
   "execution_count": 15,
   "metadata": {},
   "outputs": [
    {
     "data": {
      "text/plain": [
       "['PART 1 - GENERAL',\n",
       " ['1.4 SUBMITTALS', '1.5 QUALITY ASSURANCE'],\n",
       " 'PART 2 - PRODUCTS (NOT USED)',\n",
       " 'PART 3 - EXECUTION']"
      ]
     },
     "execution_count": 15,
     "metadata": {},
     "output_type": "execute_result"
    }
   ],
   "source": [
    "# Heading Pairs\n",
    "res = list(map(list, zip(heading, heading[1:])))\n",
    "index_data = []\n",
    "heading_list = []\n",
    "for i, data in enumerate(res):\n",
    "    if(i == 0):\n",
    "        heading_list.append(\"PART 1 - GENERAL\")\n",
    "    if(\"SUBMITTAL\" in data[0]): \n",
    "        heading_list.append(data)\n",
    "    if(\"PART\" in data[1]):\n",
    "        heading_list.append(data[1])\n",
    "\n",
    "heading_list"
   ]
  },
  {
   "cell_type": "code",
   "execution_count": 16,
   "metadata": {},
   "outputs": [
    {
     "name": "stdout",
     "output_type": "stream",
     "text": [
      "['PART 1 - GENERAL', (34, 46), 'PART 2 - PRODUCTS (NOT USED)', 'PART 3 - EXECUTION']\n"
     ]
    }
   ],
   "source": [
    "# Submittal Lines Index\n",
    "data_lines = []\n",
    "if(len(heading_list) == 0):\n",
    "    final_lines = []\n",
    "else:\n",
    "    for item in heading_list:\n",
    "        if(\"SUMMITAL\" in item or \"SUBMITTAL\" in item[0] or \"SUBMITTALS\" in item[0]):\n",
    "            x, y = final_lines.index(item[0]), final_lines.index(item[1])\n",
    "            data_lines.append((x, y))\n",
    "        elif(\"PART \" in item):\n",
    "            data_lines.append(item)\n",
    "\n",
    "print(data_lines)"
   ]
  },
  {
   "cell_type": "code",
   "execution_count": 17,
   "metadata": {},
   "outputs": [
    {
     "name": "stdout",
     "output_type": "stream",
     "text": [
      "['PART 1 - GENERAL', '1.4 SUBMITTALS', 'A. Informational Submittals:', '1. Schedule of Selective Demolition Activities: Indicate the following.', \"a. Detailed sequence of selective demolition and removal work, with starting and ending dates for each activity. Ensure Owner's on-site operations are uninterrupted.\", 'b. Interruption of utility services. Indicate how long utility services will be interrupted.', 'c. Coordination for shutoff, capping, and continuation of utility services.', 'd. Use of elevator and stairs.', 'e. Locations of proposed dust- and noise-control temporary partitions and means of egress.', \"f. Coordination of Owner's continuing occupancy of portions of existing building and of Owner's partial occupancy of completed work.\", 'g. Means of protecting existing-to-remain items in the path of waste removal.', '2. Inventory: After selective demolition is complete, submit a list of items that have been removed and salvaged.', '3. Pre-Demolition Photographs or Videos: Submit videos or photographs showing existing conditions of adjoining construction and site improvements, including finish surfaces that might be misconstrued as damage caused by selective demolition operations.', 'PART 2 - PRODUCTS (NOT USED)', 'PART 3 - EXECUTION']\n"
     ]
    }
   ],
   "source": [
    "# Submittal Records for Mapping\n",
    "dataset = []\n",
    "for pos in data_lines:\n",
    "    if(\"PART\" in pos):\n",
    "        dataset.append(pos)\n",
    "    else:\n",
    "        for ll in range(pos[0], pos[1]):\n",
    "            dataset.append(final_lines[ll])\n",
    "\n",
    "print(dataset)"
   ]
  },
  {
   "cell_type": "markdown",
   "metadata": {},
   "source": [
    "## Test"
   ]
  },
  {
   "cell_type": "code",
   "execution_count": 16,
   "metadata": {},
   "outputs": [
    {
     "data": {
      "text/html": [
       "<div>\n",
       "<style scoped>\n",
       "    .dataframe tbody tr th:only-of-type {\n",
       "        vertical-align: middle;\n",
       "    }\n",
       "\n",
       "    .dataframe tbody tr th {\n",
       "        vertical-align: top;\n",
       "    }\n",
       "\n",
       "    .dataframe thead th {\n",
       "        text-align: right;\n",
       "    }\n",
       "</style>\n",
       "<table border=\"1\" class=\"dataframe\">\n",
       "  <thead>\n",
       "    <tr style=\"text-align: right;\">\n",
       "      <th></th>\n",
       "      <th>SECTION</th>\n",
       "      <th>SECTION NAME</th>\n",
       "      <th>PART</th>\n",
       "      <th>SUBSECTION</th>\n",
       "      <th>SUBSECTION NAME</th>\n",
       "      <th>DESCRIPTION</th>\n",
       "    </tr>\n",
       "  </thead>\n",
       "  <tbody>\n",
       "    <tr>\n",
       "      <th>0</th>\n",
       "      <td></td>\n",
       "      <td>TAGGING AND IDENTIFICATION</td>\n",
       "      <td>PART 1 - GENERAL</td>\n",
       "      <td>1.4-A</td>\n",
       "      <td>INFORMATION SUBMITTALS</td>\n",
       "      <td>A. Action Submittals: \\n1. Product Data: Manuf...</td>\n",
       "    </tr>\n",
       "  </tbody>\n",
       "</table>\n",
       "</div>"
      ],
      "text/plain": [
       "  SECTION                SECTION NAME              PART SUBSECTION  \\\n",
       "0          TAGGING AND IDENTIFICATION  PART 1 - GENERAL      1.4-A   \n",
       "\n",
       "          SUBSECTION NAME                                        DESCRIPTION  \n",
       "0  INFORMATION SUBMITTALS  A. Action Submittals: \\n1. Product Data: Manuf...  "
      ]
     },
     "execution_count": 16,
     "metadata": {},
     "output_type": "execute_result"
    }
   ],
   "source": [
    "mapp_dataset = pd.DataFrame(columns = [\"SECTION\", \"SECTION NAME\", \"PART\", \"SUBSECTION\", \"SUBSECTION NAME\", \"DESCRIPTION\"])\n",
    "\n",
    "# Map Records Into CSV\n",
    "for index, line in enumerate(dataset):\n",
    "    if(line.strip().startswith('PART')):\n",
    "        part_name = line.strip()\n",
    "    elif(re.search(r\"^[0-9]+\\.[0-9]+\", line.strip())):\n",
    "        subsection = line.split()[0]\n",
    "        if(subsection.strip().endswith(\".\")):\n",
    "            subsection = subsection[:3]\n",
    "        subsection_name = \" \".join(line.split()[1:])\n",
    "        subsection_flag = True\n",
    "    elif(re.search(r\"^[A-Z]\\.\", line.strip())):\n",
    "        heading_flag = True\n",
    "        subsection1 = line.strip()[0]\n",
    "        mapp_dataset.loc[len(mapp_dataset)] = [spec_number, spec_name, part_name, subsection +\"-\"+ subsection1, subsection_name, line.strip()]\n",
    "    elif(heading_flag):\n",
    "        if(re.search(r\"^[0-9]+\\.\", line.strip())):\n",
    "            mapp_dataset.loc[len(mapp_dataset) - 1, \"DESCRIPTION\"] = mapp_dataset.loc[len(mapp_dataset) - 1, \"DESCRIPTION\"] + \" \\n\" + line.strip()\n",
    "        else:\n",
    "            mapp_dataset.loc[len(mapp_dataset) - 1, \"DESCRIPTION\"] = mapp_dataset.loc[len(mapp_dataset) - 1, \"DESCRIPTION\"] + \" \" + line.strip()\n",
    "    else:\n",
    "        if(subsection_flag):\n",
    "            mapp_dataset.loc[len(mapp_dataset)] = [spec_number, spec_name, part_name, subsection, subsection_name, \"\\n\" + line.strip()]\n",
    "            subsection_flag = False\n",
    "        elif(r\"^[0-9]+\\.[0-9]+\", line.strip()):\n",
    "            mapp_dataset.loc[len(mapp_dataset) - 1, \"DESCRIPTION\"] = mapp_dataset.loc[len(mapp_dataset) - 1, \"DESCRIPTION\"] + \"\\n\" + line.strip()\n",
    "        else:\n",
    "            mapp_dataset.loc[len(mapp_dataset) - 1, \"DESCRIPTION\"] = mapp_dataset.loc[len(mapp_dataset) - 1, \"DESCRIPTION\"] + \" \" + line.strip()\n",
    "\n",
    "mapp_dataset"
   ]
  },
  {
   "cell_type": "code",
   "execution_count": 15,
   "metadata": {},
   "outputs": [],
   "source": [
    "# Mapp to Data Frame\n",
    "mapp_dataset = pd.DataFrame(columns = [\"SECTION\", \"SECTION NAME\", \"PART\", \"SUBSECTION\", \"SUBSECTION NAME\", \"DESCRIPTION\"], dtype = str)\n",
    "subsection_flag = False\n",
    "subsection = \"Not Found\"\n",
    "subsection1 = \"Not Found\"\n",
    "subsection_name = \"Not Found\"\n",
    "part_name = \"Not Found\"\n",
    "heading_flag = False\n",
    "for index, line in enumerate(dataset):\n",
    "    if(line.strip().startswith('PART')):\n",
    "        part_name = line.strip()\n",
    "    elif(re.search(r\"^[0-9]+\\.[0-9]+\", line.strip())):\n",
    "        subsection = line.split()[0]\n",
    "        if(subsection.strip().endswith(\".\")):\n",
    "            subsection = subsection[:3]\n",
    "        subsection_name = \" \".join(line.split()[1:])\n",
    "        subsection_flag = True\n",
    "    elif(re.search(r\"^[A-Z]\\.\", line.strip())):\n",
    "        heading_flag = True\n",
    "        subsection1 = line.strip()[0]\n",
    "        mapp_dataset.loc[len(mapp_dataset)] = [spec_number, spec_name, part_name, subsection +\"-\"+ subsection1, subsection_name, line.strip()]\n",
    "    elif(heading_flag):\n",
    "        if(re.search(r\"^[0-9]+\\.\", line.strip())):\n",
    "            mapp_dataset.loc[len(mapp_dataset) - 1, \"DESCRIPTION\"] = mapp_dataset.loc[len(mapp_dataset) - 1, \"DESCRIPTION\"] + \" \\n\" + line.strip()\n",
    "        else:\n",
    "            mapp_dataset.loc[len(mapp_dataset) - 1, \"DESCRIPTION\"] = mapp_dataset.loc[len(mapp_dataset) - 1, \"DESCRIPTION\"] + \" \" + line.strip()\n",
    "    else:\n",
    "        if(subsection_flag):\n",
    "            mapp_dataset.loc[len(mapp_dataset)] = [spec_number, spec_name, part_name, subsection, subsection_name, \"\\n\" + line.strip()]\n",
    "            subsection_flag = False\n",
    "        elif(r\"^[0-9]+\\.[0-9]+\", line.strip()):\n",
    "            mapp_dataset.loc[len(mapp_dataset) - 1, \"DESCRIPTION\"] = mapp_dataset.loc[len(mapp_dataset) - 1, \"DESCRIPTION\"] + \"\\n\" + line.strip()\n",
    "        else:\n",
    "            mapp_dataset.loc[len(mapp_dataset) - 1, \"DESCRIPTION\"] = mapp_dataset.loc[len(mapp_dataset) - 1, \"DESCRIPTION\"] + \" \" + line.strip()\n"
   ]
  },
  {
   "cell_type": "code",
   "execution_count": 16,
   "metadata": {},
   "outputs": [
    {
     "data": {
      "text/html": [
       "<div>\n",
       "<style scoped>\n",
       "    .dataframe tbody tr th:only-of-type {\n",
       "        vertical-align: middle;\n",
       "    }\n",
       "\n",
       "    .dataframe tbody tr th {\n",
       "        vertical-align: top;\n",
       "    }\n",
       "\n",
       "    .dataframe thead th {\n",
       "        text-align: right;\n",
       "    }\n",
       "</style>\n",
       "<table border=\"1\" class=\"dataframe\">\n",
       "  <thead>\n",
       "    <tr style=\"text-align: right;\">\n",
       "      <th></th>\n",
       "      <th>SECTION</th>\n",
       "      <th>SECTION NAME</th>\n",
       "      <th>PART</th>\n",
       "      <th>SUBSECTION</th>\n",
       "      <th>SUBSECTION NAME</th>\n",
       "      <th>DESCRIPTION</th>\n",
       "    </tr>\n",
       "  </thead>\n",
       "  <tbody>\n",
       "    <tr>\n",
       "      <th>0</th>\n",
       "      <td></td>\n",
       "      <td>TAGGING AND IDENTIFICATION</td>\n",
       "      <td>PART 1 - GENERAL</td>\n",
       "      <td>1.4-A</td>\n",
       "      <td>INFORMATION SUBMITTALS</td>\n",
       "      <td>A. Action Submittals: \\n1. Product Data: Manuf...</td>\n",
       "    </tr>\n",
       "  </tbody>\n",
       "</table>\n",
       "</div>"
      ],
      "text/plain": [
       "  SECTION                SECTION NAME              PART SUBSECTION  \\\n",
       "0          TAGGING AND IDENTIFICATION  PART 1 - GENERAL      1.4-A   \n",
       "\n",
       "          SUBSECTION NAME                                        DESCRIPTION  \n",
       "0  INFORMATION SUBMITTALS  A. Action Submittals: \\n1. Product Data: Manuf...  "
      ]
     },
     "execution_count": 16,
     "metadata": {},
     "output_type": "execute_result"
    }
   ],
   "source": [
    "mapp_dataset"
   ]
  },
  {
   "cell_type": "code",
   "execution_count": 50,
   "metadata": {},
   "outputs": [
    {
     "ename": "KeyError",
     "evalue": "1",
     "output_type": "error",
     "traceback": [
      "\u001b[1;31m---------------------------------------------------------------------------\u001b[0m",
      "\u001b[1;31mKeyError\u001b[0m                                  Traceback (most recent call last)",
      "\u001b[1;32m~\\Anaconda3\\lib\\site-packages\\pandas\\core\\indexes\\base.py\u001b[0m in \u001b[0;36mget_loc\u001b[1;34m(self, key, method, tolerance)\u001b[0m\n\u001b[0;32m   3079\u001b[0m             \u001b[1;32mtry\u001b[0m\u001b[1;33m:\u001b[0m\u001b[1;33m\u001b[0m\u001b[1;33m\u001b[0m\u001b[0m\n\u001b[1;32m-> 3080\u001b[1;33m                 \u001b[1;32mreturn\u001b[0m \u001b[0mself\u001b[0m\u001b[1;33m.\u001b[0m\u001b[0m_engine\u001b[0m\u001b[1;33m.\u001b[0m\u001b[0mget_loc\u001b[0m\u001b[1;33m(\u001b[0m\u001b[0mcasted_key\u001b[0m\u001b[1;33m)\u001b[0m\u001b[1;33m\u001b[0m\u001b[1;33m\u001b[0m\u001b[0m\n\u001b[0m\u001b[0;32m   3081\u001b[0m             \u001b[1;32mexcept\u001b[0m \u001b[0mKeyError\u001b[0m \u001b[1;32mas\u001b[0m \u001b[0merr\u001b[0m\u001b[1;33m:\u001b[0m\u001b[1;33m\u001b[0m\u001b[1;33m\u001b[0m\u001b[0m\n",
      "\u001b[1;32mpandas\\_libs\\index.pyx\u001b[0m in \u001b[0;36mpandas._libs.index.IndexEngine.get_loc\u001b[1;34m()\u001b[0m\n",
      "\u001b[1;32mpandas\\_libs\\index.pyx\u001b[0m in \u001b[0;36mpandas._libs.index.IndexEngine.get_loc\u001b[1;34m()\u001b[0m\n",
      "\u001b[1;32mpandas\\_libs\\hashtable_class_helper.pxi\u001b[0m in \u001b[0;36mpandas._libs.hashtable.Int64HashTable.get_item\u001b[1;34m()\u001b[0m\n",
      "\u001b[1;32mpandas\\_libs\\hashtable_class_helper.pxi\u001b[0m in \u001b[0;36mpandas._libs.hashtable.Int64HashTable.get_item\u001b[1;34m()\u001b[0m\n",
      "\u001b[1;31mKeyError\u001b[0m: 1",
      "\nThe above exception was the direct cause of the following exception:\n",
      "\u001b[1;31mKeyError\u001b[0m                                  Traceback (most recent call last)",
      "\u001b[1;32m<ipython-input-50-9e0c78685fd2>\u001b[0m in \u001b[0;36m<module>\u001b[1;34m\u001b[0m\n\u001b[1;32m----> 1\u001b[1;33m \u001b[0mmapp_dataset\u001b[0m\u001b[1;33m.\u001b[0m\u001b[0mDESCRIPTION\u001b[0m\u001b[1;33m[\u001b[0m\u001b[1;36m1\u001b[0m\u001b[1;33m]\u001b[0m\u001b[1;33m.\u001b[0m\u001b[0msplitlines\u001b[0m\u001b[1;33m(\u001b[0m\u001b[1;33m)\u001b[0m\u001b[1;33m\u001b[0m\u001b[1;33m\u001b[0m\u001b[0m\n\u001b[0m",
      "\u001b[1;32m~\\Anaconda3\\lib\\site-packages\\pandas\\core\\series.py\u001b[0m in \u001b[0;36m__getitem__\u001b[1;34m(self, key)\u001b[0m\n\u001b[0;32m    851\u001b[0m \u001b[1;33m\u001b[0m\u001b[0m\n\u001b[0;32m    852\u001b[0m         \u001b[1;32melif\u001b[0m \u001b[0mkey_is_scalar\u001b[0m\u001b[1;33m:\u001b[0m\u001b[1;33m\u001b[0m\u001b[1;33m\u001b[0m\u001b[0m\n\u001b[1;32m--> 853\u001b[1;33m             \u001b[1;32mreturn\u001b[0m \u001b[0mself\u001b[0m\u001b[1;33m.\u001b[0m\u001b[0m_get_value\u001b[0m\u001b[1;33m(\u001b[0m\u001b[0mkey\u001b[0m\u001b[1;33m)\u001b[0m\u001b[1;33m\u001b[0m\u001b[1;33m\u001b[0m\u001b[0m\n\u001b[0m\u001b[0;32m    854\u001b[0m \u001b[1;33m\u001b[0m\u001b[0m\n\u001b[0;32m    855\u001b[0m         \u001b[1;32mif\u001b[0m \u001b[0mis_hashable\u001b[0m\u001b[1;33m(\u001b[0m\u001b[0mkey\u001b[0m\u001b[1;33m)\u001b[0m\u001b[1;33m:\u001b[0m\u001b[1;33m\u001b[0m\u001b[1;33m\u001b[0m\u001b[0m\n",
      "\u001b[1;32m~\\Anaconda3\\lib\\site-packages\\pandas\\core\\series.py\u001b[0m in \u001b[0;36m_get_value\u001b[1;34m(self, label, takeable)\u001b[0m\n\u001b[0;32m    959\u001b[0m \u001b[1;33m\u001b[0m\u001b[0m\n\u001b[0;32m    960\u001b[0m         \u001b[1;31m# Similar to Index.get_value, but we do not fall back to positional\u001b[0m\u001b[1;33m\u001b[0m\u001b[1;33m\u001b[0m\u001b[1;33m\u001b[0m\u001b[0m\n\u001b[1;32m--> 961\u001b[1;33m         \u001b[0mloc\u001b[0m \u001b[1;33m=\u001b[0m \u001b[0mself\u001b[0m\u001b[1;33m.\u001b[0m\u001b[0mindex\u001b[0m\u001b[1;33m.\u001b[0m\u001b[0mget_loc\u001b[0m\u001b[1;33m(\u001b[0m\u001b[0mlabel\u001b[0m\u001b[1;33m)\u001b[0m\u001b[1;33m\u001b[0m\u001b[1;33m\u001b[0m\u001b[0m\n\u001b[0m\u001b[0;32m    962\u001b[0m         \u001b[1;32mreturn\u001b[0m \u001b[0mself\u001b[0m\u001b[1;33m.\u001b[0m\u001b[0mindex\u001b[0m\u001b[1;33m.\u001b[0m\u001b[0m_get_values_for_loc\u001b[0m\u001b[1;33m(\u001b[0m\u001b[0mself\u001b[0m\u001b[1;33m,\u001b[0m \u001b[0mloc\u001b[0m\u001b[1;33m,\u001b[0m \u001b[0mlabel\u001b[0m\u001b[1;33m)\u001b[0m\u001b[1;33m\u001b[0m\u001b[1;33m\u001b[0m\u001b[0m\n\u001b[0;32m    963\u001b[0m \u001b[1;33m\u001b[0m\u001b[0m\n",
      "\u001b[1;32m~\\Anaconda3\\lib\\site-packages\\pandas\\core\\indexes\\base.py\u001b[0m in \u001b[0;36mget_loc\u001b[1;34m(self, key, method, tolerance)\u001b[0m\n\u001b[0;32m   3080\u001b[0m                 \u001b[1;32mreturn\u001b[0m \u001b[0mself\u001b[0m\u001b[1;33m.\u001b[0m\u001b[0m_engine\u001b[0m\u001b[1;33m.\u001b[0m\u001b[0mget_loc\u001b[0m\u001b[1;33m(\u001b[0m\u001b[0mcasted_key\u001b[0m\u001b[1;33m)\u001b[0m\u001b[1;33m\u001b[0m\u001b[1;33m\u001b[0m\u001b[0m\n\u001b[0;32m   3081\u001b[0m             \u001b[1;32mexcept\u001b[0m \u001b[0mKeyError\u001b[0m \u001b[1;32mas\u001b[0m \u001b[0merr\u001b[0m\u001b[1;33m:\u001b[0m\u001b[1;33m\u001b[0m\u001b[1;33m\u001b[0m\u001b[0m\n\u001b[1;32m-> 3082\u001b[1;33m                 \u001b[1;32mraise\u001b[0m \u001b[0mKeyError\u001b[0m\u001b[1;33m(\u001b[0m\u001b[0mkey\u001b[0m\u001b[1;33m)\u001b[0m \u001b[1;32mfrom\u001b[0m \u001b[0merr\u001b[0m\u001b[1;33m\u001b[0m\u001b[1;33m\u001b[0m\u001b[0m\n\u001b[0m\u001b[0;32m   3083\u001b[0m \u001b[1;33m\u001b[0m\u001b[0m\n\u001b[0;32m   3084\u001b[0m         \u001b[1;32mif\u001b[0m \u001b[0mtolerance\u001b[0m \u001b[1;32mis\u001b[0m \u001b[1;32mnot\u001b[0m \u001b[1;32mNone\u001b[0m\u001b[1;33m:\u001b[0m\u001b[1;33m\u001b[0m\u001b[1;33m\u001b[0m\u001b[0m\n",
      "\u001b[1;31mKeyError\u001b[0m: 1"
     ]
    }
   ],
   "source": [
    "mapp_dataset.DESCRIPTION[1].splitlines()"
   ]
  },
  {
   "cell_type": "code",
   "execution_count": 102,
   "metadata": {},
   "outputs": [
    {
     "data": {
      "text/plain": [
       "\"Submit the following items for Owner approval: 1. Product Data: Manufacturer's catalog cut sheets and other published technical data for each of the following: a. Nameplates, instructions plates, signs and labels. b. Fasteners. 2. Samples: Provide samples of each color, lettering style, and other graphic representation required for identification materials. Provide samples of labels and signs. No material is to be ordered without this approval. 3. Provide a listing of proposed names, abbreviations and other designations used in identification. Provide an electronic copy of the schedule of proposed tags, nameplates and engraving for Owner approval. No material is to be ordered without this approval. 4. Provide a final and complete, electronic listing of all applied tags, nameplates and engravings. 5. Provide a Hand Valve schedule as an electronic version in Microsoft Excel. Mark valves which are intended for emergency shut-off and similar special uses, by special flags, in margin of schedule. Furnish additional copies of schedule for Maintenance Manuals. Valve Schedule shall include the following information: a. Piping system b. System abbreviation (“CW”, “CHWS”, “RO”, “WFI”, etc.) c. Valve identification number d. Location of valve (room or space) e. Type of valve (gate, ball, automatic control, etc.) f. Manufacturer and manufacturer's catalog number g. Indicate valves intended for emergency shutoff or other special use\""
      ]
     },
     "execution_count": 102,
     "metadata": {},
     "output_type": "execute_result"
    }
   ],
   "source": [
    "# Access Last Element of Description\n",
    "# mapp_dataset.loc[len(mapp_dataset) - 1, \"DESCRIPTION\"]"
   ]
  },
  {
   "cell_type": "code",
   "execution_count": 51,
   "metadata": {},
   "outputs": [],
   "source": [
    "# Handle Preceeding Zero of Section\n",
    "mapp_dataset.SECTION = mapp_dataset.SECTION.apply('=\"{}\"'.format)"
   ]
  },
  {
   "cell_type": "code",
   "execution_count": 52,
   "metadata": {},
   "outputs": [],
   "source": [
    "# Generate CSV and Append\n",
    "big_spec_name = \"XOXOXO\"\n",
    "big_spec_name = big_spec_name + \".csv\"\n",
    "file_status = path.exists(big_spec_name)\n",
    "\n",
    "if(file_status):\n",
    "    dataset = pd.read_csv(big_spec_name, dtype = str)\n",
    "    dataset = dataset.append(mapp_dataset, index)\n",
    "    dataset.to_csv(big_spec_name, index = False)\n",
    "else:\n",
    "    mapp_dataset.to_csv(big_spec_name, index = False)"
   ]
  },
  {
   "cell_type": "code",
   "execution_count": 98,
   "metadata": {},
   "outputs": [],
   "source": [
    "## Load Saved Model, Vectorizer and Encoder\n",
    "#\n",
    "with open(\"ML Model/vectorizer.pickle\", 'rb+') as file:\n",
    "    vectorizer_saved = pickle.load(file)\n",
    "\n",
    "with open(\"ML Model/label_encoder.pickle\", 'rb+') as file:\n",
    "    encorder_saved = pickle.load(file)\n",
    "\n",
    "with open(\"ML Model/type_classifier.pickle\", 'rb+') as file:\n",
    "    classifier_saved = pickle.load(file)"
   ]
  },
  {
   "cell_type": "code",
   "execution_count": 100,
   "metadata": {},
   "outputs": [
    {
     "data": {
      "text/plain": [
       "array([4])"
      ]
     },
     "execution_count": 100,
     "metadata": {},
     "output_type": "execute_result"
    }
   ],
   "source": [
    "da = vectorizer_saved.transform([\"NA\"])\n",
    "classifier_saved.predict(da)"
   ]
  },
  {
   "cell_type": "code",
   "execution_count": 18,
   "metadata": {},
   "outputs": [
    {
     "data": {
      "text/html": [
       "<div>\n",
       "<style scoped>\n",
       "    .dataframe tbody tr th:only-of-type {\n",
       "        vertical-align: middle;\n",
       "    }\n",
       "\n",
       "    .dataframe tbody tr th {\n",
       "        vertical-align: top;\n",
       "    }\n",
       "\n",
       "    .dataframe thead th {\n",
       "        text-align: right;\n",
       "    }\n",
       "</style>\n",
       "<table border=\"1\" class=\"dataframe\">\n",
       "  <thead>\n",
       "    <tr style=\"text-align: right;\">\n",
       "      <th></th>\n",
       "      <th>SECTION</th>\n",
       "      <th>SECTION_NAME</th>\n",
       "      <th>PART</th>\n",
       "      <th>SUB SECTION</th>\n",
       "      <th>SUB SECTION HEADING</th>\n",
       "      <th>DECRIPTION</th>\n",
       "    </tr>\n",
       "  </thead>\n",
       "  <tbody>\n",
       "    <tr>\n",
       "      <th>0</th>\n",
       "      <td>27 05 29</td>\n",
       "      <td>HANGERS AND SUPPORTS FOR COMMUNICATIONS SYSTEMS</td>\n",
       "      <td>PART 1 - GENERAL</td>\n",
       "      <td>1.03 A</td>\n",
       "      <td>SUBMITTALS</td>\n",
       "      <td>A. Refer to Section 27 05 00 for requirements ...</td>\n",
       "    </tr>\n",
       "    <tr>\n",
       "      <th>1</th>\n",
       "      <td>27 05 29</td>\n",
       "      <td>HANGERS AND SUPPORTS FOR COMMUNICATIONS SYSTEMS</td>\n",
       "      <td>PART 2 - PRODUCTS</td>\n",
       "      <td>2.02 A</td>\n",
       "      <td>STRUCTURAL SUPPORT SYSTEMS SUBMITTALS</td>\n",
       "      <td>A. Slotted strut supports \\n1. Acceptable manu...</td>\n",
       "    </tr>\n",
       "  </tbody>\n",
       "</table>\n",
       "</div>"
      ],
      "text/plain": [
       "    SECTION                                     SECTION_NAME  \\\n",
       "0  27 05 29  HANGERS AND SUPPORTS FOR COMMUNICATIONS SYSTEMS   \n",
       "1  27 05 29  HANGERS AND SUPPORTS FOR COMMUNICATIONS SYSTEMS   \n",
       "\n",
       "                PART SUB SECTION                    SUB SECTION HEADING  \\\n",
       "0   PART 1 - GENERAL      1.03 A                             SUBMITTALS   \n",
       "1  PART 2 - PRODUCTS      2.02 A  STRUCTURAL SUPPORT SYSTEMS SUBMITTALS   \n",
       "\n",
       "                                          DECRIPTION  \n",
       "0  A. Refer to Section 27 05 00 for requirements ...  \n",
       "1  A. Slotted strut supports \\n1. Acceptable manu...  "
      ]
     },
     "execution_count": 18,
     "metadata": {},
     "output_type": "execute_result"
    }
   ],
   "source": [
    "## Load Prepated Data Data\n",
    "#\n",
    "new_dataset = pd.read_csv(\"YYY.csv\")\n",
    "new_dataset.head()"
   ]
  },
  {
   "cell_type": "code",
   "execution_count": 19,
   "metadata": {},
   "outputs": [],
   "source": [
    "description_vector = vectorizer_saved.transform(new_dataset['DECRIPTION'])\n",
    "predictions = classifier_saved.predict(description_vector)\n",
    "new_dataset['TYPE'] = encorder_saved.inverse_transform(predictions)\n",
    "new_dataset = new_dataset[['SECTION', 'SECTION_NAME', 'PART', 'SUB SECTION', 'SUB SECTION HEADING', 'TYPE','DECRIPTION']]\n",
    "new_dataset.to_csv(\"YYY_Updated.csv\", index = False)"
   ]
  },
  {
   "cell_type": "code",
   "execution_count": 2,
   "metadata": {},
   "outputs": [
    {
     "name": "stderr",
     "output_type": "stream",
     "text": [
      "[NbConvertApp] Converting notebook submittal_extraction_v8.ipynb to script\n",
      "[NbConvertApp] Writing 10120 bytes to submittal_extraction_v8.py\n"
     ]
    }
   ],
   "source": [
    "# !jupyter nbconvert --to script \"submittal_extraction_v9.ipynb\""
   ]
  },
  {
   "cell_type": "code",
   "execution_count": 43,
   "metadata": {},
   "outputs": [
    {
     "name": "stderr",
     "output_type": "stream",
     "text": [
      "[NbConvertApp] Converting notebook submittal_extraction_v9.ipynb to PDFviaHTML\n",
      "[NbConvertApp] Writing 189718 bytes to submittal_extraction_v9.pdf\n"
     ]
    }
   ],
   "source": [
    "# !jupyter nbconvert --to PDFviaHTML \"submittal_extraction_v9.ipynb\"\n"
   ]
  },
  {
   "cell_type": "code",
   "execution_count": 104,
   "metadata": {},
   "outputs": [],
   "source": [
    "if(False):\n",
    "    pass\n",
    "# Else\n",
    "else:\n",
    "    pass"
   ]
  }
 ],
 "metadata": {
  "interpreter": {
   "hash": "34b8bd46980c0826764a5b36ed1c6c81aa64b95fe6c6003f76753dd59089c49f"
  },
  "kernelspec": {
   "display_name": "Python 3.8.8 64-bit ('base': conda)",
   "name": "python3"
  },
  "language_info": {
   "codemirror_mode": {
    "name": "ipython",
    "version": 3
   },
   "file_extension": ".py",
   "mimetype": "text/x-python",
   "name": "python",
   "nbconvert_exporter": "python",
   "pygments_lexer": "ipython3",
   "version": "3.8.8"
  },
  "orig_nbformat": 4
 },
 "nbformat": 4,
 "nbformat_minor": 2
}
